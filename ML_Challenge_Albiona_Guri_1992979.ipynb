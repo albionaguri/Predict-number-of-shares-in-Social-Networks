{
 "cells": [
  {
   "cell_type": "markdown",
   "metadata": {
    "id": "W2lPS9hdGXim"
   },
   "source": [
    "# Machine Learning 2021/2022 - Challenge \n",
    "\n",
    "<hr>\n",
    "\n",
    "# Identification\n"
   ]
  },
  {
   "cell_type": "code",
   "execution_count": 1,
   "metadata": {
    "id": "tQuxF6TlGXi0"
   },
   "outputs": [],
   "source": [
    "yourNameSurname='Albiona Guri' # e.g., yourNameSurname='Mario Rossi'\n",
    "yourMatricolaNumber='1992979' # e.g., yourMatricolaNumber='12345678'\n",
    "yourStudentEMAIL='guri.1992979@studenti.uniroma1.it' # e.g., yourStudentEMAIL='rossim.12345678@studenti.uniroma1.it'"
   ]
  
  
  {
   "cell_type": "markdown",
   "metadata": {
    "id": "v9NIfaB8GXjB"
   },
   "source": [
    "<hr>\n",
    "\n",
    "\n",
    "### Dataset and task Description:\n",
    "<img width='400' src='news-online.jpeg'/>\n",
    "\n",
    "- The challenge is about online news popularity;\n",
    "- The provided dataset consists of one single csv file (\"OnlineNewsPopularity.csv\");\n",
    "- The provided dataset is a modified <b>noisy</b> version of the original dataset described in [1];\n",
    "\n",
    "[1] K. Fernandes, P. Vinagre and P. Cortez. A Proactive Intelligent Decision\n",
    "    Support System for Predicting the Popularity of Online News. Proceedings\n",
    "    of the 17th EPIA 2015 - Portuguese Conference on Artificial Intelligence,\n",
    "    September, Coimbra, Portugal\n",
    "\n",
    "\n",
    "This dataset summarizes a heterogeneous set of features about articles published by Mashable in a period of two years. The goal of the task is to predict the number of shares in social networks (popularity).\n",
    "\n",
    "Number of Instances: <b>39,797</b> \n",
    "\n",
    "Number of Attributes: <b>61</b>\n",
    "\n",
    "Target: <b>shares</b>\n",
    "\n",
    "### Attribute Information:\n",
    "\n",
    "<table>\n",
    " <tr><th> index </th><th>name</th><th>description</th></tr>\n",
    " <tr><td>0</td><td>url</td><td>URL of the article</td></tr>\n",
    " <tr><td>1</td><td>timedelta</td><td>Days between the article publication and the dataset acquisition</td></tr>\n",
    " <tr><td>2</td><td>n_tokens_title</td><td>Number of words in the title</td></tr>\n",
    " <tr><td>3</td><td>n_tokens_content</td><td>Number of words in the content</td></tr>\n",
    " <tr><td>4</td><td>n_unique_tokens</td><td>Rate of unique words in the content</td></tr>\n",
    " <tr><td>5</td><td>n_non_stop_words</td><td>Rate of non-stop words in the content</td></tr>\n",
    " <tr><td>6</td><td>n_non_stop_unique_tokens</td><td>Rate of unique non-stop words in content</td></tr>\n",
    " <tr><td>7</td><td>num_hrefs</td><td>Number of links</td></tr>\n",
    " <tr><td>8</td><td>num_self_hrefs</td><td>Number of links to other articles published by Mashable</td></tr>\n",
    " <tr><td>9</td><td>num_imgs</td><td>Number of images</td></tr>\n",
    " <tr><td>10</td><td>num_videos</td><td>Number of videos</td></tr>\n",
    " <tr><td>11</td><td>average_token_length</td><td>Average length of the words in the content</td></tr>\n",
    " <tr><td>12</td><td>num_keywords</td><td>Number of keywords in the metadata</td></tr>\n",
    " <tr><td>13</td><td>data_channel_is_lifestyle</td><td>Is data channel 'Lifestyle'?</td></tr>\n",
    " <tr><td>14</td><td>data_channel_is_entertainment</td><td>Is data channel 'Entertainment'?</td></tr>\n",
    " <tr><td>15</td><td>data_channel_is_bus</td><td>Is data channel 'Business'?</td></tr>\n",
    " <tr><td>16</td><td>data_channel_is_socmed</td><td>Is data channel 'Social Media'?</td></tr>\n",
    " <tr><td>17</td><td>data_channel_is_tech</td><td>Is data channel 'Tech'?</td></tr>\n",
    " <tr><td>18</td><td>data_channel_is_world</td><td>Is data channel 'World'?</td></tr>\n",
    " <tr><td>19</td><td>kw_min_min</td><td>Worst keyword (min. shares)</td></tr>\n",
    " <tr><td>20</td><td>kw_max_min</td><td>Worst keyword (max. shares)</td></tr>\n",
    " <tr><td>21</td><td>kw_avg_min</td><td>Worst keyword (avg. shares)</td></tr>\n",
    " <tr><td>22</td><td>kw_min_max</td><td>Best keyword (min. shares)</td></tr>\n",
    " <tr><td>23</td><td>kw_max_max</td><td>Best keyword (max. shares)</td></tr>\n",
    " <tr><td>24</td><td>kw_avg_max</td><td>Best keyword (avg. shares)</td></tr>\n",
    " <tr><td>25</td><td>kw_min_avg</td><td>Avg. keyword (min. shares)</td></tr>\n",
    " <tr><td>26</td><td>kw_max_avg</td><td>Avg. keyword (max. shares)</td></tr>\n",
    " <tr><td>27</td><td>kw_avg_avg</td><td>Avg. keyword (avg. shares)</td></tr>\n",
    " <tr><td>28</td><td>self_reference_min_shares</td><td>Min. shares of referenced articles in Mashable</td></tr>\n",
    " <tr><td>29</td><td>self_reference_max_shares</td><td>Max. shares of referenced articles in Mashable</td></tr>\n",
    " <tr><td>30</td><td>self_reference_avg_sharess</td><td>Avg. shares of referenced articles in Mashable</td></tr>\n",
    " <tr><td>31</td><td>weekday_is_monday</td><td>Was the article published on a Monday?</td></tr>\n",
    " <tr><td>32</td><td>weekday_is_tuesday</td><td>Was the article published on a Tuesday?</td></tr>\n",
    " <tr><td>33</td><td>weekday_is_wednesday</td><td>Was the article published on a Wednesday?</td></tr>\n",
    " <tr><td>34</td><td>weekday_is_thursday</td><td>Was the article published on a Thursday?</td></tr>\n",
    " <tr><td>35</td><td>weekday_is_friday</td><td>Was the article published on a Friday?</td></tr>\n",
    " <tr><td>36</td><td>weekday_is_saturday</td><td>Was the article published on a Saturday?</td></tr>\n",
    " <tr><td>37</td><td>weekday_is_sunday</td><td> Was the article published on a Sunday?</td></tr>\n",
    " <tr><td>38</td><td>is_weekend</td><td>Was the article published on the weekend?</td></tr>\n",
    " <tr><td>39</td><td>LDA_00</td><td>Closeness to LDA topic 0</td></tr>\n",
    " <tr><td>40</td><td>LDA_01</td><td>Closeness to LDA topic 1</td></tr>\n",
    " <tr><td>41</td><td>LDA_02</td><td>Closeness to LDA topic 2</td></tr>\n",
    " <tr><td>42</td><td>LDA_03</td><td>Closeness to LDA topic 3</td></tr>\n",
    " <tr><td>43</td><td>LDA_04</td><td>Closeness to LDA topic 4</td></tr>\n",
    " <tr><td>44</td><td>global_subjectivity</td><td>Text subjectivity</td></tr>\n",
    " <tr><td>45</td><td>global_sentiment_polarity</td><td>Text sentiment polarity</td></tr>\n",
    " <tr><td>46</td><td>global_rate_positive_words</td><td>Rate of positive words in the content</td></tr>\n",
    " <tr><td>47</td><td>global_rate_negative_words</td><td> Rate of negative words in the content</td></tr>\n",
    " <tr><td>48</td><td>rate_positive_words</td><td>Rate of positive words among non-neutral tokens</td></tr>\n",
    " <tr><td>49</td><td>rate_negative_words</td><td>Rate of negative words among non-neutral tokens</td></tr>\n",
    " <tr><td>50</td><td>avg_positive_polarity</td><td>Avg. polarity of positive words</td></tr>\n",
    " <tr><td>51</td><td>min_positive_polarity</td><td>Min. polarity of positive words</td></tr>\n",
    " <tr><td>52</td><td>max_positive_polarity</td><td>Max. polarity of positive words</td></tr>\n",
    " <tr><td>53</td><td>avg_negative_polarity</td><td>Avg. polarity of negative words</td></tr>\n",
    " <tr><td>54</td><td>min_negative_polarity</td><td>Min. polarity of negative words</td></tr>\n",
    " <tr><td>55</td><td>max_negative_polarity</td><td>Max. polarity of negative words</td></tr>\n",
    " <tr><td>56</td><td>title_subjectivity</td><td>Title subjectivity</td></tr>\n",
    " <tr><td>57</td><td>title_sentiment_polarity</td><td>Title polarity</td></tr>\n",
    " <tr><td>58</td><td>abs_title_subjectivity</td><td>Absolute subjectivity level</td></tr>\n",
    " <tr><td>59</td><td>abs_title_sentiment_polarity</td><td>Absolute polarity level</td></tr>\n",
    "     <tr><td>60</td><td>shares</td><td>Number of shares (target)</td></tr>\n",
    "</table>\n",
    "\n"
   ]
  },
  {
   "cell_type": "markdown",
   "metadata": {
    "id": "44o2ttcBGXjQ"
   },
   "source": [
    "<hr>\n",
    "\n",
    "# 2. Pre-processing (up to 3 of 11.2 points)     \n",
    "     \n",
    "     \n",
    "## 2.1 Clean and Load the Dataset (up to 1 of 11.2 points)\n",
    "Use the following two cells (a code cell and, a markdown cell) to: \n",
    "- create a pandas DataFrame by loading a cleaned version of the \"OnlineNewsPopularity.cvs\" file.  \n",
    "- describe the identified noise and the methodology used to fix the problems. "
   ]
  },
  {
   "cell_type": "code",
   "execution_count": 2,
   "metadata": {},
   "outputs": [],
   "source": [
    "# I imported the libraries to be used throughout the whole data pre-processing of the dataset.\n",
    "\n",
    "import pandas as pd\n",
    "import numpy as np\n",
    "import matplotlib.pyplot as plt\n",
    "import seaborn as sns"
   ]
  },
  {
   "cell_type": "code",
   "execution_count": 3,
   "metadata": {
    "id": "JuLhtbJzGXjT"
   },
   "outputs": [
    {
     "name": "stderr",
     "output_type": "stream",
     "text": [
      "C:\\Anaconda3\\lib\\site-packages\\IPython\\core\\interactiveshell.py:3444: DtypeWarning: Columns (9,10,37,60) have mixed types.Specify dtype option on import or set low_memory=False.\n",
      "  exec(code_obj, self.user_global_ns, self.user_ns)\n"
     ]
    },
    {
     "data": {
      "text/html": [
       "<div>\n",
       "<style scoped>\n",
       "    .dataframe tbody tr th:only-of-type {\n",
       "        vertical-align: middle;\n",
       "    }\n",
       "\n",
       "    .dataframe tbody tr th {\n",
       "        vertical-align: top;\n",
       "    }\n",
       "\n",
       "    .dataframe thead th {\n",
       "        text-align: right;\n",
       "    }\n",
       "</style>\n",
       "<table border=\"1\" class=\"dataframe\">\n",
       "  <thead>\n",
       "    <tr style=\"text-align: right;\">\n",
       "      <th></th>\n",
       "      <th>url</th>\n",
       "      <th>timedelta</th>\n",
       "      <th>n_tokens_title</th>\n",
       "      <th>n_tokens_content</th>\n",
       "      <th>n_unique_tokens</th>\n",
       "      <th>n_non_stop_words</th>\n",
       "      <th>n_non_stop_unique_tokens</th>\n",
       "      <th>num_hrefs</th>\n",
       "      <th>num_self_hrefs</th>\n",
       "      <th>num_imgs</th>\n",
       "      <th>...</th>\n",
       "      <th>min_positive_polarity</th>\n",
       "      <th>max_positive_polarity</th>\n",
       "      <th>avg_negative_polarity</th>\n",
       "      <th>min_negative_polarity</th>\n",
       "      <th>max_negative_polarity</th>\n",
       "      <th>title_subjectivity</th>\n",
       "      <th>title_sentiment_polarity</th>\n",
       "      <th>abs_title_subjectivity</th>\n",
       "      <th>abs_title_sentiment_polarity</th>\n",
       "      <th>shares</th>\n",
       "    </tr>\n",
       "  </thead>\n",
       "  <tbody>\n",
       "    <tr>\n",
       "      <th>0</th>\n",
       "      <td>http://mashable.com/2013/01/07/amazon-instant-...</td>\n",
       "      <td>731.0</td>\n",
       "      <td>12.0</td>\n",
       "      <td>219.0</td>\n",
       "      <td>0.663594</td>\n",
       "      <td>1.0</td>\n",
       "      <td>0.815385</td>\n",
       "      <td>4.0</td>\n",
       "      <td>2.0</td>\n",
       "      <td>1.0</td>\n",
       "      <td>...</td>\n",
       "      <td>0.100000</td>\n",
       "      <td>0.7</td>\n",
       "      <td>-0.350000</td>\n",
       "      <td>-0.600</td>\n",
       "      <td>-0.200000</td>\n",
       "      <td>0.500000</td>\n",
       "      <td>-0.187500</td>\n",
       "      <td>0.000000</td>\n",
       "      <td>0.187500</td>\n",
       "      <td>593</td>\n",
       "    </tr>\n",
       "    <tr>\n",
       "      <th>1</th>\n",
       "      <td>http://mashable.com/2013/01/07/ap-samsung-spon...</td>\n",
       "      <td>731.0</td>\n",
       "      <td>9.0</td>\n",
       "      <td>255.0</td>\n",
       "      <td>0.604743</td>\n",
       "      <td>1.0</td>\n",
       "      <td>0.791946</td>\n",
       "      <td>3.0</td>\n",
       "      <td>1.0</td>\n",
       "      <td>1.0</td>\n",
       "      <td>...</td>\n",
       "      <td>0.033333</td>\n",
       "      <td>0.7</td>\n",
       "      <td>-0.118750</td>\n",
       "      <td>-0.125</td>\n",
       "      <td>-0.100000</td>\n",
       "      <td>0.000000</td>\n",
       "      <td>0.000000</td>\n",
       "      <td>0.500000</td>\n",
       "      <td>0.000000</td>\n",
       "      <td>711</td>\n",
       "    </tr>\n",
       "    <tr>\n",
       "      <th>2</th>\n",
       "      <td>http://mashable.com/2013/01/07/apple-40-billio...</td>\n",
       "      <td>731.0</td>\n",
       "      <td>9.0</td>\n",
       "      <td>211.0</td>\n",
       "      <td>0.575130</td>\n",
       "      <td>1.0</td>\n",
       "      <td>0.663866</td>\n",
       "      <td>3.0</td>\n",
       "      <td>1.0</td>\n",
       "      <td>1.0</td>\n",
       "      <td>...</td>\n",
       "      <td>0.100000</td>\n",
       "      <td>1.0</td>\n",
       "      <td>-0.466667</td>\n",
       "      <td>-0.800</td>\n",
       "      <td>-0.133333</td>\n",
       "      <td>0.000000</td>\n",
       "      <td>0.000000</td>\n",
       "      <td>0.500000</td>\n",
       "      <td>0.000000</td>\n",
       "      <td>1500</td>\n",
       "    </tr>\n",
       "    <tr>\n",
       "      <th>3</th>\n",
       "      <td>http://mashable.com/2013/01/07/astronaut-notre...</td>\n",
       "      <td>731.0</td>\n",
       "      <td>9.0</td>\n",
       "      <td>531.0</td>\n",
       "      <td>0.503788</td>\n",
       "      <td>1.0</td>\n",
       "      <td>0.665635</td>\n",
       "      <td>9.0</td>\n",
       "      <td>0.0</td>\n",
       "      <td>1.0</td>\n",
       "      <td>...</td>\n",
       "      <td>0.136364</td>\n",
       "      <td>0.8</td>\n",
       "      <td>-0.369697</td>\n",
       "      <td>-0.600</td>\n",
       "      <td>-0.166667</td>\n",
       "      <td>0.000000</td>\n",
       "      <td>0.000000</td>\n",
       "      <td>0.500000</td>\n",
       "      <td>0.000000</td>\n",
       "      <td>1200</td>\n",
       "    </tr>\n",
       "    <tr>\n",
       "      <th>4</th>\n",
       "      <td>http://mashable.com/2013/01/07/att-u-verse-apps/</td>\n",
       "      <td>731.0</td>\n",
       "      <td>13.0</td>\n",
       "      <td>1072.0</td>\n",
       "      <td>0.415646</td>\n",
       "      <td>1.0</td>\n",
       "      <td>0.540890</td>\n",
       "      <td>19.0</td>\n",
       "      <td>19.0</td>\n",
       "      <td>20.0</td>\n",
       "      <td>...</td>\n",
       "      <td>0.033333</td>\n",
       "      <td>1.0</td>\n",
       "      <td>-0.220192</td>\n",
       "      <td>-0.500</td>\n",
       "      <td>-0.050000</td>\n",
       "      <td>0.454545</td>\n",
       "      <td>0.136364</td>\n",
       "      <td>0.045455</td>\n",
       "      <td>0.136364</td>\n",
       "      <td>505</td>\n",
       "    </tr>\n",
       "  </tbody>\n",
       "</table>\n",
       "<p>5 rows × 61 columns</p>\n",
       "</div>"
      ],
      "text/plain": [
       "                                                 url   timedelta  \\\n",
       "0  http://mashable.com/2013/01/07/amazon-instant-...       731.0   \n",
       "1  http://mashable.com/2013/01/07/ap-samsung-spon...       731.0   \n",
       "2  http://mashable.com/2013/01/07/apple-40-billio...       731.0   \n",
       "3  http://mashable.com/2013/01/07/astronaut-notre...       731.0   \n",
       "4   http://mashable.com/2013/01/07/att-u-verse-apps/       731.0   \n",
       "\n",
       "    n_tokens_title   n_tokens_content   n_unique_tokens   n_non_stop_words  \\\n",
       "0             12.0              219.0          0.663594                1.0   \n",
       "1              9.0              255.0          0.604743                1.0   \n",
       "2              9.0              211.0          0.575130                1.0   \n",
       "3              9.0              531.0          0.503788                1.0   \n",
       "4             13.0             1072.0          0.415646                1.0   \n",
       "\n",
       "    n_non_stop_unique_tokens   num_hrefs   num_self_hrefs  num_imgs  ...  \\\n",
       "0                   0.815385         4.0              2.0       1.0  ...   \n",
       "1                   0.791946         3.0              1.0       1.0  ...   \n",
       "2                   0.663866         3.0              1.0       1.0  ...   \n",
       "3                   0.665635         9.0              0.0       1.0  ...   \n",
       "4                   0.540890        19.0             19.0      20.0  ...   \n",
       "\n",
       "   min_positive_polarity   max_positive_polarity   avg_negative_polarity  \\\n",
       "0               0.100000                     0.7               -0.350000   \n",
       "1               0.033333                     0.7               -0.118750   \n",
       "2               0.100000                     1.0               -0.466667   \n",
       "3               0.136364                     0.8               -0.369697   \n",
       "4               0.033333                     1.0               -0.220192   \n",
       "\n",
       "    min_negative_polarity   max_negative_polarity   title_subjectivity  \\\n",
       "0                  -0.600               -0.200000             0.500000   \n",
       "1                  -0.125               -0.100000             0.000000   \n",
       "2                  -0.800               -0.133333             0.000000   \n",
       "3                  -0.600               -0.166667             0.000000   \n",
       "4                  -0.500               -0.050000             0.454545   \n",
       "\n",
       "    title_sentiment_polarity   abs_title_subjectivity  \\\n",
       "0                  -0.187500                 0.000000   \n",
       "1                   0.000000                 0.500000   \n",
       "2                   0.000000                 0.500000   \n",
       "3                   0.000000                 0.500000   \n",
       "4                   0.136364                 0.045455   \n",
       "\n",
       "    abs_title_sentiment_polarity   shares  \n",
       "0                       0.187500      593  \n",
       "1                       0.000000      711  \n",
       "2                       0.000000     1500  \n",
       "3                       0.000000     1200  \n",
       "4                       0.136364      505  \n",
       "\n",
       "[5 rows x 61 columns]"
      ]
     },
     "execution_count": 3,
     "metadata": {},
     "output_type": "execute_result"
    }
   ],
   "source": [
    "# write here the code for 2.1 Load the Dataset\n",
    "\n",
    "df = pd.read_csv('OnlineNewsPopularity.csv', usecols=list(range(0,61)))\n",
    "df.head()"
   ]
  },
  {
   "cell_type": "markdown",
   "metadata": {
    "id": "ZjVVUEM4GXjV"
   },
   "source": [
    "your comments for step 2.1 Clean and Load the Dataset \n",
    "\n",
    "* First I tried to load the \"OnlineNewsPopularity.cvs\" file in the notebook using the read_csv function of pandas library. I noticed that the dataset could not be read immediately, because it contained an extra column (62 from 61 fields) or differently called, it contained noise.\n",
    "* The methodology I used to fix this problem is that I chose the usecols parameter to return a list from the dataset in a range starting from 0 to 61, without including the last one(62). So there are only 61 columns remained. \n",
    "* Now I can load perfectly the dataset and see the first 5 rows using the head function. \n",
    "\n",
    "- I have solved and explained other types of noises in the snippets below.\n"
   ]
  },
  {
   "cell_type": "markdown",
   "metadata": {
    "id": "rupBXFGGGXjZ"
   },
   "source": [
    "## 2.2 Dataset Analysis (up to 1 of 11.2 points)\n",
    "In the following code cell (feel free to create new cells), remember to comment your code snippets:\n",
    "\n",
    "1) Print the total number of samples;\n",
    "\n",
    "2) Print a table with the first 15 samples;\n",
    "\n",
    "3) Plot the histogram distribution of \"shares\";\n",
    "\n",
    "4) A bar chart counting the attributes:  data_channel_is_lifestyle, data_channel_is_entertainment, data_channel_is_bus, data_channel_is_socmed, data_channel_is_tech, data_channel_is_world;\n",
    "\n"
   ]
  },
  {
   "cell_type": "markdown",
   "metadata": {},
   "source": [
    "1) The shape function outputs a tuple, so I accessed the first value with index 0, which represents the number of rows.\n"
   ]
  },
  {
   "cell_type": "code",
   "execution_count": 4,
   "metadata": {
    "id": "wyeSJu14GXjc"
   },
   "outputs": [
    {
     "data": {
      "text/plain": [
       "39648"
      ]
     },
     "execution_count": 4,
     "metadata": {},
     "output_type": "execute_result"
    }
   ],
   "source": [
    "# write here the code for 2.2 Dataset Analysis\n",
    "df.shape[0]\n"
   ]
  },
  {
   "cell_type": "markdown",
   "metadata": {},
   "source": [
    "2) I put as a parameter of the head function the number 15 to print first 15 samples (from 0 to 14). \n",
    "   As a default it prints only the 5 rows (from 0 to 4).\n"
   ]
  },
  {
   "cell_type": "code",
   "execution_count": 5,
   "metadata": {},
   "outputs": [
    {
     "data": {
      "text/html": [
       "<div>\n",
       "<style scoped>\n",
       "    .dataframe tbody tr th:only-of-type {\n",
       "        vertical-align: middle;\n",
       "    }\n",
       "\n",
       "    .dataframe tbody tr th {\n",
       "        vertical-align: top;\n",
       "    }\n",
       "\n",
       "    .dataframe thead th {\n",
       "        text-align: right;\n",
       "    }\n",
       "</style>\n",
       "<table border=\"1\" class=\"dataframe\">\n",
       "  <thead>\n",
       "    <tr style=\"text-align: right;\">\n",
       "      <th></th>\n",
       "      <th>url</th>\n",
       "      <th>timedelta</th>\n",
       "      <th>n_tokens_title</th>\n",
       "      <th>n_tokens_content</th>\n",
       "      <th>n_unique_tokens</th>\n",
       "      <th>n_non_stop_words</th>\n",
       "      <th>n_non_stop_unique_tokens</th>\n",
       "      <th>num_hrefs</th>\n",
       "      <th>num_self_hrefs</th>\n",
       "      <th>num_imgs</th>\n",
       "      <th>...</th>\n",
       "      <th>min_positive_polarity</th>\n",
       "      <th>max_positive_polarity</th>\n",
       "      <th>avg_negative_polarity</th>\n",
       "      <th>min_negative_polarity</th>\n",
       "      <th>max_negative_polarity</th>\n",
       "      <th>title_subjectivity</th>\n",
       "      <th>title_sentiment_polarity</th>\n",
       "      <th>abs_title_subjectivity</th>\n",
       "      <th>abs_title_sentiment_polarity</th>\n",
       "      <th>shares</th>\n",
       "    </tr>\n",
       "  </thead>\n",
       "  <tbody>\n",
       "    <tr>\n",
       "      <th>0</th>\n",
       "      <td>http://mashable.com/2013/01/07/amazon-instant-...</td>\n",
       "      <td>731.0</td>\n",
       "      <td>12.0</td>\n",
       "      <td>219.0</td>\n",
       "      <td>0.663594</td>\n",
       "      <td>1.0</td>\n",
       "      <td>0.815385</td>\n",
       "      <td>4.0</td>\n",
       "      <td>2.0</td>\n",
       "      <td>1.0</td>\n",
       "      <td>...</td>\n",
       "      <td>0.100000</td>\n",
       "      <td>0.7</td>\n",
       "      <td>-0.350000</td>\n",
       "      <td>-0.6000</td>\n",
       "      <td>-0.200000</td>\n",
       "      <td>0.500000</td>\n",
       "      <td>-0.187500</td>\n",
       "      <td>0.000000</td>\n",
       "      <td>0.187500</td>\n",
       "      <td>593</td>\n",
       "    </tr>\n",
       "    <tr>\n",
       "      <th>1</th>\n",
       "      <td>http://mashable.com/2013/01/07/ap-samsung-spon...</td>\n",
       "      <td>731.0</td>\n",
       "      <td>9.0</td>\n",
       "      <td>255.0</td>\n",
       "      <td>0.604743</td>\n",
       "      <td>1.0</td>\n",
       "      <td>0.791946</td>\n",
       "      <td>3.0</td>\n",
       "      <td>1.0</td>\n",
       "      <td>1.0</td>\n",
       "      <td>...</td>\n",
       "      <td>0.033333</td>\n",
       "      <td>0.7</td>\n",
       "      <td>-0.118750</td>\n",
       "      <td>-0.1250</td>\n",
       "      <td>-0.100000</td>\n",
       "      <td>0.000000</td>\n",
       "      <td>0.000000</td>\n",
       "      <td>0.500000</td>\n",
       "      <td>0.000000</td>\n",
       "      <td>711</td>\n",
       "    </tr>\n",
       "    <tr>\n",
       "      <th>2</th>\n",
       "      <td>http://mashable.com/2013/01/07/apple-40-billio...</td>\n",
       "      <td>731.0</td>\n",
       "      <td>9.0</td>\n",
       "      <td>211.0</td>\n",
       "      <td>0.575130</td>\n",
       "      <td>1.0</td>\n",
       "      <td>0.663866</td>\n",
       "      <td>3.0</td>\n",
       "      <td>1.0</td>\n",
       "      <td>1.0</td>\n",
       "      <td>...</td>\n",
       "      <td>0.100000</td>\n",
       "      <td>1.0</td>\n",
       "      <td>-0.466667</td>\n",
       "      <td>-0.8000</td>\n",
       "      <td>-0.133333</td>\n",
       "      <td>0.000000</td>\n",
       "      <td>0.000000</td>\n",
       "      <td>0.500000</td>\n",
       "      <td>0.000000</td>\n",
       "      <td>1500</td>\n",
       "    </tr>\n",
       "    <tr>\n",
       "      <th>3</th>\n",
       "      <td>http://mashable.com/2013/01/07/astronaut-notre...</td>\n",
       "      <td>731.0</td>\n",
       "      <td>9.0</td>\n",
       "      <td>531.0</td>\n",
       "      <td>0.503788</td>\n",
       "      <td>1.0</td>\n",
       "      <td>0.665635</td>\n",
       "      <td>9.0</td>\n",
       "      <td>0.0</td>\n",
       "      <td>1.0</td>\n",
       "      <td>...</td>\n",
       "      <td>0.136364</td>\n",
       "      <td>0.8</td>\n",
       "      <td>-0.369697</td>\n",
       "      <td>-0.6000</td>\n",
       "      <td>-0.166667</td>\n",
       "      <td>0.000000</td>\n",
       "      <td>0.000000</td>\n",
       "      <td>0.500000</td>\n",
       "      <td>0.000000</td>\n",
       "      <td>1200</td>\n",
       "    </tr>\n",
       "    <tr>\n",
       "      <th>4</th>\n",
       "      <td>http://mashable.com/2013/01/07/att-u-verse-apps/</td>\n",
       "      <td>731.0</td>\n",
       "      <td>13.0</td>\n",
       "      <td>1072.0</td>\n",
       "      <td>0.415646</td>\n",
       "      <td>1.0</td>\n",
       "      <td>0.540890</td>\n",
       "      <td>19.0</td>\n",
       "      <td>19.0</td>\n",
       "      <td>20.0</td>\n",
       "      <td>...</td>\n",
       "      <td>0.033333</td>\n",
       "      <td>1.0</td>\n",
       "      <td>-0.220192</td>\n",
       "      <td>-0.5000</td>\n",
       "      <td>-0.050000</td>\n",
       "      <td>0.454545</td>\n",
       "      <td>0.136364</td>\n",
       "      <td>0.045455</td>\n",
       "      <td>0.136364</td>\n",
       "      <td>505</td>\n",
       "    </tr>\n",
       "    <tr>\n",
       "      <th>5</th>\n",
       "      <td>http://mashable.com/2013/01/07/beewi-smart-toys/</td>\n",
       "      <td>731.0</td>\n",
       "      <td>10.0</td>\n",
       "      <td>370.0</td>\n",
       "      <td>0.559889</td>\n",
       "      <td>1.0</td>\n",
       "      <td>0.698198</td>\n",
       "      <td>2.0</td>\n",
       "      <td>2.0</td>\n",
       "      <td>0.0</td>\n",
       "      <td>...</td>\n",
       "      <td>0.136364</td>\n",
       "      <td>0.6</td>\n",
       "      <td>-0.195000</td>\n",
       "      <td>-0.4000</td>\n",
       "      <td>-0.100000</td>\n",
       "      <td>0.642857</td>\n",
       "      <td>0.214286</td>\n",
       "      <td>0.142857</td>\n",
       "      <td>0.214286</td>\n",
       "      <td>855</td>\n",
       "    </tr>\n",
       "    <tr>\n",
       "      <th>6</th>\n",
       "      <td>http://mashable.com/2013/01/07/bodymedia-armba...</td>\n",
       "      <td>731.0</td>\n",
       "      <td>8.0</td>\n",
       "      <td>960.0</td>\n",
       "      <td>0.418163</td>\n",
       "      <td>1.0</td>\n",
       "      <td>0.549834</td>\n",
       "      <td>21.0</td>\n",
       "      <td>20.0</td>\n",
       "      <td>20.0</td>\n",
       "      <td>...</td>\n",
       "      <td>0.100000</td>\n",
       "      <td>1.0</td>\n",
       "      <td>-0.224479</td>\n",
       "      <td>-0.5000</td>\n",
       "      <td>-0.050000</td>\n",
       "      <td>0.000000</td>\n",
       "      <td>0.000000</td>\n",
       "      <td>0.500000</td>\n",
       "      <td>0.000000</td>\n",
       "      <td>556</td>\n",
       "    </tr>\n",
       "    <tr>\n",
       "      <th>7</th>\n",
       "      <td>http://mashable.com/2013/01/07/canon-poweshot-n/</td>\n",
       "      <td>731.0</td>\n",
       "      <td>12.0</td>\n",
       "      <td>989.0</td>\n",
       "      <td>0.433574</td>\n",
       "      <td>1.0</td>\n",
       "      <td>0.572108</td>\n",
       "      <td>20.0</td>\n",
       "      <td>20.0</td>\n",
       "      <td>20.0</td>\n",
       "      <td>...</td>\n",
       "      <td>0.100000</td>\n",
       "      <td>1.0</td>\n",
       "      <td>-0.242778</td>\n",
       "      <td>-0.5000</td>\n",
       "      <td>-0.050000</td>\n",
       "      <td>1.000000</td>\n",
       "      <td>0.500000</td>\n",
       "      <td>0.500000</td>\n",
       "      <td>0.500000</td>\n",
       "      <td>891</td>\n",
       "    </tr>\n",
       "    <tr>\n",
       "      <th>8</th>\n",
       "      <td>http://mashable.com/2013/01/07/car-of-the-futu...</td>\n",
       "      <td>731.0</td>\n",
       "      <td>11.0</td>\n",
       "      <td>97.0</td>\n",
       "      <td>0.670103</td>\n",
       "      <td>1.0</td>\n",
       "      <td>0.836735</td>\n",
       "      <td>2.0</td>\n",
       "      <td>0.0</td>\n",
       "      <td>0.0</td>\n",
       "      <td>...</td>\n",
       "      <td>0.400000</td>\n",
       "      <td>0.8</td>\n",
       "      <td>-0.125000</td>\n",
       "      <td>-0.1250</td>\n",
       "      <td>-0.125000</td>\n",
       "      <td>0.125000</td>\n",
       "      <td>0.000000</td>\n",
       "      <td>0.375000</td>\n",
       "      <td>0.000000</td>\n",
       "      <td>3600</td>\n",
       "    </tr>\n",
       "    <tr>\n",
       "      <th>9</th>\n",
       "      <td>http://mashable.com/2013/01/07/chuck-hagel-web...</td>\n",
       "      <td>731.0</td>\n",
       "      <td>10.0</td>\n",
       "      <td>231.0</td>\n",
       "      <td>0.636364</td>\n",
       "      <td>1.0</td>\n",
       "      <td>0.797101</td>\n",
       "      <td>4.0</td>\n",
       "      <td>1.0</td>\n",
       "      <td>1.0</td>\n",
       "      <td>...</td>\n",
       "      <td>0.100000</td>\n",
       "      <td>0.5</td>\n",
       "      <td>-0.238095</td>\n",
       "      <td>-0.5000</td>\n",
       "      <td>-0.100000</td>\n",
       "      <td>0.000000</td>\n",
       "      <td>0.000000</td>\n",
       "      <td>0.500000</td>\n",
       "      <td>0.000000</td>\n",
       "      <td>710</td>\n",
       "    </tr>\n",
       "    <tr>\n",
       "      <th>10</th>\n",
       "      <td>http://mashable.com/2013/01/07/cosmic-events-d...</td>\n",
       "      <td>731.0</td>\n",
       "      <td>9.0</td>\n",
       "      <td>1248.0</td>\n",
       "      <td>0.490050</td>\n",
       "      <td>1.0</td>\n",
       "      <td>0.731638</td>\n",
       "      <td>11.0</td>\n",
       "      <td>0.0</td>\n",
       "      <td>1.0</td>\n",
       "      <td>...</td>\n",
       "      <td>0.100000</td>\n",
       "      <td>1.0</td>\n",
       "      <td>-0.415064</td>\n",
       "      <td>-1.0000</td>\n",
       "      <td>-0.100000</td>\n",
       "      <td>0.000000</td>\n",
       "      <td>0.000000</td>\n",
       "      <td>0.500000</td>\n",
       "      <td>0.000000</td>\n",
       "      <td>2200</td>\n",
       "    </tr>\n",
       "    <tr>\n",
       "      <th>11</th>\n",
       "      <td>http://mashable.com/2013/01/07/crayon-creatures/</td>\n",
       "      <td>731.0</td>\n",
       "      <td>10.0</td>\n",
       "      <td>187.0</td>\n",
       "      <td>0.666667</td>\n",
       "      <td>1.0</td>\n",
       "      <td>0.800000</td>\n",
       "      <td>7.0</td>\n",
       "      <td>0.0</td>\n",
       "      <td>1.0</td>\n",
       "      <td>...</td>\n",
       "      <td>0.200000</td>\n",
       "      <td>0.7</td>\n",
       "      <td>-0.262500</td>\n",
       "      <td>-0.4000</td>\n",
       "      <td>-0.125000</td>\n",
       "      <td>0.000000</td>\n",
       "      <td>0.000000</td>\n",
       "      <td>0.500000</td>\n",
       "      <td>0.000000</td>\n",
       "      <td>1900</td>\n",
       "    </tr>\n",
       "    <tr>\n",
       "      <th>12</th>\n",
       "      <td>http://mashable.com/2013/01/07/creature-cups/</td>\n",
       "      <td>731.0</td>\n",
       "      <td>9.0</td>\n",
       "      <td>274.0</td>\n",
       "      <td>0.609195</td>\n",
       "      <td>1.0</td>\n",
       "      <td>0.707602</td>\n",
       "      <td>18.0</td>\n",
       "      <td>2.0</td>\n",
       "      <td>11.0</td>\n",
       "      <td>...</td>\n",
       "      <td>0.200000</td>\n",
       "      <td>0.7</td>\n",
       "      <td>-0.310417</td>\n",
       "      <td>-0.6000</td>\n",
       "      <td>-0.050000</td>\n",
       "      <td>1.000000</td>\n",
       "      <td>-1.000000</td>\n",
       "      <td>0.500000</td>\n",
       "      <td>1.000000</td>\n",
       "      <td>823</td>\n",
       "    </tr>\n",
       "    <tr>\n",
       "      <th>13</th>\n",
       "      <td>http://mashable.com/2013/01/07/dad-jokes/</td>\n",
       "      <td>731.0</td>\n",
       "      <td>9.0</td>\n",
       "      <td>285.0</td>\n",
       "      <td>0.744186</td>\n",
       "      <td>1.0</td>\n",
       "      <td>0.841530</td>\n",
       "      <td>4.0</td>\n",
       "      <td>2.0</td>\n",
       "      <td>0.0</td>\n",
       "      <td>...</td>\n",
       "      <td>0.160000</td>\n",
       "      <td>1.0</td>\n",
       "      <td>-0.337889</td>\n",
       "      <td>-0.7000</td>\n",
       "      <td>-0.100000</td>\n",
       "      <td>1.000000</td>\n",
       "      <td>-1.000000</td>\n",
       "      <td>0.500000</td>\n",
       "      <td>1.000000</td>\n",
       "      <td>10000</td>\n",
       "    </tr>\n",
       "    <tr>\n",
       "      <th>14</th>\n",
       "      <td>http://mashable.com/2013/01/07/downton-abbey-t...</td>\n",
       "      <td>731.0</td>\n",
       "      <td>8.0</td>\n",
       "      <td>259.0</td>\n",
       "      <td>0.562753</td>\n",
       "      <td>1.0</td>\n",
       "      <td>0.644444</td>\n",
       "      <td>19.0</td>\n",
       "      <td>3.0</td>\n",
       "      <td>9.0</td>\n",
       "      <td>...</td>\n",
       "      <td>0.136364</td>\n",
       "      <td>0.5</td>\n",
       "      <td>-0.138690</td>\n",
       "      <td>-0.1875</td>\n",
       "      <td>-0.050000</td>\n",
       "      <td>0.750000</td>\n",
       "      <td>0.550000</td>\n",
       "      <td>0.250000</td>\n",
       "      <td>0.550000</td>\n",
       "      <td>761</td>\n",
       "    </tr>\n",
       "  </tbody>\n",
       "</table>\n",
       "<p>15 rows × 61 columns</p>\n",
       "</div>"
      ],
      "text/plain": [
       "                                                  url   timedelta  \\\n",
       "0   http://mashable.com/2013/01/07/amazon-instant-...       731.0   \n",
       "1   http://mashable.com/2013/01/07/ap-samsung-spon...       731.0   \n",
       "2   http://mashable.com/2013/01/07/apple-40-billio...       731.0   \n",
       "3   http://mashable.com/2013/01/07/astronaut-notre...       731.0   \n",
       "4    http://mashable.com/2013/01/07/att-u-verse-apps/       731.0   \n",
       "5    http://mashable.com/2013/01/07/beewi-smart-toys/       731.0   \n",
       "6   http://mashable.com/2013/01/07/bodymedia-armba...       731.0   \n",
       "7    http://mashable.com/2013/01/07/canon-poweshot-n/       731.0   \n",
       "8   http://mashable.com/2013/01/07/car-of-the-futu...       731.0   \n",
       "9   http://mashable.com/2013/01/07/chuck-hagel-web...       731.0   \n",
       "10  http://mashable.com/2013/01/07/cosmic-events-d...       731.0   \n",
       "11   http://mashable.com/2013/01/07/crayon-creatures/       731.0   \n",
       "12      http://mashable.com/2013/01/07/creature-cups/       731.0   \n",
       "13          http://mashable.com/2013/01/07/dad-jokes/       731.0   \n",
       "14  http://mashable.com/2013/01/07/downton-abbey-t...       731.0   \n",
       "\n",
       "     n_tokens_title   n_tokens_content   n_unique_tokens   n_non_stop_words  \\\n",
       "0              12.0              219.0          0.663594                1.0   \n",
       "1               9.0              255.0          0.604743                1.0   \n",
       "2               9.0              211.0          0.575130                1.0   \n",
       "3               9.0              531.0          0.503788                1.0   \n",
       "4              13.0             1072.0          0.415646                1.0   \n",
       "5              10.0              370.0          0.559889                1.0   \n",
       "6               8.0              960.0          0.418163                1.0   \n",
       "7              12.0              989.0          0.433574                1.0   \n",
       "8              11.0               97.0          0.670103                1.0   \n",
       "9              10.0              231.0          0.636364                1.0   \n",
       "10              9.0             1248.0          0.490050                1.0   \n",
       "11             10.0              187.0          0.666667                1.0   \n",
       "12              9.0              274.0          0.609195                1.0   \n",
       "13              9.0              285.0          0.744186                1.0   \n",
       "14              8.0              259.0          0.562753                1.0   \n",
       "\n",
       "     n_non_stop_unique_tokens   num_hrefs   num_self_hrefs  num_imgs  ...  \\\n",
       "0                    0.815385         4.0              2.0       1.0  ...   \n",
       "1                    0.791946         3.0              1.0       1.0  ...   \n",
       "2                    0.663866         3.0              1.0       1.0  ...   \n",
       "3                    0.665635         9.0              0.0       1.0  ...   \n",
       "4                    0.540890        19.0             19.0      20.0  ...   \n",
       "5                    0.698198         2.0              2.0       0.0  ...   \n",
       "6                    0.549834        21.0             20.0      20.0  ...   \n",
       "7                    0.572108        20.0             20.0      20.0  ...   \n",
       "8                    0.836735         2.0              0.0       0.0  ...   \n",
       "9                    0.797101         4.0              1.0       1.0  ...   \n",
       "10                   0.731638        11.0              0.0       1.0  ...   \n",
       "11                   0.800000         7.0              0.0       1.0  ...   \n",
       "12                   0.707602        18.0              2.0      11.0  ...   \n",
       "13                   0.841530         4.0              2.0       0.0  ...   \n",
       "14                   0.644444        19.0              3.0       9.0  ...   \n",
       "\n",
       "    min_positive_polarity   max_positive_polarity   avg_negative_polarity  \\\n",
       "0                0.100000                     0.7               -0.350000   \n",
       "1                0.033333                     0.7               -0.118750   \n",
       "2                0.100000                     1.0               -0.466667   \n",
       "3                0.136364                     0.8               -0.369697   \n",
       "4                0.033333                     1.0               -0.220192   \n",
       "5                0.136364                     0.6               -0.195000   \n",
       "6                0.100000                     1.0               -0.224479   \n",
       "7                0.100000                     1.0               -0.242778   \n",
       "8                0.400000                     0.8               -0.125000   \n",
       "9                0.100000                     0.5               -0.238095   \n",
       "10               0.100000                     1.0               -0.415064   \n",
       "11               0.200000                     0.7               -0.262500   \n",
       "12               0.200000                     0.7               -0.310417   \n",
       "13               0.160000                     1.0               -0.337889   \n",
       "14               0.136364                     0.5               -0.138690   \n",
       "\n",
       "     min_negative_polarity   max_negative_polarity   title_subjectivity  \\\n",
       "0                  -0.6000               -0.200000             0.500000   \n",
       "1                  -0.1250               -0.100000             0.000000   \n",
       "2                  -0.8000               -0.133333             0.000000   \n",
       "3                  -0.6000               -0.166667             0.000000   \n",
       "4                  -0.5000               -0.050000             0.454545   \n",
       "5                  -0.4000               -0.100000             0.642857   \n",
       "6                  -0.5000               -0.050000             0.000000   \n",
       "7                  -0.5000               -0.050000             1.000000   \n",
       "8                  -0.1250               -0.125000             0.125000   \n",
       "9                  -0.5000               -0.100000             0.000000   \n",
       "10                 -1.0000               -0.100000             0.000000   \n",
       "11                 -0.4000               -0.125000             0.000000   \n",
       "12                 -0.6000               -0.050000             1.000000   \n",
       "13                 -0.7000               -0.100000             1.000000   \n",
       "14                 -0.1875               -0.050000             0.750000   \n",
       "\n",
       "     title_sentiment_polarity   abs_title_subjectivity  \\\n",
       "0                   -0.187500                 0.000000   \n",
       "1                    0.000000                 0.500000   \n",
       "2                    0.000000                 0.500000   \n",
       "3                    0.000000                 0.500000   \n",
       "4                    0.136364                 0.045455   \n",
       "5                    0.214286                 0.142857   \n",
       "6                    0.000000                 0.500000   \n",
       "7                    0.500000                 0.500000   \n",
       "8                    0.000000                 0.375000   \n",
       "9                    0.000000                 0.500000   \n",
       "10                   0.000000                 0.500000   \n",
       "11                   0.000000                 0.500000   \n",
       "12                  -1.000000                 0.500000   \n",
       "13                  -1.000000                 0.500000   \n",
       "14                   0.550000                 0.250000   \n",
       "\n",
       "     abs_title_sentiment_polarity   shares  \n",
       "0                        0.187500      593  \n",
       "1                        0.000000      711  \n",
       "2                        0.000000     1500  \n",
       "3                        0.000000     1200  \n",
       "4                        0.136364      505  \n",
       "5                        0.214286      855  \n",
       "6                        0.000000      556  \n",
       "7                        0.500000      891  \n",
       "8                        0.000000     3600  \n",
       "9                        0.000000      710  \n",
       "10                       0.000000     2200  \n",
       "11                       0.000000     1900  \n",
       "12                       1.000000      823  \n",
       "13                       1.000000    10000  \n",
       "14                       0.550000      761  \n",
       "\n",
       "[15 rows x 61 columns]"
      ]
     },
     "execution_count": 5,
     "metadata": {},
     "output_type": "execute_result"
    }
   ],
   "source": [
    "df.head(15)"
   ]
  },
  {
   "cell_type": "code",
   "execution_count": 6,
   "metadata": {},
   "outputs": [
    {
     "data": {
      "text/plain": [
       "dtype('O')"
      ]
     },
     "execution_count": 6,
     "metadata": {},
     "output_type": "execute_result"
    }
   ],
   "source": [
    "#  I use the dtypes function, to check the data type of the 'shares' column.\n",
    "\n",
    "df[' shares'].dtypes"
   ]
  },
  {
   "cell_type": "markdown",
   "metadata": {},
   "source": [
    "3) I noticed that the column 'shares' has also other noisy samples such: 'n.a' values.\n",
    "  From the dataset, I take the column 'shares', where the value of the sample is equal to n.a, to see \n",
    "  if they are present in any of the rows selected.\n",
    "\n"
   ]
  },
  {
   "cell_type": "code",
   "execution_count": 7,
   "metadata": {},
   "outputs": [
    {
     "data": {
      "text/html": [
       "<div>\n",
       "<style scoped>\n",
       "    .dataframe tbody tr th:only-of-type {\n",
       "        vertical-align: middle;\n",
       "    }\n",
       "\n",
       "    .dataframe tbody tr th {\n",
       "        vertical-align: top;\n",
       "    }\n",
       "\n",
       "    .dataframe thead th {\n",
       "        text-align: right;\n",
       "    }\n",
       "</style>\n",
       "<table border=\"1\" class=\"dataframe\">\n",
       "  <thead>\n",
       "    <tr style=\"text-align: right;\">\n",
       "      <th></th>\n",
       "      <th>url</th>\n",
       "      <th>timedelta</th>\n",
       "      <th>n_tokens_title</th>\n",
       "      <th>n_tokens_content</th>\n",
       "      <th>n_unique_tokens</th>\n",
       "      <th>n_non_stop_words</th>\n",
       "      <th>n_non_stop_unique_tokens</th>\n",
       "      <th>num_hrefs</th>\n",
       "      <th>num_self_hrefs</th>\n",
       "      <th>num_imgs</th>\n",
       "      <th>...</th>\n",
       "      <th>min_positive_polarity</th>\n",
       "      <th>max_positive_polarity</th>\n",
       "      <th>avg_negative_polarity</th>\n",
       "      <th>min_negative_polarity</th>\n",
       "      <th>max_negative_polarity</th>\n",
       "      <th>title_subjectivity</th>\n",
       "      <th>title_sentiment_polarity</th>\n",
       "      <th>abs_title_subjectivity</th>\n",
       "      <th>abs_title_sentiment_polarity</th>\n",
       "      <th>shares</th>\n",
       "    </tr>\n",
       "  </thead>\n",
       "  <tbody>\n",
       "    <tr>\n",
       "      <th>37909</th>\n",
       "      <td>http://mashable.com/2014/11/30/apple-aids-red-...</td>\n",
       "      <td>37.0</td>\n",
       "      <td>9.0</td>\n",
       "      <td>0.0</td>\n",
       "      <td>0.0</td>\n",
       "      <td>0.0</td>\n",
       "      <td>0.0</td>\n",
       "      <td>0.0</td>\n",
       "      <td>0.0</td>\n",
       "      <td>0.0</td>\n",
       "      <td>...</td>\n",
       "      <td>0.0</td>\n",
       "      <td>0.0</td>\n",
       "      <td>0.0</td>\n",
       "      <td>0.0</td>\n",
       "      <td>0.0</td>\n",
       "      <td>0.0</td>\n",
       "      <td>0.0</td>\n",
       "      <td>0.5</td>\n",
       "      <td>0.0</td>\n",
       "      <td>n.a.</td>\n",
       "    </tr>\n",
       "  </tbody>\n",
       "</table>\n",
       "<p>1 rows × 61 columns</p>\n",
       "</div>"
      ],
      "text/plain": [
       "                                                     url   timedelta  \\\n",
       "37909  http://mashable.com/2014/11/30/apple-aids-red-...        37.0   \n",
       "\n",
       "        n_tokens_title   n_tokens_content   n_unique_tokens  \\\n",
       "37909              9.0                0.0               0.0   \n",
       "\n",
       "        n_non_stop_words   n_non_stop_unique_tokens   num_hrefs  \\\n",
       "37909                0.0                        0.0         0.0   \n",
       "\n",
       "        num_self_hrefs  num_imgs  ...  min_positive_polarity  \\\n",
       "37909              0.0       0.0  ...                    0.0   \n",
       "\n",
       "        max_positive_polarity   avg_negative_polarity   min_negative_polarity  \\\n",
       "37909                     0.0                     0.0                     0.0   \n",
       "\n",
       "        max_negative_polarity   title_subjectivity   title_sentiment_polarity  \\\n",
       "37909                     0.0                  0.0                        0.0   \n",
       "\n",
       "        abs_title_subjectivity   abs_title_sentiment_polarity   shares  \n",
       "37909                      0.5                            0.0     n.a.  \n",
       "\n",
       "[1 rows x 61 columns]"
      ]
     },
     "execution_count": 7,
     "metadata": {},
     "output_type": "execute_result"
    }
   ],
   "source": [
    "df[df[' shares'] == ' n.a.'] "
   ]
  },
  {
   "cell_type": "markdown",
   "metadata": {},
   "source": [
    "To plot the histogram of the column 'shares' I use hist function of the matplotlib library.\n",
    "First I remove the missing values in the 'shares' column in the dataset by using the dropna() function.\n",
    "I see that the 'shares' column, is still uncleaned as it contains n.a values, so I use ~ (NOT) operator \n",
    "to pick all values that are not equal to 'n.a.'. \n",
    "I convert the Object data type of this column into a string data type in order to put all the values of the\n",
    "column to a same type. Then I convert the string data type into a float type.\n",
    "I tried different number of bins to observe the distribution of the values in the 'shares' column and chose 25 to give\n",
    "a better general view of the distribution of the values in the 'shares' column."
   ]
  },
  {
   "cell_type": "code",
   "execution_count": 8,
   "metadata": {},
   "outputs": [
    {
     "data": {
      "text/plain": [
       "(array([3.9477e+04, 1.2000e+02, 2.1000e+01, 9.0000e+00, 2.0000e+00,\n",
       "        4.0000e+00, 0.0000e+00, 1.0000e+00, 0.0000e+00, 0.0000e+00,\n",
       "        1.0000e+00, 2.0000e+00, 1.0000e+00, 0.0000e+00, 1.0000e+00]),\n",
       " array([2.22222222e-01, 5.62202074e+04, 1.12440193e+05, 1.68660178e+05,\n",
       "        2.24880163e+05, 2.81100148e+05, 3.37320133e+05, 3.93540119e+05,\n",
       "        4.49760104e+05, 5.05980089e+05, 5.62200074e+05, 6.18420059e+05,\n",
       "        6.74640044e+05, 7.30860030e+05, 7.87080015e+05, 8.43300000e+05]),\n",
       " <BarContainer object of 15 artists>)"
      ]
     },
     "execution_count": 8,
     "metadata": {},
     "output_type": "execute_result"
    },
    {
     "data": {
      "image/png": "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\n",
      "text/plain": [
       "<Figure size 432x288 with 1 Axes>"
      ]
     },
     "metadata": {
      "needs_background": "light"
     },
     "output_type": "display_data"
    }
   ],
   "source": [
    "plt.hist(df[' shares'].dropna()[~(df[' shares'] == ' n.a.')].astype(str).astype(float), bins=15)"
   ]
  },
  {
   "cell_type": "markdown",
   "metadata": {},
   "source": [
    "4) A bar chart counting the attributes:\n"
   ]
  },
  {
   "cell_type": "code",
   "execution_count": 9,
   "metadata": {},
   "outputs": [
    {
     "name": "stderr",
     "output_type": "stream",
     "text": [
      "C:\\Users\\loriz\\AppData\\Roaming\\Python\\Python38\\site-packages\\seaborn\\_decorators.py:36: FutureWarning: Pass the following variable as a keyword arg: x. From version 0.12, the only valid positional argument will be `data`, and passing other arguments without an explicit keyword will result in an error or misinterpretation.\n",
      "  warnings.warn(\n"
     ]
    },
    {
     "data": {
      "image/png": "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\n",
      "text/plain": [
       "<Figure size 432x288 with 1 Axes>"
      ]
     },
     "metadata": {
      "needs_background": "light"
     },
     "output_type": "display_data"
    },
    {
     "name": "stderr",
     "output_type": "stream",
     "text": [
      "C:\\Users\\loriz\\AppData\\Roaming\\Python\\Python38\\site-packages\\seaborn\\_decorators.py:36: FutureWarning: Pass the following variable as a keyword arg: x. From version 0.12, the only valid positional argument will be `data`, and passing other arguments without an explicit keyword will result in an error or misinterpretation.\n",
      "  warnings.warn(\n"
     ]
    },
    {
     "data": {
      "image/png": "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\n",
      "text/plain": [
       "<Figure size 432x288 with 1 Axes>"
      ]
     },
     "metadata": {
      "needs_background": "light"
     },
     "output_type": "display_data"
    },
    {
     "name": "stderr",
     "output_type": "stream",
     "text": [
      "C:\\Users\\loriz\\AppData\\Roaming\\Python\\Python38\\site-packages\\seaborn\\_decorators.py:36: FutureWarning: Pass the following variable as a keyword arg: x. From version 0.12, the only valid positional argument will be `data`, and passing other arguments without an explicit keyword will result in an error or misinterpretation.\n",
      "  warnings.warn(\n"
     ]
    },
    {
     "data": {
      "image/png": "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\n",
      "text/plain": [
       "<Figure size 432x288 with 1 Axes>"
      ]
     },
     "metadata": {
      "needs_background": "light"
     },
     "output_type": "display_data"
    },
    {
     "name": "stderr",
     "output_type": "stream",
     "text": [
      "C:\\Users\\loriz\\AppData\\Roaming\\Python\\Python38\\site-packages\\seaborn\\_decorators.py:36: FutureWarning: Pass the following variable as a keyword arg: x. From version 0.12, the only valid positional argument will be `data`, and passing other arguments without an explicit keyword will result in an error or misinterpretation.\n",
      "  warnings.warn(\n"
     ]
    },
    {
     "data": {
      "image/png": "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\n",
      "text/plain": [
       "<Figure size 432x288 with 1 Axes>"
      ]
     },
     "metadata": {
      "needs_background": "light"
     },
     "output_type": "display_data"
    },
    {
     "name": "stderr",
     "output_type": "stream",
     "text": [
      "C:\\Users\\loriz\\AppData\\Roaming\\Python\\Python38\\site-packages\\seaborn\\_decorators.py:36: FutureWarning: Pass the following variable as a keyword arg: x. From version 0.12, the only valid positional argument will be `data`, and passing other arguments without an explicit keyword will result in an error or misinterpretation.\n",
      "  warnings.warn(\n"
     ]
    },
    {
     "data": {
      "image/png": "iVBORw0KGgoAAAANSUhEUgAAAZIAAAEHCAYAAACEKcAKAAAAOXRFWHRTb2Z0d2FyZQBNYXRwbG90bGliIHZlcnNpb24zLjUuMCwgaHR0cHM6Ly9tYXRwbG90bGliLm9yZy8/fFQqAAAACXBIWXMAAAsTAAALEwEAmpwYAAAZPUlEQVR4nO3df7BfdX3n8efLBBF/gPwILk3YDdU4K1CNJYtZ3e6iuJI6o2CFThwtWUsnymKrndYdrTtKbTMjtpaKCju4Kj/WChG14A9UxN8tDQ02EgJSorgQYUkURGwHbOh7/zifq19uvvfmm5x8781Nno+ZM9/zfZ/zOd/POTe5r3t+fM9JVSFJ0u563Gx3QJI0txkkkqReDBJJUi8GiSSpF4NEktTL/NnuwEw74ogjavHixbPdDUmaU2666aYfVtWCYdP2uyBZvHgx69evn+1uSNKckuT/TjXNQ1uSpF4MEklSLwaJJKkXg0SS1ItBIknqxSCRJPVikEiSejFIJEm9GCSSpF72u2+278wJb75struw17jpz86c7S5ImgPcI5Ek9WKQSJJ6MUgkSb0YJJKkXgwSSVIvBokkqReDRJLUi0EiSerFIJEk9WKQSJJ6GVuQJHlCkhuTfDvJpiR/3OqHJbkuyR3t9dCBNm9NsjnJ7UlOGaifkGRjm3ZBkrT6gUmubPV1SRaPa30kScONc4/kEeBFVfUcYCmwIsly4C3A9VW1BLi+vSfJscBK4DhgBXBhknltWRcBq4ElbVjR6mcBD1TVM4DzgfPGuD6SpCHGFiTV+Wl7e0AbCjgVuLTVLwVOa+OnAldU1SNVdSewGTgxyVHAwVV1Q1UVcNmkNhPLugo4eWJvRZI0M8Z6jiTJvCQbgK3AdVW1DnhaVd0L0F6PbLMvBO4eaL6l1Ra28cn1x7Spqu3Ag8DhY1kZSdJQYw2Sqnq0qpYCi+j2Lo6fZvZhexI1TX26No9dcLI6yfok67dt27aTXkuSdsWMXLVVVT8Gvkp3buO+driK9rq1zbYFOHqg2SLgnlZfNKT+mDZJ5gOHAPcP+fyLq2pZVS1bsGDBnlkpSRIw3qu2FiR5ahs/CHgx8B3gGmBVm20VcHUbvwZY2a7EOobupPqN7fDXQ0mWt/MfZ05qM7Gs04Evt/MokqQZMs4nJB4FXNquvHocsLaqPpPkBmBtkrOAu4AzAKpqU5K1wK3AduCcqnq0Lets4BLgIODaNgB8CLg8yWa6PZGVY1wfSdIQYwuSqroZeO6Q+o+Ak6doswZYM6S+Htjh/EpVPUwLIknS7PCb7ZKkXgwSSVIvBokkqReDRJLUi0EiSerFIJEk9WKQSJJ6MUgkSb0YJJKkXgwSSVIvBokkqReDRJLUi0EiSerFIJEk9WKQSJJ6MUgkSb0YJJKkXgwSSVIvBokkqReDRJLUi0EiSerFIJEk9WKQSJJ6GVuQJDk6yVeS3JZkU5I3tvq5SX6QZEMbXjrQ5q1JNie5PckpA/UTkmxs0y5IklY/MMmVrb4uyeJxrY8kabhx7pFsB/6gqp4FLAfOSXJsm3Z+VS1tw+cA2rSVwHHACuDCJPPa/BcBq4ElbVjR6mcBD1TVM4DzgfPGuD6SpCHGFiRVdW9VfauNPwTcBiycpsmpwBVV9UhV3QlsBk5MchRwcFXdUFUFXAacNtDm0jZ+FXDyxN6KJGlmzMg5knbI6bnAulZ6Q5Kbk3w4yaGtthC4e6DZllZb2MYn1x/Tpqq2Aw8Ch49jHSRJw409SJI8GfgE8Kaq+gndYaqnA0uBe4H3TMw6pHlNU5+uzeQ+rE6yPsn6bdu27doKSJKmNdYgSXIAXYh8tKo+CVBV91XVo1X1r8AHgRPb7FuAoweaLwLuafVFQ+qPaZNkPnAIcP/kflTVxVW1rKqWLViwYE+tniSJ8V61FeBDwG1V9RcD9aMGZnsFcEsbvwZY2a7EOobupPqNVXUv8FCS5W2ZZwJXD7RZ1cZPB77czqNIkmbI/DEu+wXAbwEbk2xotT8CXpVkKd0hqO8DrwOoqk1J1gK30l3xdU5VPdranQ1cAhwEXNsG6ILq8iSb6fZEVo5xfSRJQ4wtSKrqmww/h/G5adqsAdYMqa8Hjh9Sfxg4o0c3JUk9+c12SVIvBokkqReDRJLUi0EiSerFIJEk9WKQSJJ6MUgkSb0YJJKkXgwSSVIvBokkqReDRJLUi0EiSerFIJEk9WKQSJJ6MUgkSb0YJJKkXgwSSVIvBokkqReDRJLUi0EiSerFIJEk9WKQSJJ6MUgkSb2MLUiSHJ3kK0luS7IpyRtb/bAk1yW5o70eOtDmrUk2J7k9ySkD9ROSbGzTLkiSVj8wyZWtvi7J4nGtjyRpuHHukWwH/qCqngUsB85JcizwFuD6qloCXN/e06atBI4DVgAXJpnXlnURsBpY0oYVrX4W8EBVPQM4HzhvjOsjSRpibEFSVfdW1bfa+EPAbcBC4FTg0jbbpcBpbfxU4IqqeqSq7gQ2AycmOQo4uKpuqKoCLpvUZmJZVwEnT+ytSJJmxoycI2mHnJ4LrAOeVlX3Qhc2wJFttoXA3QPNtrTawjY+uf6YNlW1HXgQOHwsKyFJGmrsQZLkycAngDdV1U+mm3VIraapT9dmch9WJ1mfZP22bdt21mVJ0i4Ya5AkOYAuRD5aVZ9s5fva4Sra69ZW3wIcPdB8EXBPqy8aUn9MmyTzgUOA+yf3o6ourqplVbVswYIFe2LVJEnNOK/aCvAh4Laq+ouBSdcAq9r4KuDqgfrKdiXWMXQn1W9sh78eSrK8LfPMSW0mlnU68OV2HkWSNEPmj3HZLwB+C9iYZEOr/RHwLmBtkrOAu4AzAKpqU5K1wK10V3ydU1WPtnZnA5cABwHXtgG6oLo8yWa6PZGVY1wfSdIQYwuSqvomw89hAJw8RZs1wJoh9fXA8UPqD9OCSJI0O/xmuySpF4NEktSLQSJJ6mWkIEly/Sg1SdL+Z9qT7UmeADwROKLdXHHi5PnBwC+NuW+SpDlgZ1dtvQ54E11o3MQvguQnwAfG1y1J0lwxbZBU1XuB9yb53ap63wz1SZI0h4z0PZKqel+S5wOLB9tU1WVj6pckaY4YKUiSXA48HdgATHzbfOKW7pKk/dio32xfBhzrfawkSZON+j2SW4B/M86OSJLmplH3SI4Abk1yI/DIRLGqXj6WXkmS5oxRg+TccXZCkjR3jXrV1tfG3RFJ0tw06lVbD/GLR9g+HjgA+KeqOnhcHZMkzQ2j7pE8ZfB9ktOAE8fRIUnS3LJbd/+tqr8GXrRnuyJJmotGPbT1GwNvH0f3vRK/UyJJGvmqrZcNjG8Hvg+cusd7I0mac0Y9R/LacXdEkjQ3jfpgq0VJPpVka5L7knwiyaJxd06StPcb9WT7R4Br6J5LshD4dKtJkvZzowbJgqr6SFVtb8MlwIIx9kuSNEeMGiQ/TPKaJPPa8BrgR9M1SPLhdijsloHauUl+kGRDG146MO2tSTYnuT3JKQP1E5JsbNMuSJJWPzDJla2+LsniXVpzSdIeMWqQ/Dbwm8D/A+4FTgd2dgL+EmDFkPr5VbW0DZ8DSHIssBI4rrW5MMm8Nv9FwGpgSRsmlnkW8EBVPQM4HzhvxHWRJO1BowbJnwCrqmpBVR1JFyznTtegqr4O3D/i8k8FrqiqR6rqTmAzcGKSo4CDq+qG9iyUy4DTBtpc2savAk6e2FuRJM2cUYPk2VX1wMSbqrofeO5ufuYbktzcDn0d2moLgbsH5tnSagvb+OT6Y9pU1XbgQeDw3eyTJGk3jRokjxv4pU+Swxj9y4yDLqJ7ZO9SukNk75lY5JB5a5r6dG12kGR1kvVJ1m/btm2XOixJmt6oYfAe4G+TXEX3y/o3gTW7+mFVdd/EeJIPAp9pb7cARw/Mugi4p9UXDakPttmSZD5wCFMcSquqi4GLAZYtW+atXSRpDxppj6SqLgNeCdwHbAN+o6ou39UPa+c8JryC7hG+0H1HZWW7EusYupPqN1bVvcBDSZa38x9nAlcPtFnVxk8Hvuwz5SVp5o18eKqqbgVuHXX+JB8DTgKOSLIFeAdwUpKldHs13wde15a9KcnatvztwDlV9Whb1Nl0V4AdBFzbBoAPAZcn2Uy3J7Jy1L5Jkvac3TnPMZKqetWQ8oemmX8NQw6XVdV64Pgh9YeBM/r0UZLU3249j0SSpAkGiSSpF4NEktSLQSJJ6sUgkST1YpBIknoxSCRJvRgkkqReDBJJUi8GiSSpF4NEktSLQSJJ6sUgkST1YpBIknoxSCRJvRgkkqReDBJJUi8GiSSpF4NEktSLQSJJ6sUgkST1YpBIknoxSCRJvRgkkqRexhYkST6cZGuSWwZqhyW5Lskd7fXQgWlvTbI5ye1JThmon5BkY5t2QZK0+oFJrmz1dUkWj2tdJElTG+ceySXAikm1twDXV9US4Pr2niTHAiuB41qbC5PMa20uAlYDS9owscyzgAeq6hnA+cB5Y1sTSdKUxhYkVfV14P5J5VOBS9v4pcBpA/UrquqRqroT2AycmOQo4OCquqGqCrhsUpuJZV0FnDyxtyJJmjkzfY7kaVV1L0B7PbLVFwJ3D8y3pdUWtvHJ9ce0qartwIPA4cM+NMnqJOuTrN+2bdseWhVJEuw9J9uH7UnUNPXp2uxYrLq4qpZV1bIFCxbsZhclScPMdJDc1w5X0V63tvoW4OiB+RYB97T6oiH1x7RJMh84hB0PpUmSxmymg+QaYFUbXwVcPVBf2a7EOobupPqN7fDXQ0mWt/MfZ05qM7Gs04Evt/MokqQZNH9cC07yMeAk4IgkW4B3AO8C1iY5C7gLOAOgqjYlWQvcCmwHzqmqR9uizqa7Auwg4No2AHwIuDzJZro9kZXjWhdJ0tTGFiRV9aopJp08xfxrgDVD6uuB44fUH6YFkSRp9uwtJ9slSXOUQSJJ6sUgkST1YpBIknoxSCRJvRgkkqReDBJJUi8GiSSpF4NEktSLQSJJ6sUgkST1MrZ7bUkAd73zV2a7C3uNf/v2jbPdBWks3CORJPVikEiSejFIJEm9GCSSpF4MEklSLwaJJKkXg0SS1ItBIknqxSCRJPVikEiSejFIJEm9zEqQJPl+ko1JNiRZ32qHJbkuyR3t9dCB+d+aZHOS25OcMlA/oS1nc5ILkmQ21keS9mezuUfywqpaWlXL2vu3ANdX1RLg+vaeJMcCK4HjgBXAhUnmtTYXAauBJW1YMYP9lySxdx3aOhW4tI1fCpw2UL+iqh6pqjuBzcCJSY4CDq6qG6qqgMsG2kiSZshsBUkBX0xyU5LVrfa0qroXoL0e2eoLgbsH2m5ptYVtfHJ9B0lWJ1mfZP22bdv24GpIkmbreSQvqKp7khwJXJfkO9PMO+y8R01T37FYdTFwMcCyZcuGziNJ2j2zskdSVfe0163Ap4ATgfva4Sra69Y2+xbg6IHmi4B7Wn3RkLokaQbNeJAkeVKSp0yMAy8BbgGuAVa12VYBV7fxa4CVSQ5McgzdSfUb2+Gvh5Isb1drnTnQRpI0Q2bj0NbTgE+1K3XnA39VVZ9P8vfA2iRnAXcBZwBU1aYka4Fbge3AOVX1aFvW2cAlwEHAtW2QJM2gGQ+Sqvoe8Jwh9R8BJ0/RZg2wZkh9PXD8nu6jJGl0e9Plv5KkOcggkST1YpBIknoxSCRJvRgkkqReDBJJUi8GiSSpF4NEktSLQSJJ6sUgkST1YpBIknoxSCRJvRgkkqReDBJJUi8GiSSpF4NEktSLQSJJ6sUgkST1YpBIknoxSCRJvRgkkqReDBJJUi8GiSSplzkfJElWJLk9yeYkb5nt/kjS/mZOB0mSecAHgF8HjgVeleTY2e2VJO1f5nSQACcCm6vqe1X1M+AK4NRZ7pMk7Vfmz3YHeloI3D3wfgvwvMkzJVkNrG5vf5rk9hnoW19HAD+czQ7kz1fN5sfvabO+PXlHZvXj96DZ35b7lrmyPf/dVBPmepAM+59ZOxSqLgYuHn939pwk66tq2Wz3Y1/h9txz3JZ71r6wPef6oa0twNED7xcB98xSXyRpvzTXg+TvgSVJjknyeGAlcM0s90mS9itz+tBWVW1P8gbgC8A84MNVtWmWu7WnzKlDcXOA23PPcVvuWXN+e6Zqh1MKkiSNbK4f2pIkzTKDRJLUi0Eyy3Z2i5d0LmjTb07yq7PRz7kgyYeTbE1yyxTT98ttmeQJSW5M8u0km5L8cav/SdsOG5J8MckvtfrhSb6S5KdJ3j9pWSck2di24QVJ0uoHJrmy1dclWTxFX4a239tNtQ3btN9t/4c3JXn3QP3ZSW5o9Y1tGU9M8tkk32n1dw3MP+U2TLIqyR1tGPoFr1F/BmNRVQ6zNNBdIPBd4JeBxwPfBo6dNM9LgWvpvjOzHFg32/3eWwfgPwO/CtwyxfT9clu29X1yGz8AWNfW/+CBeX4P+F9t/EnAfwJeD7x/0rJuBP5jW+a1wK+3+n8faL8SuHKKvgxtv7cP02zDFwJfAg5s045sr/OBm4HntPeHt//vTwRe2GqPB76xs20IHAZ8r70e2sYPHdLHkX4G4xjcI5ldo9zi5VTgsur8HfDUJEfNdEfngqr6OnD/NLPsl9uyre9P29sD2lBV9ZOB2Z5E+zJvVf1TVX0TeHhwOW1bHVxVN1T32+oy4LQ2+VTg0jZ+FXDy5L2NnbTfq021DYGzgXdV1SNtvq1tnpcAN1fVt1v9R1X1aFX9c1V9pdV+BnyL7vtvMPU2PAW4rqrur6oHgOuAFUO6udOfwbgYJLNr2C1eFu7GPBrNfrstk8xLsgHYSvdLaV2rr0lyN/Bq4O07WcxCum02YXD7/XzbVtV24EG6v8JHbb/Xm2IbPhP4tXYo6WtJ/kOb/ZlAJflCkm8l+R9DlvdU4GXA9a001TYc9d/tKD+DsTBIZtcot3gZ6TYwGsl+uy3bX8NL6f76PTHJ8a3+tqo6Gvgo8IadLGa67bfP/1ueYhvOpzvctBx4M7C27QXMpzs8+Or2+ookJ08sK8l84GPABVX1vYnysI+dpj7ZrG1fg2R2jXKLF28Ds+fs99uyqn4MfJUdD438FfDKnTTfwi8Ow8Bjt9/Pt237JXkIOx5mnK79nDFpG24BPtkOfd0I/CvdTRi3AF+rqh9W1T8Dn6M7fzfhYuCOqvrLgdpU23DUf7ej/AzGwiCZXaPc4uUa4Mx2xdFy4MGqunemO7qP2C+3ZZIF7TAKSQ4CXgx8J8mSgdleDnxnuuW0bfVQkuXtr+4zgavb5GuAiauJTge+3M6DjNp+rzbVNgT+GnhRqz+T7gT6D+nutvHsdpXWfOC/ALe2+f6U7pf8myZ9zFTb8AvAS5IcmuRQuvMvXxjSzZ3+DMZmps7qO0x5NchLgX+ku3rrba32euD1bTx0D+/6LrARWDbbfd5bB7pDBfcC/0L319lZbssCeDbwD3RXEd0CvL3VP9He3wx8Glg40Ob7dH/N/rRty2NbfVlr813g/fzi7hhPAD4ObKa7MuuXB5a1YWB8aPu9fZhmGz4e+D+t9i3gRQNtXgNsatPe3WqL6A433QZsaMPvjLANf7vVNwOvHai/E3j5ztqPe/AWKZKkXjy0JUnqxSCRJPVikEiSejFIJEm9GCSSpF4MEklSLwaJ9hlJ/tvk254PmeekJM/fw5/7053PNR5Jzk3yh9NMf2eSF+/iMk9Lcuxu9mdxpriNv/ZdBon2NycBezRI9mZV9faq+tIuNjsN2K0g0f7JINGcluS1Sf4xydeAFwzUX9buyPoPSb6U5GntQT+vB34/3cOcfm3YfNN81pOTfKQ9pOjmJK8cmLYm3UOP/m5iGVMtu+1FfDjJV5N8L8nvtfriJLcl+WC6hx59sd2OgyRPT/L5JDcl+UaSfz/i9rkkyelt/F1Jbm19//Mp5n8+3e1S/qxto6dP9dltm36qrfe3B/b05g1bB+3DZvvWAw4OuzsARwF3AQvoblXxN7QHMdHdkXXizg2/A7ynjZ8L/OHAMobON8XnnQf85WDb9lrAy9r4u4H/OUIf/hY4kO4Gfz+ie77FYmA7sLTNtxZ4TRu/HljSxp9Hdx+lHdZnSJ8vobvv0mHA7QP9eerO2gy8n+qzrwTe1Mbn0d0/asp1cNh3h/k7TRpp7/U84KtVtQ0gyZV0z4GA7p5GV6Z7mNLjgTunWMao80F3o76VE2+qe8gQwM+Az7Txm4D/OsKyP1vdw5AeSbIVmNgTurOqNgwsa3GSJ9Mdjvt4fvGcogOn6ecwP6F7UNX/TvLZgf5Oayef/SK6Gy9SVY8CD7abCu6wDrvYV80xHtrSXDfVzeLeR7d38ivA6+huaNdnPuhu+jjs8/6lqibqj8LP/0CbbtmPDIwPthlWfxzw46paOjA8a5p+7qC6Bx2dSHejxtOAz4/YdHc+e6p10z7KINFctg44KcnhSQ4AzhiYdgjwgza+aqD+EPCUEeYb5osMPPyp/fU9nV1Z9pSqeyTunUnOaJ+bJM/ZlWW0PYtDqupzdLcvXzrN7D/fRjv57OvpHjU78fTAg3elT9p3GCSas6p7vsW5wA3Al+hu4z3hXLrDMd+gez7EhE/TPa1uQ5Jfm2a+Yf4UODTJLUm+DbxwJ/PvyrJ35tXAWe1zN9E9n3tXPAX4TJKbga8Bvz/NvFcAb24XCTx9ms9+I/DCJBvpDmEdt4t90j7C28hLknpxj0SS1IsnwaRJkryW7rDNoL+pqnNmoz+jSPIBBr5H07y3qj4yTZu38djzSgAfr6o1e7p/2rd5aEuS1IuHtiRJvRgkkqReDBJJUi8GiSSpl/8PlWH/GNF/2vQAAAAASUVORK5CYII=\n",
      "text/plain": [
       "<Figure size 432x288 with 1 Axes>"
      ]
     },
     "metadata": {
      "needs_background": "light"
     },
     "output_type": "display_data"
    },
    {
     "name": "stderr",
     "output_type": "stream",
     "text": [
      "C:\\Users\\loriz\\AppData\\Roaming\\Python\\Python38\\site-packages\\seaborn\\_decorators.py:36: FutureWarning: Pass the following variable as a keyword arg: x. From version 0.12, the only valid positional argument will be `data`, and passing other arguments without an explicit keyword will result in an error or misinterpretation.\n",
      "  warnings.warn(\n"
     ]
    },
    {
     "data": {
      "image/png": "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\n",
      "text/plain": [
       "<Figure size 432x288 with 1 Axes>"
      ]
     },
     "metadata": {
      "needs_background": "light"
     },
     "output_type": "display_data"
    }
   ],
   "source": [
    "attr = [' data_channel_is_lifestyle', ' data_channel_is_entertainment', ' data_channel_is_bus', \n",
    "          ' data_channel_is_socmed', ' data_channel_is_tech',' data_channel_is_world' ]\n",
    "\n",
    "for x in attr:\n",
    "    sns.countplot(df[x])  \n",
    "    plt.show()\n"
   ]
  },
  {
   "cell_type": "code",
   "execution_count": 10,
   "metadata": {},
   "outputs": [
    {
     "data": {
      "text/plain": [
       "array([ 0.,  1., nan,  4., 97.])"
      ]
     },
     "execution_count": 10,
     "metadata": {},
     "output_type": "execute_result"
    }
   ],
   "source": [
    "df[' data_channel_is_lifestyle'].unique()"
   ]
  },
  {
   "cell_type": "markdown",
   "metadata": {
    "id": "gPIl9_84GXjg"
   },
   "source": [
    "your comments for step 2.2 Dataset Analysis\n",
    "\n",
    "I already explained in detail in each of the above snippets the way I solved the required exercises and the noise I faced. I'll write here also a briefly description:\n",
    "Since, we were asked to plot the distribution histogram of the target ' shares' I firstly checked for null values and I removed them. I noticed that the target had Object type, so i converted it into a float type and then I displayed perfectly the histogram. \n",
    "I used countplot seaborn library to see the distribution of the categorical variables. I can observe that in the 6 countplots the 0 value is the most frequent one. The value 1 has also a high frequency and the other ones have a really low frequency which is not visible enough to our graph. "
   ]
  },
  {
   "cell_type": "markdown",
   "metadata": {
    "id": "pM1-O-w_GXji"
   },
   "source": [
    "## 2.3 Feature importance analysis  (up to 1 of 11.2 points)\n",
    "\n",
    "Perform feature importance analysis"
   ]
  },
  {
   "cell_type": "markdown",
   "metadata": {},
   "source": [
    "First, I imported the necessary libraries: for the train and test split of the dataset and for the feature importance, I used the RandomForestClassifier library."
   ]
  },
  {
   "cell_type": "code",
   "execution_count": 11,
   "metadata": {},
   "outputs": [],
   "source": [
    "##### write here the code for 2.4 Feature importance analysis\n",
    "\n",
    "from sklearn.model_selection import train_test_split\n",
    "from sklearn.ensemble import RandomForestClassifier"
   ]
  },
  {
   "cell_type": "markdown",
   "metadata": {},
   "source": [
    "In this code snippet I check how many null values the dataset has.\n"
   ]
  },
  {
   "cell_type": "code",
   "execution_count": 12,
   "metadata": {},
   "outputs": [
    {
     "data": {
      "text/plain": [
       "url                              0\n",
       " timedelta                       1\n",
       " n_tokens_title                  1\n",
       " n_tokens_content                1\n",
       " n_unique_tokens                 1\n",
       "                                ..\n",
       " title_subjectivity              7\n",
       " title_sentiment_polarity        7\n",
       " abs_title_subjectivity          7\n",
       " abs_title_sentiment_polarity    7\n",
       " shares                          8\n",
       "Length: 61, dtype: int64"
      ]
     },
     "execution_count": 12,
     "metadata": {},
     "output_type": "execute_result"
    }
   ],
   "source": [
    "df.isnull().sum()"
   ]
  },
  {
   "cell_type": "markdown",
   "metadata": {},
   "source": [
    "In this cell I  display for each feature only the unique values just to have an idea of what types of data I have to do with."
   ]
  },
  {
   "cell_type": "code",
   "execution_count": 13,
   "metadata": {},
   "outputs": [
    {
     "name": "stdout",
     "output_type": "stream",
     "text": [
      "url -- ['http://mashable.com/2013/01/07/amazon-instant-video-browser/'\n",
      " 'http://mashable.com/2013/01/07/ap-samsung-sponsored-tweets/'\n",
      " 'http://mashable.com/2013/01/07/apple-40-billion-app-downloads/' ...\n",
      " 'http://mashable.com/2014/12/27/ukraine-blasts/'\n",
      " 'http://mashable.com/2014/12/27/youtube-channels-2015/' ' 1.0']\n",
      "\n",
      " timedelta -- [7.31000000e+02 7.30000000e+02 7.29000000e+02 7.28000000e+02\n",
      " 7.27000000e+02 7.26000000e+02 7.25000000e+02 7.24000000e+02\n",
      " 7.23000000e+02 7.22000000e+02 7.21000000e+02 7.20000000e+02\n",
      " 7.19000000e+02 7.18000000e+02 7.17000000e+02 7.16000000e+02\n",
      " 7.15000000e+02 7.14000000e+02 7.13000000e+02 7.12000000e+02\n",
      " 7.11000000e+02 7.10000000e+02 7.09000000e+02 7.08000000e+02\n",
      " 7.07000000e+02 7.06000000e+02 7.05000000e+02 7.04000000e+02\n",
      " 7.03000000e+02 7.02000000e+02 7.01000000e+02 7.00000000e+02\n",
      " 6.99000000e+02 6.98000000e+02 6.97000000e+02 6.96000000e+02\n",
      " 6.95000000e+02 6.94000000e+02 6.93000000e+02 6.92000000e+02\n",
      " 6.91000000e+02 6.90000000e+02 6.89000000e+02 6.88000000e+02\n",
      " 6.87000000e+02 6.86000000e+02 6.85000000e+02 6.84000000e+02\n",
      " 6.83000000e+02 6.82000000e+02 6.81000000e+02 6.80000000e+02\n",
      " 6.79000000e+02 6.78000000e+02 6.77000000e+02 6.76000000e+02\n",
      " 6.75000000e+02 6.74000000e+02 6.73000000e+02 6.72000000e+02\n",
      " 6.71000000e+02 6.70000000e+02 6.69000000e+02 6.68000000e+02\n",
      " 6.67000000e+02 6.66000000e+02 6.65000000e+02 6.64000000e+02\n",
      " 6.63000000e+02 6.62000000e+02 6.61000000e+02 6.60000000e+02\n",
      " 6.59000000e+02 6.58000000e+02 6.57000000e+02 6.56000000e+02\n",
      " 6.55000000e+02 6.54000000e+02 6.53000000e+02 6.52000000e+02\n",
      " 6.51000000e+02 6.50000000e+02 6.49000000e+02 6.48000000e+02\n",
      " 6.47000000e+02 6.46000000e+02 6.45000000e+02 6.44000000e+02\n",
      " 6.43000000e+02 6.42000000e+02 6.41000000e+02 6.40000000e+02\n",
      " 6.39000000e+02 6.38000000e+02 6.37000000e+02 6.36000000e+02\n",
      " 6.35000000e+02 6.34000000e+02 6.33000000e+02 6.32000000e+02\n",
      " 6.31000000e+02 6.30000000e+02 6.29000000e+02 6.28000000e+02\n",
      " 6.27000000e+02 6.26000000e+02 6.25000000e+02 6.24000000e+02\n",
      " 6.23000000e+02 6.22000000e+02 6.21000000e+02 6.20000000e+02\n",
      " 6.19000000e+02 6.18000000e+02 6.17000000e+02 6.16000000e+02\n",
      " 6.15000000e+02 6.14000000e+02 6.13000000e+02 6.12000000e+02\n",
      " 6.11000000e+02 6.10000000e+02 6.09000000e+02 6.08000000e+02\n",
      " 6.07000000e+02 6.06000000e+02 6.05000000e+02 6.04000000e+02\n",
      " 6.03000000e+02 6.02000000e+02 6.01000000e+02 6.00000000e+02\n",
      " 5.99000000e+02 5.98000000e+02 5.97000000e+02 5.96000000e+02\n",
      " 5.95000000e+02 5.94000000e+02 5.93000000e+02 5.92000000e+02\n",
      " 5.91000000e+02 5.90000000e+02 5.89000000e+02 5.88000000e+02\n",
      " 5.87000000e+02 5.86000000e+02 5.85000000e+02 5.84000000e+02\n",
      " 5.83000000e+02 5.82000000e+02 5.81000000e+02 5.80000000e+02\n",
      " 5.79000000e+02 5.78000000e+02 5.77000000e+02 5.76000000e+02\n",
      " 5.75000000e+02 5.74000000e+02 5.73000000e+02 5.72000000e+02\n",
      " 5.71000000e+02 5.70000000e+02 5.69000000e+02 5.68000000e+02\n",
      " 5.67000000e+02 5.66000000e+02 5.65000000e+02 5.64000000e+02\n",
      " 5.63000000e+02 5.62000000e+02 5.61000000e+02 5.60000000e+02\n",
      " 5.59000000e+02 5.58000000e+02 5.57000000e+02 5.56000000e+02\n",
      " 5.55000000e+02 5.54000000e+02 5.53000000e+02 5.52000000e+02\n",
      " 5.51000000e+02 5.50000000e+02 5.49000000e+02 5.48000000e+02\n",
      " 5.47000000e+02 5.46000000e+02 5.45000000e+02 5.44000000e+02\n",
      " 5.43000000e+02 5.42000000e+02 5.41000000e+02 5.40000000e+02\n",
      " 5.39000000e+02 5.38000000e+02 5.37000000e+02 5.36000000e+02\n",
      " 5.35000000e+02 5.34000000e+02 5.33000000e+02 5.32000000e+02\n",
      " 5.31000000e+02 5.30000000e+02 5.29000000e+02 5.28000000e+02\n",
      " 5.27000000e+02 5.26000000e+02 5.25000000e+02 5.24000000e+02\n",
      " 5.23000000e+02 5.22000000e+02 5.21000000e+02 5.20000000e+02\n",
      " 5.19000000e+02 5.18000000e+02 5.17000000e+02 5.16000000e+02\n",
      " 5.15000000e+02 5.14000000e+02 5.13000000e+02 5.12000000e+02\n",
      " 5.11000000e+02 5.10000000e+02 5.09000000e+02 5.08000000e+02\n",
      " 5.07000000e+02 5.06000000e+02 5.05000000e+02 5.04000000e+02\n",
      " 5.03000000e+02 5.02000000e+02 5.01000000e+02 5.00000000e+02\n",
      " 4.99000000e+02 4.98000000e+02 4.97000000e+02 4.96000000e+02\n",
      " 4.95000000e+02 4.94000000e+02 4.93000000e+02 4.92000000e+02\n",
      " 4.91000000e+02 4.90000000e+02 4.89000000e+02 4.88000000e+02\n",
      " 4.87000000e+02 4.86000000e+02 4.85000000e+02 4.84000000e+02\n",
      " 4.83000000e+02 4.82000000e+02 4.81000000e+02 4.80000000e+02\n",
      " 4.79000000e+02 4.78000000e+02 4.77000000e+02 4.76000000e+02\n",
      " 4.75000000e+02 4.74000000e+02 4.73000000e+02 4.72000000e+02\n",
      " 4.71000000e+02 4.70000000e+02 4.69000000e+02 4.68000000e+02\n",
      " 4.67000000e+02 4.66000000e+02 4.65000000e+02 4.64000000e+02\n",
      " 4.63000000e+02 4.62000000e+02 4.61000000e+02 4.60000000e+02\n",
      " 4.59000000e+02 4.58000000e+02 4.57000000e+02 4.56000000e+02\n",
      " 4.55000000e+02 4.54000000e+02 4.53000000e+02 4.52000000e+02\n",
      " 4.51000000e+02 4.50000000e+02 4.49000000e+02 4.48000000e+02\n",
      " 4.47000000e+02 4.46000000e+02 4.45000000e+02 4.44000000e+02\n",
      " 4.43000000e+02 4.42000000e+02 4.41000000e+02 4.40000000e+02\n",
      " 4.39000000e+02 4.38000000e+02 4.37000000e+02 4.36000000e+02\n",
      " 4.35000000e+02 4.34000000e+02 4.33000000e+02 4.32000000e+02\n",
      " 4.31000000e+02 4.30000000e+02 4.29000000e+02 4.28000000e+02\n",
      " 4.27000000e+02 4.26000000e+02 4.25000000e+02 4.24000000e+02\n",
      " 4.23000000e+02 4.22000000e+02 4.21000000e+02 4.20000000e+02\n",
      " 4.19000000e+02 4.18000000e+02 4.17000000e+02 4.16000000e+02\n",
      " 4.15000000e+02 4.14000000e+02 4.13000000e+02 4.12000000e+02\n",
      " 4.11000000e+02 4.10000000e+02 4.09000000e+02 4.08000000e+02\n",
      " 4.07000000e+02 4.06000000e+02 4.05000000e+02 4.04000000e+02\n",
      " 4.03000000e+02 4.02000000e+02 4.01000000e+02 4.00000000e+02\n",
      " 3.99000000e+02 3.98000000e+02 3.97000000e+02 3.96000000e+02\n",
      " 3.95000000e+02 3.94000000e+02 3.93000000e+02 3.92000000e+02\n",
      " 3.91000000e+02 3.90000000e+02 3.89000000e+02 3.88000000e+02\n",
      " 3.87000000e+02 3.86000000e+02 3.85000000e+02 3.84000000e+02\n",
      " 3.83000000e+02 3.82000000e+02 3.81000000e+02 3.80000000e+02\n",
      " 3.79000000e+02 3.78000000e+02 3.77000000e+02 3.76000000e+02\n",
      " 3.75000000e+02 3.74000000e+02 3.73000000e+02 3.72000000e+02\n",
      " 3.71000000e+02 3.70000000e+02 3.69000000e+02 3.68000000e+02\n",
      " 3.67000000e+02 3.66000000e+02 3.65000000e+02 3.64000000e+02\n",
      " 3.63000000e+02 3.62000000e+02 3.61000000e+02 3.60000000e+02\n",
      " 3.59000000e+02 3.58000000e+02 3.57000000e+02 3.56000000e+02\n",
      " 3.55000000e+02 3.54000000e+02 3.53000000e+02 3.52000000e+02\n",
      " 3.51000000e+02 3.50000000e+02 3.49000000e+02 3.48000000e+02\n",
      " 3.47000000e+02 3.46000000e+02 3.45000000e+02 3.44000000e+02\n",
      " 3.43000000e+02 3.42000000e+02 3.41000000e+02 3.40000000e+02\n",
      " 3.39000000e+02 3.38000000e+02 3.37000000e+02 3.36000000e+02\n",
      " 3.35000000e+02 3.34000000e+02 3.33000000e+02 3.32000000e+02\n",
      " 3.31000000e+02 3.30000000e+02 3.29000000e+02 3.28000000e+02\n",
      " 3.27000000e+02 3.26000000e+02 3.25000000e+02 3.24000000e+02\n",
      " 3.23000000e+02 3.22000000e+02 3.21000000e+02 3.20000000e+02\n",
      " 3.19000000e+02 3.18000000e+02 3.17000000e+02 3.16000000e+02\n",
      " 3.15000000e+02 3.14000000e+02 3.13000000e+02 3.12000000e+02\n",
      " 3.11000000e+02 3.10000000e+02 3.09000000e+02 3.08000000e+02\n",
      " 3.07000000e+02 3.06000000e+02 3.05000000e+02 3.04000000e+02\n",
      " 3.03000000e+02 3.02000000e+02 3.01000000e+02 3.00000000e+02\n",
      " 2.99000000e+02 2.98000000e+02 2.97000000e+02 2.96000000e+02\n",
      " 2.95000000e+02 2.94000000e+02 2.93000000e+02 2.92000000e+02\n",
      " 2.91000000e+02 2.90000000e+02 2.89000000e+02 2.88000000e+02\n",
      " 2.87000000e+02 2.86000000e+02 2.85000000e+02 2.84000000e+02\n",
      " 2.83000000e+02 2.82000000e+02 2.81000000e+02 2.80000000e+02\n",
      " 2.79000000e+02 2.78000000e+02 2.77000000e+02 2.76000000e+02\n",
      " 2.75000000e+02 2.74000000e+02 2.73000000e+02 2.72000000e+02\n",
      " 2.71000000e+02 2.70000000e+02 2.69000000e+02 2.68000000e+02\n",
      " 2.67000000e+02 2.66000000e+02 2.65000000e+02 2.64000000e+02\n",
      " 2.63000000e+02 2.62000000e+02 2.61000000e+02 2.60000000e+02\n",
      " 2.59000000e+02 2.58000000e+02 2.57000000e+02 2.56000000e+02\n",
      " 2.55000000e+02 2.54000000e+02 2.53000000e+02 2.52000000e+02\n",
      " 2.51000000e+02 2.50000000e+02 2.49000000e+02 2.48000000e+02\n",
      " 2.47000000e+02 2.46000000e+02 2.45000000e+02 2.44000000e+02\n",
      " 2.43000000e+02 2.42000000e+02 2.41000000e+02 2.40000000e+02\n",
      " 2.39000000e+02 2.38000000e+02 2.37000000e+02 2.36000000e+02\n",
      " 2.35000000e+02 2.34000000e+02 2.33000000e+02 2.32000000e+02\n",
      " 2.31000000e+02 2.30000000e+02 2.29000000e+02 2.28000000e+02\n",
      " 2.27000000e+02 2.26000000e+02 2.25000000e+02 2.24000000e+02\n",
      " 2.23000000e+02 2.22000000e+02 2.21000000e+02 2.20000000e+02\n",
      " 2.19000000e+02 2.18000000e+02 2.17000000e+02 2.16000000e+02\n",
      " 2.15000000e+02 2.14000000e+02 2.13000000e+02 2.12000000e+02\n",
      " 2.11000000e+02 2.10000000e+02 2.09000000e+02 2.08000000e+02\n",
      " 2.07000000e+02 2.06000000e+02 2.05000000e+02 2.04000000e+02\n",
      " 2.03000000e+02 2.02000000e+02 2.01000000e+02 2.00000000e+02\n",
      " 1.99000000e+02 1.98000000e+02 1.97000000e+02 1.96000000e+02\n",
      " 1.95000000e+02 1.94000000e+02 1.93000000e+02 1.92000000e+02\n",
      " 1.91000000e+02 1.90000000e+02 1.89000000e+02 1.88000000e+02\n",
      " 1.87000000e+02 1.86000000e+02 1.85000000e+02 1.84000000e+02\n",
      " 1.83000000e+02 1.82000000e+02 1.81000000e+02 1.80000000e+02\n",
      " 1.79000000e+02 1.78000000e+02 1.77000000e+02 1.76000000e+02\n",
      " 1.75000000e+02 1.74000000e+02 1.73000000e+02 1.72000000e+02\n",
      " 1.71000000e+02 1.70000000e+02 1.69000000e+02 1.68000000e+02\n",
      " 1.67000000e+02 1.66000000e+02 1.65000000e+02 1.64000000e+02\n",
      " 1.63000000e+02 1.62000000e+02 1.61000000e+02 1.60000000e+02\n",
      " 1.59000000e+02 1.58000000e+02 1.57000000e+02 1.56000000e+02\n",
      " 1.55000000e+02 1.54000000e+02 1.53000000e+02 1.52000000e+02\n",
      " 1.51000000e+02 1.50000000e+02 1.49000000e+02 1.48000000e+02\n",
      " 1.47000000e+02 1.46000000e+02 1.45000000e+02 1.44000000e+02\n",
      " 1.43000000e+02 1.42000000e+02 1.41000000e+02 1.40000000e+02\n",
      " 1.39000000e+02 1.38000000e+02 1.37000000e+02 1.36000000e+02\n",
      " 1.35000000e+02 1.34000000e+02 1.33000000e+02 1.32000000e+02\n",
      " 1.31000000e+02 1.30000000e+02 1.29000000e+02 1.28000000e+02\n",
      " 1.27000000e+02 1.26000000e+02 1.25000000e+02 1.24000000e+02\n",
      " 1.23000000e+02 1.22000000e+02 1.21000000e+02 1.20000000e+02\n",
      " 1.19000000e+02 1.18000000e+02 1.17000000e+02 1.16000000e+02\n",
      " 1.15000000e+02 1.14000000e+02 1.13000000e+02 1.12000000e+02\n",
      " 1.11000000e+02 1.10000000e+02 1.09000000e+02 1.08000000e+02\n",
      " 1.07000000e+02 1.06000000e+02 1.05000000e+02 1.04000000e+02\n",
      " 1.03000000e+02 1.02000000e+02 1.01000000e+02 1.00000000e+02\n",
      " 9.90000000e+01 9.80000000e+01 9.70000000e+01 9.60000000e+01\n",
      " 9.50000000e+01 9.40000000e+01 9.30000000e+01 9.20000000e+01\n",
      " 9.10000000e+01 9.00000000e+01 8.90000000e+01 8.80000000e+01\n",
      " 8.70000000e+01 8.60000000e+01 8.50000000e+01 8.40000000e+01\n",
      " 8.30000000e+01 8.20000000e+01 8.10000000e+01 8.00000000e+01\n",
      " 7.90000000e+01 7.80000000e+01 7.70000000e+01 7.60000000e+01\n",
      " 7.50000000e+01 7.40000000e+01 7.30000000e+01 7.20000000e+01\n",
      " 7.10000000e+01 7.00000000e+01 6.90000000e+01 6.80000000e+01\n",
      " 6.70000000e+01 6.60000000e+01 6.50000000e+01 6.40000000e+01\n",
      " 6.30000000e+01 6.90909085e-01 6.20000000e+01 6.10000000e+01\n",
      " 6.00000000e+01 5.90000000e+01 5.80000000e+01 5.70000000e+01\n",
      " 5.60000000e+01 5.50000000e+01 5.40000000e+01 5.30000000e+01\n",
      " 5.20000000e+01 5.10000000e+01 5.00000000e+01 4.90000000e+01\n",
      " 4.80000000e+01 4.70000000e+01 4.60000000e+01 4.50000000e+01\n",
      " 4.40000000e+01 4.30000000e+01 4.20000000e+01 4.10000000e+01\n",
      " 4.00000000e+01 3.90000000e+01 3.80000000e+01 3.70000000e+01\n",
      " 3.60000000e+01 3.50000000e+01 3.40000000e+01 3.30000000e+01\n",
      " 3.20000000e+01 3.10000000e+01 3.00000000e+01 2.90000000e+01\n",
      " 2.80000000e+01 2.70000000e+01 2.60000000e+01 2.50000000e+01\n",
      " 2.40000000e+01 2.30000000e+01 2.20000000e+01 2.10000000e+01\n",
      " 2.00000000e+01 1.90000000e+01 1.80000000e+01 1.70000000e+01\n",
      " 1.60000000e+01 1.50000000e+01 1.40000000e+01 1.30000000e+01\n",
      " 1.20000000e+01 1.10000000e+01 1.00000000e+01 9.00000000e+00\n",
      " 7.94117643e-01 8.00000000e+00            nan 1.00000000e+00]\n",
      "\n",
      " n_tokens_title -- [ 12.   9.  13.  10.   8.  11.  14.   6.   7.   5.  15.  16.  18.   4.\n",
      "  17.   2.   3.  19.  20.  23.  nan 442.   0.]\n",
      "\n",
      " n_tokens_content -- [2.19000000e+02 2.55000000e+02 2.11000000e+02 ... 2.50900000e+03\n",
      "            nan 5.16355139e-01]\n",
      "\n",
      " n_unique_tokens -- [0.66359447 0.60474308 0.57512953 ... 1.         0.53949329 4.47133758]\n",
      "\n",
      " n_non_stop_words -- [0.99999999 0.99999999 0.99999999 ...        nan 0.64412811 4.        ]\n",
      "\n",
      " n_non_stop_unique_tokens -- [ 0.81538461  0.7919463   0.66386554 ...  0.88505747 24.\n",
      "  0.69266055]\n",
      "\n",
      " num_hrefs -- [  4.      3.      9.     19.      2.     21.     20.     11.      7.\n",
      "  18.     10.     26.     24.      1.      5.     22.      8.      0.\n",
      "  27.     25.     14.     15.      6.     17.     32.     23.     36.\n",
      "  28.     13.     12.     31.     34.     45.     16.     38.     29.\n",
      "  53.     56.     30.     44.     41.     70.     33.     47.     40.\n",
      "  48.     67.     51.     39.     49.     52.     54.     42.     59.\n",
      "  57.     43.     63.     50.     35.     46.     37.     71.     69.\n",
      "  64.     62.     60.     82.    120.    171.     91.     65.    102.\n",
      "  76.     78.     58.     75.     61.    100.     55.     89.     74.\n",
      "  68.     83.     93.     81.    105.    107.     72.    118.     77.\n",
      "  73.    117.     79.    140.    127.    122.     86.     85.     96.\n",
      " 152.     98.    101.    116.    110.     66.     80.    108.     97.\n",
      " 187.    143.    104.     94.    119.    159.    148.    153.    158.\n",
      " 162.    150.     84.     87.    106.    103.    123.     92.    142.\n",
      "  90.    145.    124.        nan  88.    161.    186.    304.      0.752]\n",
      "\n",
      " num_self_hrefs -- [  2.   1.   0.  19.  20.   3.  18.  24.  22.   4.   7.   6.  21.   8.\n",
      "   5.  10.  11.   9.  30.  23.  38.  27.  12.  39.  15.  47.  31.  28.\n",
      "  16.  41.  34.  42.  13.  17.  36.  51.  40.  55.  63.  32.  53.  25.\n",
      "  54.  14.  50.  26.  33.  74.  56.  49.  37.  29.  43.  60.  44.  35.\n",
      "  62. 116.  nan  65.]\n",
      "\n",
      " num_imgs -- [1.0 20.0 0.0 11.0 9.0 12.0 42.0 28.0 19.0 14.0 23.0 10.0 4.0 16.0 13.0\n",
      " 8.0 26.0 15.0 6.0 5.0 34.0 18.0 7.0 33.0 25.0 21.0 27.0 17.0 22.0 2.0\n",
      " 30.0 99.0 31.0 24.0 37.0 39.0 40.0 61.0 32.0 60.0 35.0 44.0 52.0 47.0\n",
      " 98.0 56.0 46.0 92.0 36.0 62.0 41.0 3.0 75.0 91.0 45.0 48.0 50.0 55.0 76.0\n",
      " 38.0 49.0 54.0 90.0 29.0 71.0 70.0 51.0 64.0 100.0 101.0 43.0 80.0 63.0\n",
      " 53.0 128.0 66.0 67.0 69.0 68.0 58.0 73.0 93.0 57.0 84.0 83.0 108.0 111.0\n",
      " 65.0 79.0 ' 0.0' ' 6.0' ' 1.0' ' 3.0' ' 2.0' ' 13.0' ' 4.0' ' 12.0'\n",
      " ' 5.0' ' 11.0' ' 14.0' ' 10.0' ' 16.0' ' 51.0' ' 24.0' ' 61.0' ' 19.0'\n",
      " ' 25.0' ' 15.0' ' 17.0' ' 7.0' ' 22.0' ' 29.0' ' 21.0' ' 33.0' ' 30.0'\n",
      " ' 26.0' ' 36.0' ' 37.0' ' 9.0' ' 8.0' ' 67.0' ' 60.0' ' 20.0' ' 18.0'\n",
      " ' 28.0' ' 23.0' ' 31.0' ' 27.0' ' 62.0' ' 77.0' ' 59.0' ' 63.0' ' 41.0'\n",
      " ' 79.0' ' 32.0' ' 50.0' ' 38.0' ' 43.0' ' 52.0' ' 48.0' ' 35.0' ' 42.0'\n",
      " nan ' 49.0' ' n.a.']\n",
      "\n",
      " num_videos -- [0.0 1.0 21.0 6.0 11.0 3.0 16.0 12.0 7.0 10.0 2.0 26.0 9.0 14.0 20.0 17.0\n",
      " 4.0 13.0 30.0 8.0 15.0 73.0 5.0 74.0 18.0 75.0 22.0 34.0 19.0 23.0 35.0\n",
      " 33.0 25.0 38.0 24.0 32.0 31.0 27.0 28.0 50.0 51.0 91.0 42.0 53.0 65.0\n",
      " 66.0 29.0 59.0 58.0 48.0 ' 1.0' ' 8.0' ' 3.0' ' 10.0' ' 6.0' ' 2.0'\n",
      " ' 0.0' ' 5.0' ' 38.0' ' 7.0' ' 25.0' ' 27.0' ' 4.0' ' 11.0' ' 9.0'\n",
      " ' 20.0' ' 28.0' ' 26.0' ' 23.0' ' 12.0' ' 13.0' ' 16.0' ' 30.0' ' 24.0'\n",
      " ' 15.0' ' 18.0' ' 17.0' ' 34.0' nan ' 21.0' ' 22.0' ' n.a.' ' 29.0'\n",
      " ' 31.0' ' 14.0' ' 36.0' ' 46.0' ' 19.0' ' 49.0' ' 50.0' ' 48.0'\n",
      " ' 5.07692307692']\n",
      "\n",
      " average_token_length -- [4.6803653  4.91372549 4.39336493 ... 4.4054878  8.         4.97507331]\n",
      "\n",
      " num_keywords -- [ 5.          4.          6.          7.          9.         10.\n",
      "  8.          3.          1.          2.                 nan  0.\n",
      "  4.78078818 -1.        ]\n",
      "\n",
      " data_channel_is_lifestyle -- [ 0.  1. nan  4. 97.]\n",
      "\n",
      " data_channel_is_entertainment -- [ 1.   0.   nan -1.  23.5]\n",
      "\n",
      " data_channel_is_bus -- [0.000e+00 1.000e+00       nan 6.100e+02 9.700e+01 2.056e+05]\n",
      "\n",
      " data_channel_is_socmed -- [0.00000000e+00 1.00000000e+00            nan 8.62857143e+01\n",
      " 1.86000000e+01 8.43300000e+05]\n",
      "\n",
      " data_channel_is_tech -- [0.000e+00 1.000e+00       nan 3.310e+04 3.662e+05]\n",
      "\n",
      " data_channel_is_world -- [ 0.00000000e+00  1.00000000e+00             nan  8.43300000e+05\n",
      " -1.00000000e+00  3.03508056e+03]\n",
      "\n",
      " kw_min_min -- [ 0.00000000e+00  2.17000000e+02  4.00000000e+00  2.94000000e+02\n",
      "  3.18000000e+02  3.77000000e+02  1.29000000e+02  1.16000000e+02\n",
      "  9.80000000e+01  8.60000000e+01  4.70000000e+01  1.38000000e+02\n",
      "  6.30000000e+01  4.50000000e+01  8.20000000e+01  5.70000000e+01\n",
      "  1.84000000e+02  4.10000000e+01 -1.00000000e+00  1.62000000e+02\n",
      "  6.50000000e+01  4.20000000e+01  2.01000000e+02  8.80000000e+01\n",
      "  8.00000000e+01  9.70000000e+01             nan  3.25985714e+05\n",
      "  1.00000000e+00  2.63416667e+05  6.91000000e+02  3.61351295e+03]\n",
      "\n",
      " kw_max_min -- [ 0.00000000e+00  5.04000000e+02  4.62000000e+02 ... -1.00000000e+00\n",
      "  1.68250000e+02  3.29690948e+03]\n",
      "\n",
      " kw_avg_min -- [   0.          421.75        408.33333333 ...  102.86333333 6200.\n",
      " 2100.        ]\n",
      "\n",
      " kw_min_max -- [    0.           480.          1300.         ... 62900.\n",
      "  2554.55552001   883.        ]\n",
      "\n",
      " kw_max_max -- [0.0000e+00 1.7100e+04 2.8000e+04 3.7400e+04 3.9400e+04 5.1900e+04\n",
      " 6.9100e+04 8.0400e+04 2.2730e+05 6.1790e+05 6.9040e+05 3.5800e+04\n",
      " 3.0610e+05 1.5000e+04 5.7600e+04 6.7500e+04 9.3800e+04 7.3100e+04\n",
      " 8.4330e+05 1.1100e+04 1.1870e+05 1.8200e+04 4.1600e+04 1.0410e+05\n",
      " 2.1030e+05 2.7700e+04 3.1080e+05 4.4100e+05 1.3960e+05 1.1130e+05\n",
      " 5.3100e+04 8.6200e+04 2.0830e+05 6.6360e+05 2.3340e+05        nan\n",
      " 4.1000e+03 7.4900e+02 2.9585e+05 2.1000e+03]\n",
      "\n",
      " kw_avg_max -- [     0.           3616.66666667   3516.66666667 ... 374962.5\n",
      " 192985.714286     1753.88235294]\n",
      "\n",
      " kw_min_avg -- [   0.          480.          726.6        ... 2514.74285714 1664.26785714\n",
      " 6880.68703358]\n",
      "\n",
      " kw_max_avg -- [0.00000000e+00 2.01934615e+03 2.31847619e+03 ... 4.20643920e+03\n",
      " 3.38431687e+03 1.00000000e+00]\n",
      "\n",
      " kw_avg_avg -- [   0.          804.38031136  728.23031136 ... 3411.6608297  1400.\n",
      " 1777.89588325]\n",
      "\n",
      " self_reference_min_shares -- [  496.             0.           918.         ... 75500.\n",
      "   306.          1997.32411839]\n",
      "\n",
      " self_reference_max_shares -- [496.   0. 918. ... 669. 719. 452.]\n",
      "\n",
      " self_reference_avg_sharess -- [ 496.            0.          918.         ... 2745.08333333 5181.41666667\n",
      "  452.        ]\n",
      "\n",
      " weekday_is_monday -- [  1.   0.  nan 862.]\n",
      "\n",
      " weekday_is_tuesday -- [0.         1.                nan 0.05000126]\n",
      "\n",
      " weekday_is_wednesday -- [0.         1.                nan 0.79933895]\n",
      "\n",
      " weekday_is_thursday -- [0.         1.                nan 0.0285729  0.03333679 0.05000041]\n",
      "\n",
      " weekday_is_friday -- [0.         1.                nan 0.028583   0.6997273  0.05065874]\n",
      "\n",
      " weekday_is_saturday -- [0.         1.                nan 0.02860896 0.19994097 0.05000064]\n",
      "\n",
      " weekday_is_sunday -- [0.0 1.0 ' 0.0' ' 1.0' ' n.a.' nan ' 0.692813457591' ' 0.0336612726943'\n",
      " ' 0.517893217893']\n",
      "\n",
      " is_weekend -- [0.         1.                nan 0.22142169 0.03333366 0.15900446\n",
      " 0.10489177]\n",
      "\n",
      " LDA_00 -- [0.5003312  0.79975569 0.21779229 ... 0.02502466 0.04000361 0.06369427]\n",
      "\n",
      " LDA_01 -- [0.37827893 0.05004668 0.03333446 ... 0.02520734 0.04000349 0.01273885]\n",
      "\n",
      " LDA_02 -- [0.04000468 0.05009625 0.03335142 ... 0.64379353 0.83998726 0.83333333]\n",
      "\n",
      " LDA_03 -- [0.04126265 0.05010067 0.03333354 ... 0.14697    0.0400021  0.16666667]\n",
      "\n",
      " LDA_04 -- [0.04012254 0.05000071 0.68218829 ... 0.51029582 0.04000355 0.24733766]\n",
      "\n",
      " global_subjectivity -- [0.52161715 0.34124579 0.70222222 ... 0.56437426 0.02460859 0.35857761]\n",
      "\n",
      " global_sentiment_polarity -- [ 0.09256198  0.14894781  0.32333333 ...  0.19424931  0.03393665\n",
      " -0.00806586]\n",
      "\n",
      " global_rate_positive_words -- [ 0.0456621   0.04313725  0.05687204 ...  0.02670387  0.04665439\n",
      " -0.2       ]\n",
      "\n",
      " global_rate_negative_words -- [ 0.01369863  0.01568627  0.00947867 ...  0.0208717   0.57692308\n",
      " -0.2       ]\n",
      "\n",
      " rate_positive_words -- [ 0.76923077  0.73333333  0.85714286 ...  0.72566372  0.55833333\n",
      " -0.2       ]\n",
      "\n",
      " rate_negative_words -- [0.23076923 0.26666667 0.14285714 ... 0.27433628 0.44166667 0.30727273]\n",
      "\n",
      " avg_positive_polarity -- [0.37863636 0.2869146  0.49583333 ... 0.57346939 0.33379121 0.23685065]\n",
      "\n",
      " min_positive_polarity -- [0.1        0.03333333 0.13636364 0.4        0.2        0.16\n",
      " 0.05       0.25       0.0625     0.16666667 0.21428571 0.28571429\n",
      " 0.7        0.5        0.375      0.         0.15       0.43333333\n",
      " 0.08333333 0.3        0.35       0.33333333 0.41666667 0.6\n",
      " 0.35714286 0.8        0.125      0.22727273 0.36666667 1.\n",
      " 0.45       0.9        0.75              nan 0.22792208]\n",
      "\n",
      " max_positive_polarity -- [ 0.7         1.          0.8         0.6         0.5         0.35\n",
      "  0.43333333  0.85        0.33333333  0.75        0.4         0.2\n",
      "  0.28571429  0.3         0.375       0.1         0.9         0.13636364\n",
      "  0.55        0.83333333  0.15        0.          0.25        0.73333333\n",
      "  0.03333333  0.16        0.41666667  0.16666667  0.66666667  0.21428571\n",
      "  0.05        0.35714286  0.0625      0.45        0.22727273  0.65\n",
      "  0.95        0.36666667         nan -0.35643939]\n",
      "\n",
      " avg_negative_polarity -- [-3.50000000e-01 -1.18750000e-01 -4.66666667e-01 ... -4.29534314e-01\n",
      " -2.05245536e-01  1.30000000e+03]\n",
      "\n",
      " min_negative_polarity -- [-0.6        -0.125      -0.8        -0.5        -0.4        -1.\n",
      " -0.7        -0.1875     -0.2        -0.16666667  0.         -0.3125\n",
      " -0.3        -0.1        -0.25       -0.15       -0.15555556 -0.71428571\n",
      " -0.38888889 -0.13333333 -0.9        -0.75       -0.66666667 -0.33333333\n",
      " -0.29166667 -0.375      -0.625      -0.07142857 -0.05       -0.65\n",
      " -0.43333333 -0.21428571 -0.875      -0.14285714 -0.56666667 -0.23076923\n",
      " -0.31666667 -0.17857143 -0.55       -0.025      -0.41666667 -0.175\n",
      " -0.06666667 -0.075      -0.21       -0.07692308 -0.03333333 -0.0125\n",
      " -0.46666667 -0.73333333 -0.35       -0.21666667 -0.08333333         nan\n",
      " -0.225      -0.24236111]\n",
      "\n",
      " max_negative_polarity -- [-2.00000000e-01 -1.00000000e-01 -1.33333333e-01 -1.66666667e-01\n",
      " -5.00000000e-02 -1.25000000e-01  0.00000000e+00 -8.33333333e-03\n",
      " -4.00000000e-01 -3.00000000e-01 -7.14285714e-02 -1.50000000e-01\n",
      " -2.50000000e-02 -1.87500000e-01 -7.50000000e-02 -3.33333333e-02\n",
      " -1.55555556e-01 -2.50000000e-01 -1.78571429e-01 -8.00000000e-01\n",
      " -8.33333333e-02 -1.25000000e-02 -2.91666667e-01 -5.00000000e-01\n",
      " -7.69230769e-02 -3.12500000e-01 -3.33333333e-01 -6.66666667e-02\n",
      " -1.75000000e-01 -7.00000000e-01 -1.00000000e+00 -7.50000000e-01\n",
      " -6.00000000e-01 -3.16666667e-01 -3.88888889e-01 -6.66666667e-01\n",
      " -1.42857143e-01 -2.14285714e-01 -2.16666667e-01 -7.14285714e-01\n",
      " -2.30769231e-01 -4.33333333e-01 -6.25000000e-01 -3.75000000e-01\n",
      " -9.00000000e-01 -2.25000000e-01 -2.10000000e-01 -8.75000000e-01\n",
      " -5.50000000e-01             nan  4.00000000e+03  1.20000000e+03\n",
      "  4.54545455e-01]\n",
      "\n",
      " title_subjectivity -- [ 0.5         0.          0.45454545  0.64285714  1.          0.125\n",
      "  0.75        0.56666667  0.85714286  0.45        0.7         0.9\n",
      "  0.55        0.66666667  0.4         0.58333333  0.85        0.42727273\n",
      "  0.33333333  0.65        0.25        0.06666667  0.375       0.48333333\n",
      "  0.3         0.1         0.8         0.2         0.54375     0.95\n",
      "  0.3125      0.28888889  0.42857143  0.6         0.83333333  0.57142857\n",
      "  0.50707071  0.48809524  0.38333333  0.28333333  0.16666667  0.35\n",
      "  0.21666667  0.475       0.43333333  0.825       0.82142857  0.91666667\n",
      "  0.05        0.5375      0.625       0.225       0.41666667  0.21428571\n",
      "  0.70707071  0.52222222  0.55555556  0.44166667  0.61111111  0.26060606\n",
      "  0.14285714  0.18888889  0.36666667  0.53333333  0.37727273  0.23333333\n",
      "  0.18333333  0.22727273  0.3523088   0.14444444  0.31818182  0.36785714\n",
      "  0.42380952  0.35555556  0.03333333  0.15        0.775       0.31071429\n",
      "  0.77        0.54        0.68888889  0.76666667  0.56428571  0.875\n",
      "  0.52        0.54166667  0.64444444  0.27727273  0.55227273  0.73333333\n",
      "  0.08333333  0.02222222  0.2125      0.68333333  0.31666667  0.50833333\n",
      "  0.71428571  0.22222222  0.5487013   0.88888889  0.43666667  0.77777778\n",
      "  0.57        0.34444444  0.52142857  0.8125      0.72727273  0.62727273\n",
      "  0.94444444  0.70833333  0.22916667  0.89583333  0.72222222  0.63333333\n",
      "  0.46666667  0.45333333  0.175       0.39166667  0.4375      0.68055556\n",
      "  0.65833333  0.32222222  0.44444444  0.45833333  0.27857143  0.3625\n",
      "  0.40833333  0.41111111  0.47727273  0.71785714  0.04761905  0.13333333\n",
      "  0.67727273  0.22294372  0.41477273  0.6875      0.19047619  0.43484848\n",
      "  0.2375      0.17777778  0.4625      0.56333333  0.7125      0.575\n",
      "  0.59166667  0.44666667  0.0625      0.3875      0.425       0.675\n",
      "  0.22777778  0.51666667  0.525       0.39444444  0.5959596   0.43961039\n",
      "  0.6452381   0.61363636  0.27        0.53571429  0.38974359  0.27460317\n",
      "  0.29166667  0.25555556  0.57727273  0.5875      0.1875      0.21818182\n",
      "  0.15833333  0.51893939  0.09583333  0.37        0.20707071  0.30833333\n",
      "  0.32727273  0.0962963   0.49166667  0.28977273  0.07142857  0.37171717\n",
      "  0.54545455  0.35714286  0.1125      0.24444444  0.56060606  0.47916667\n",
      "  0.80833333  0.26666667  0.41818182  0.538       0.48888889  0.29444444\n",
      "  0.49727273  0.27651515  0.19166667  0.32962963  0.85555556  0.57111111\n",
      "  0.32142857  0.61333333  0.61666667  0.51298701  0.47        0.5125\n",
      "  0.35227273  0.42222222  0.61944444  0.4875      0.39333333  0.47090909\n",
      "  0.3547619   0.38762626  0.60227273  0.69375     0.42083333  0.44393939\n",
      "  0.59090909  0.6125      0.275       0.42929293  0.78888889  0.50227273\n",
      "  0.31111111  0.38888889  0.22083333  0.58484848  0.66785714  0.65555556\n",
      "  0.65151515  0.76785714  0.55833333  0.38484848  0.24074074  0.57373737\n",
      "  0.41444444  0.47929293  0.38961039  0.24166667  0.44318182  0.11666667\n",
      "  0.41428571  0.68484848  0.61818182  0.24761905  0.35416667  0.53977273\n",
      "  0.41071429  0.89        0.33441558  0.23611111  0.5625      0.15555556\n",
      "  0.42916667  0.57777778  0.36111111  0.46780303  0.07692308  0.28571429\n",
      "  0.325       0.17857143  0.31785714  0.60714286  0.60151515  0.925\n",
      "  0.60416667  0.52727273  0.54444444  0.26262626  0.33888889  0.53246753\n",
      "  0.36363636  0.12962963  0.60833333  0.82222222  0.39583333  0.47083333\n",
      "  0.18611111  0.47777778  0.56262626  0.41346154  0.19444444  0.49810606\n",
      "  0.025       0.59333333  0.31363636  0.22857143  0.32        0.725\n",
      "  0.37708333  0.68613636  0.70227273  0.22962963  0.86666667  0.45705128\n",
      "  0.44155844  0.64166667  0.48484848  0.49318182  0.52929293  0.7625\n",
      "  0.71666667  0.34469697  0.50530303  0.57857143  0.31388889  0.28484848\n",
      "  0.46785714  0.45151515  0.47651515  0.495       0.35833333  0.52962963\n",
      "  0.47222222  0.48055556  0.1625      0.47142857  0.37222222  0.54583333\n",
      "  0.39393939  0.38833333  0.51818182  0.51388889  0.2625      0.20833333\n",
      "  0.54040404  0.62142857  0.445       0.40707071  0.51111111  0.25227273\n",
      "  0.21111111  0.2962963   0.3325      0.66484848  0.24781145  0.62222222\n",
      "  0.27777778  0.59375     0.78333333  0.48214286  0.65625     0.33194444\n",
      "  0.47460317  0.69444444  0.64393939  0.16296296  0.58114478  0.52857143\n",
      "  0.17373737  0.55714286  0.49512987  0.6375      0.28114478  0.65530303\n",
      "  0.16363636  0.48095238  0.26785714  0.42962963  0.32083333  0.39285714\n",
      "  0.40584416  0.33207071  0.37142857  0.6547619   0.2875      0.05555556\n",
      "  0.3375      0.07777778  0.45625     0.55416667  0.26388889  0.74761905\n",
      "  0.60984848  0.77222222  0.60555556  0.52083333  0.46111111  0.79166667\n",
      "  0.37857143  0.31333333  0.58863636  0.45227273  0.18484848  0.50892857\n",
      "  0.75555556  0.5344697   0.58        0.695       0.27272727  0.40416667\n",
      "  0.26296296  0.42        0.39        0.25984848  0.76190476  0.49675325\n",
      "  0.35119048  0.49818182  0.51785714  0.38125     0.48        0.41333333\n",
      "  0.43888889  0.3959596   0.45555556  0.92857143  0.975       0.4125\n",
      "  0.53650794  0.46540404  0.36262626  0.78571429  0.34375     0.43611111\n",
      "  0.48452381  0.67142857  0.42142857  0.56111111  0.26923077  0.80151515\n",
      "  0.22708333  0.44040404  0.36484848  0.62380952  0.34166667  0.22142857\n",
      "  0.36580087  0.77651515  0.40984848  0.87142857  0.58611111  0.74285714\n",
      "  0.44722222  0.56363636  0.5962963   0.2969697   0.63636364  0.46969697\n",
      "  0.4030303   0.38214286  0.77142857  0.45039683  0.46296296  0.68095238\n",
      "  0.645       0.19318182  0.52777778  0.67857143  0.69285714  0.54761905\n",
      "  0.38392857  0.69047619  0.40777778  0.71875     0.80555556  0.53888889\n",
      "  0.39074074  0.46363636  0.76818182  0.33541667  0.30530303  0.45738636\n",
      "  0.71333333  0.40151515  0.56984127  0.47619048  0.37070707  0.50555556\n",
      "  0.46153846  0.56484848  0.69333333  0.31904762  0.47857143  0.57102273\n",
      "  0.37777778  0.78484848  0.75833333  0.71818182  0.49375     0.45651515\n",
      "  0.60333333  0.55151515  0.72        0.51        0.25833333  0.45111111\n",
      "  0.69166667  0.48863636  0.4575      0.37083333  0.23863636  0.70151515\n",
      "  0.41447811  0.845       0.72083333  0.51190476  0.30054113  0.34488636\n",
      "  0.44375     0.20151515  0.55873016  0.52294372  0.59444444  0.51363636\n",
      "  0.23888889  0.11111111  0.71111111  0.54090909  0.656875    0.51333333\n",
      "  0.33846154  0.48571429  0.19259259  0.4512987   0.4469697   0.32777778\n",
      "  0.3969697   0.4962963   0.59722222  0.53846154  0.5719697   0.36388889\n",
      "  0.74166667  0.48551136  0.35151515  0.43650794  0.3030303   0.07083333\n",
      "  0.27083333  0.32929293  0.075       0.53863636  0.30707071  0.44642857\n",
      "  0.88333333  0.62613636  0.2959596   0.05128205  0.81111111  0.65247253\n",
      "  0.58035714  0.43452381  0.56818182  0.32770563  0.4959596   0.33405483\n",
      "  0.71388889  0.46720779  0.3469697   0.30714286  0.59642857  0.15151515\n",
      "  0.28        0.06388889  0.36818182  0.41363636  0.56296296  0.92666667\n",
      "  0.51944444  0.75416667  0.65227273  0.52380952  0.64583333  0.78\n",
      "  0.45777778  0.69        0.66        0.81666667  0.57083333  0.40530303\n",
      "  0.33560606  0.53484848  0.36        0.42777778  0.75267857  0.50357143\n",
      "  0.3344697   0.61904762  0.31060606  0.52916667  0.745       0.435\n",
      "  0.31988636  0.52761905  0.46818182  0.21190476  0.16944444  0.58095238\n",
      "  0.20625     0.6625      0.485       0.34393939  0.66477273  0.43238636\n",
      "  0.14047619  0.68227273  0.58928571  0.25054113  0.81818182  0.36333333\n",
      "  0.195       0.64666667  0.21090909  0.63151515  0.54285714  0.24040404\n",
      "  0.40277778  0.51262626  0.43166667  0.45707071  0.35984848  0.42539683\n",
      "  0.37757576  0.28863636  0.52558923  0.04166667  0.77857143  0.54107143\n",
      "  0.27613636  0.96666667  0.12222222  0.18181818  0.395       0.27962963\n",
      "  0.64761905  0.35768398  0.51085859  0.32651515  0.20694444  0.48238636\n",
      "  0.09365079  0.9375      0.0375      0.58888889  0.61607143  0.26944444\n",
      "  0.61969697  0.36296296  0.25416667  0.72777778  0.51904762  0.25714286\n",
      "         nan  0.67777778  0.65892857  0.24666667  0.73484848  0.45238095\n",
      "  0.33035714  0.33461538  0.56875     0.51988636  0.65277778  0.52613636\n",
      "  0.62301587  0.53611111  0.62407407  0.66111111  0.56785714  0.46477273\n",
      "  0.52133333  0.34583333  0.33        0.55238095  0.28475524  0.63666667\n",
      "  0.3452381   0.49583333  0.63888889  0.38352273  0.30429293  0.0875\n",
      "  0.61071429 -0.05        0.46875     0.13636364]\n",
      "\n",
      " title_sentiment_polarity -- [-1.87500000e-01  0.00000000e+00  1.36363636e-01  2.14285714e-01\n",
      "  5.00000000e-01 -1.00000000e+00  5.50000000e-01 -2.50000000e-01\n",
      " -1.00000000e-01 -7.14285714e-01  4.00000000e-01 -4.00000000e-01\n",
      "  1.00000000e+00  3.50000000e-01 -6.00000000e-01 -5.00000000e-01\n",
      "  1.00000000e-01 -5.00000000e-02  2.50000000e-01  1.68181818e-01\n",
      "  2.00000000e-01  3.33333333e-02 -1.25000000e-01 -6.25000000e-02\n",
      "  4.16666667e-01  3.33333333e-01 -2.56250000e-01  6.50000000e-01\n",
      "  2.37500000e-01  1.77777778e-01  1.75000000e-01  6.00000000e-01\n",
      "  6.33333333e-01  6.66666667e-01 -3.00000000e-01  3.00000000e-01\n",
      " -8.00000000e-01  3.57142857e-01  8.98989899e-02  2.32142857e-01\n",
      " -3.50000000e-01  6.25000000e-02  2.66666667e-01 -1.50000000e-01\n",
      "  4.33333333e-01 -3.33333333e-02 -7.50000000e-01  7.00000000e-01\n",
      " -2.00000000e-01 -8.33333333e-02  3.75000000e-01  8.00000000e-01\n",
      " -1.66666667e-01  4.25000000e-01 -3.16666667e-01  5.16666667e-01\n",
      " -7.00000000e-01  1.66666667e-01 -7.50000000e-02  2.71590909e-01\n",
      " -3.75000000e-01  1.25000000e-01  1.66666667e-02  1.93181818e-01\n",
      "  1.56565657e-01 -7.14285714e-02  5.00000000e-02 -2.77555756e-17\n",
      " -2.12121212e-02  9.00000000e-01  8.33333333e-02  6.81818182e-02\n",
      "  1.11111111e-02  4.95833333e-01 -3.83333333e-01  1.33333333e-01\n",
      "  6.75000000e-01 -1.33333333e-01  1.51803752e-01 -2.25000000e-01\n",
      " -7.77777778e-02  6.66666667e-02  3.12121212e-01  2.92857143e-01\n",
      "  2.85714286e-01  7.50000000e-01 -2.22222222e-02  1.41071429e-01\n",
      "  8.00000000e-02 -1.21875000e-01  1.60000000e-01  4.16666667e-02\n",
      " -9.28571429e-02  3.37500000e-01  4.50000000e-01 -4.44444444e-02\n",
      " -4.83333333e-01 -6.50000000e-02 -2.91666667e-01 -3.27777778e-01\n",
      "  6.59090909e-02 -1.25000000e-02 -1.55555556e-01  4.75000000e-01\n",
      " -1.66666667e-02  2.25000000e-01  1.41666667e-01  3.91666667e-01\n",
      "  2.91666667e-01  8.48484848e-02  8.50000000e-01 -4.37500000e-02\n",
      "  2.50000000e-02  3.66666667e-01  7.77777778e-02  1.75324675e-01\n",
      "  2.16666667e-01  1.16666667e-01 -3.88888889e-01  6.25000000e-01\n",
      "  6.44444444e-01  3.80000000e-01  1.44444444e-01 -1.78571429e-02\n",
      "  2.44444444e-01  2.68181818e-01  5.68181818e-01 -1.88888889e-01\n",
      "  4.58333333e-01  4.68181818e-01  2.75000000e-01  1.83333333e-01\n",
      " -3.33333333e-01  1.50000000e-01  3.11111111e-01  2.83333333e-01\n",
      "  2.32323232e-02  2.34848485e-01  5.66666667e-01  1.46666667e-01\n",
      " -1.75000000e-01  1.87500000e-01 -2.63888889e-01 -4.16666667e-02\n",
      " -5.55555556e-02  1.88888889e-01  2.33333333e-01 -9.37500000e-02\n",
      "  2.05555556e-01  3.40909091e-02  4.42857143e-01  9.52380952e-03\n",
      "  4.18181818e-01  3.20000000e-01  2.16450216e-02  5.68181818e-03\n",
      " -3.12500000e-01 -1.19047619e-01  2.78787879e-01 -6.11111111e-02\n",
      "  1.12500000e-01  8.66666667e-02 -1.31818182e-01  3.87500000e-01\n",
      "  3.68181818e-01 -1.81818182e-01  2.53333333e-01  4.93181818e-01\n",
      " -2.75000000e-01  3.25000000e-01 -3.75000000e-02  2.95454545e-01\n",
      "  1.38311688e-01  5.33333333e-01  4.61904762e-01  1.59090909e-01\n",
      " -2.54545455e-01  3.44444444e-01 -2.44318182e-01  1.72222222e-01\n",
      "  4.10256410e-02  1.37500000e-01  2.12500000e-01 -2.81818182e-01\n",
      "  3.16666667e-01  2.55681818e-01  1.12121212e-01 -1.08333333e-01\n",
      "  6.87500000e-01  7.50000000e-02 -7.80000000e-01  2.76515152e-01\n",
      " -3.95833333e-01 -4.16666667e-01  1.30000000e-01  1.23232323e-01\n",
      "  1.71590909e-01  1.18181818e-01 -5.18518519e-02 -8.75000000e-02\n",
      " -6.50000000e-01 -9.59595960e-03  2.27272727e-01  3.18181818e-01\n",
      " -5.77777778e-01  5.25000000e-01  2.22222222e-02 -2.66666667e-01\n",
      " -6.66666667e-02 -4.50000000e-01 -2.62500000e-01  2.12121212e-01\n",
      " -4.31818182e-01 -1.07142857e-01  1.62121212e-01 -1.68000000e-01\n",
      "  4.22222222e-01  1.48181818e-01 -5.55555556e-03  7.87878788e-02\n",
      "  4.81481481e-02  4.31818182e-02 -3.66666667e-01 -8.33333333e-03\n",
      "  1.22222222e-01  1.07142857e-01  4.37500000e-01 -2.46666667e-01\n",
      "  9.16666667e-02  4.66666667e-01  2.46753247e-01 -1.20000000e-01\n",
      "  1.61111111e-01 -6.25000000e-01  2.97222222e-01  3.26666667e-01\n",
      " -1.12727273e-01 -3.18181818e-02  1.23809524e-01  1.28787879e-01\n",
      " -3.56250000e-01 -2.50000000e-02 -4.58333333e-02 -1.51515152e-02\n",
      "  1.12272727e-01  6.40151515e-02 -2.83333333e-01  2.43181818e-01\n",
      " -3.57142857e-02 -5.50000000e-01 -2.16666667e-01 -4.33333333e-01\n",
      "  3.30000000e-01  3.12500000e-02 -1.22222222e-01  4.12121212e-01\n",
      "  4.79166667e-02  3.42857143e-01  2.45454545e-01 -2.93750000e-01\n",
      " -1.69642857e-01  2.58333333e-01  4.83333333e-01 -1.07407407e-01\n",
      "  2.23232323e-01  2.22222222e-03  1.88311688e-01 -1.83333333e-01\n",
      " -1.11111111e-02 -4.16666667e-03 -2.12500000e-01 -1.48484848e-01\n",
      "  7.14285714e-03  4.78787879e-01  5.37500000e-01  1.78571429e-01\n",
      " -7.81666667e-01  3.24675325e-02 -1.16666667e-01  2.06250000e-01\n",
      " -3.25000000e-01  2.04166667e-01  2.08333333e-01  2.29924242e-01\n",
      "  2.18181818e-01 -1.78571429e-01  9.94318182e-02 -2.12962963e-01\n",
      "  1.42857143e-01  3.89285714e-01  1.38777878e-17  3.12500000e-01\n",
      " -5.12500000e-01 -2.77777778e-01 -5.68181818e-02  2.83549784e-01\n",
      " -2.84722222e-01  1.67424242e-01  3.08333333e-01 -2.31818182e-01\n",
      "  1.56250000e-01 -3.69318182e-01 -1.04545455e-01  2.54166667e-01\n",
      " -6.38888889e-02 -6.66666667e-01 -4.27777778e-01 -2.27777778e-01\n",
      "  4.27777778e-01  3.54166667e-01 -7.76515152e-02 -2.66666667e-02\n",
      "  4.72222222e-02  5.55555556e-03  2.81250000e-01 -1.39583333e-01\n",
      " -1.75909091e-01 -1.29166667e-01  3.43181818e-01 -2.96296296e-02\n",
      "  1.80000000e-01 -1.62500000e-01  2.42307692e-01  8.33333333e-03\n",
      " -5.62500000e-01  9.37500000e-02  1.21212121e-02 -3.78787879e-02\n",
      "  2.61111111e-01 -1.54545455e-01  2.62121212e-01  9.09090909e-02\n",
      " -2.33333333e-01  1.57142857e-01 -5.07142857e-01  3.58333333e-01\n",
      "  1.78787879e-01  1.39898990e-01  2.42857143e-01 -3.43750000e-01\n",
      " -4.06565657e-02  1.48148148e-02 -1.27777778e-01 -3.22222222e-01\n",
      "  6.07142857e-01  1.08333333e-01 -6.37500000e-01  1.45454545e-01\n",
      "  4.54545455e-02  6.25000000e-03 -2.18750000e-01  5.18181818e-01\n",
      "  1.36666667e-01 -1.21212121e-01  4.80000000e-01 -6.25000000e-03\n",
      "  2.39898990e-01  3.07142857e-01  1.65000000e-01  5.65656566e-02\n",
      "  7.32323232e-02  1.11111111e-01  2.08333333e-02  6.75000000e-02\n",
      "  8.88888889e-02 -1.43750000e-01 -6.07142857e-01  3.62121212e-01\n",
      "  2.65454545e-01  7.08333333e-02 -6.39730640e-03 -5.33333333e-01\n",
      " -1.42857143e-01  1.91666667e-01  2.36111111e-01 -1.56250000e-01\n",
      " -1.40277778e-01 -1.43650794e-01  3.83333333e-01  2.84848485e-01\n",
      "  8.14814815e-02  9.50000000e-01 -2.77777778e-02  1.60269360e-01\n",
      "  2.45833333e-01 -8.78787879e-02  2.11038961e-01  2.63888889e-01\n",
      "  5.55555556e-02 -1.57142857e-01  1.81818182e-02  8.92857143e-02\n",
      "  3.75000000e-02  5.90909091e-02  1.93650794e-01  7.14285714e-02\n",
      "  2.89898990e-01  1.70454545e-01 -5.95238095e-02 -1.77777778e-01\n",
      "  1.81250000e-01 -1.11111111e-01  2.51515152e-01  6.70995671e-02\n",
      " -5.71428571e-02  1.54166667e-01  2.88888889e-01  4.11111111e-01\n",
      "  5.04761905e-01  1.03787879e-01 -8.50000000e-01 -4.75000000e-01\n",
      " -7.63888889e-02  1.04166667e-01  1.14583333e-01 -1.37878788e-01\n",
      "  3.88888889e-02 -4.54166667e-01 -9.84848485e-02  2.57142857e-01\n",
      "  2.72222222e-01 -8.00000000e-02  8.40909091e-02  1.94444444e-01\n",
      "  8.06818182e-02  2.87878788e-02  2.07142857e-01 -5.83333333e-02\n",
      " -2.08333333e-02  4.46428571e-02 -9.00000000e-01 -2.08333333e-01\n",
      "  5.08333333e-01  2.11174242e-01  3.62500000e-01  5.87500000e-01\n",
      "  9.09090909e-03  4.44444444e-02  6.50000000e-02 -2.65151515e-01\n",
      "  1.13636364e-01 -1.12500000e-01 -1.45833333e-01  4.64285714e-01\n",
      "  4.55000000e-01  4.28571429e-01  2.40692641e-01  5.95238095e-02\n",
      " -1.61111111e-01  3.92857143e-01  3.66666667e-02  5.91666667e-01\n",
      "  1.86666667e-01  8.75000000e-02  4.06250000e-01  1.95454545e-01\n",
      "  6.16666667e-01  5.07142857e-01 -2.17460317e-01 -5.45454545e-02\n",
      " -1.85101010e-01  1.38888889e-01  1.20370370e-01  2.28571429e-01\n",
      "  6.11111111e-01 -2.55555556e-01 -1.94444444e-01 -5.17676768e-02\n",
      " -5.83333333e-01  2.94444444e-01  2.38095238e-01 -8.18181818e-02\n",
      "  5.71428571e-02  4.76190476e-03  2.05000000e-01 -4.66666667e-01\n",
      " -2.00000000e-02  1.62500000e-01  1.34343434e-01  2.09090909e-01\n",
      " -7.69230769e-02  9.87878788e-02  5.43750000e-01  3.52380952e-01\n",
      "  2.27777778e-01  8.35497835e-02 -2.87878788e-01 -2.22222222e-01\n",
      " -1.46666667e-01  1.37121212e-01  2.82142857e-01 -6.83333333e-01\n",
      "  7.80000000e-01  5.75000000e-01  1.09090909e-01 -2.43750000e-01\n",
      "  1.73148148e-01 -5.75757576e-02  2.77777778e-01  2.90909091e-01\n",
      "  2.84090909e-02  4.24242424e-01  1.39285714e-01  4.57142857e-01\n",
      "  1.13095238e-01  2.77777778e-02 -1.41666667e-01 -1.18518519e-01\n",
      "  3.38095238e-01  1.75000000e-02  2.22222222e-01 -3.57142857e-01\n",
      "  1.27777778e-01 -2.68750000e-01  2.67857143e-01 -2.81250000e-01\n",
      " -4.25000000e-01  4.44444444e-01  3.41666667e-01  6.45454545e-01\n",
      "  4.52380952e-01 -5.66666667e-01 -1.46111111e-01 -7.91666667e-02\n",
      "  9.44444444e-02 -1.01851852e-01  3.09090909e-01  1.25000000e-02\n",
      " -7.37500000e-01  9.24242424e-02  1.27840909e-01  2.57575758e-01\n",
      " -3.02222222e-01  3.94444444e-01  1.26666667e-01  3.15873016e-01\n",
      "  1.48611111e-01 -2.91666667e-02  7.73809524e-02  2.42424242e-01\n",
      "  1.70370370e-01  5.83333333e-02 -1.58333333e-01 -2.30769231e-01\n",
      " -2.58333333e-01  1.58333333e-01 -1.04166667e-01  2.32121212e-01\n",
      " -6.52000000e-01  9.58333333e-02  9.52380952e-02 -5.87500000e-01\n",
      " -3.41666667e-01 -8.80681818e-02 -2.44444444e-01 -3.87500000e-01\n",
      "  5.42857143e-01  5.00000000e-03  7.25000000e-01  4.45454545e-01\n",
      "  1.45833333e-01 -8.75000000e-01  3.43750000e-01 -1.44444444e-01\n",
      "  5.71212121e-02 -1.70000000e-01  3.78787879e-01 -2.20000000e-01\n",
      "  2.90000000e-01  5.27777778e-02  2.55555556e-02  1.53787879e-01\n",
      " -6.59090909e-02 -4.54545455e-03  3.61904762e-01 -1.38888889e-01\n",
      "  3.28787879e-01  3.06250000e-01 -9.09090909e-02 -4.45833333e-01\n",
      "  3.22222222e-01 -2.54329004e-02  2.34090909e-01 -5.62500000e-02\n",
      "  3.88888889e-01  2.88095238e-01  2.21645022e-01  2.21590909e-01\n",
      "  1.67857143e-01 -3.34375000e-01  1.30555556e-01  1.97272727e-01\n",
      "  2.87500000e-01 -1.13333333e-01  5.55111512e-17  1.86875000e-01\n",
      "  2.77555756e-17 -1.29545455e-01 -2.04166667e-01 -1.03703704e-01\n",
      "  3.04166667e-01 -1.57575758e-01  6.94444444e-02 -1.68750000e-01\n",
      " -2.92857143e-01  3.21428571e-02  2.46590909e-01 -4.58333333e-01\n",
      " -2.51851852e-01  4.16666667e-03 -1.70454545e-02  2.67500000e-01\n",
      " -2.53333333e-01 -3.31818182e-01  1.01010101e-01 -4.68750000e-01\n",
      "  1.81481481e-01  4.43181818e-01  5.59659091e-02 -1.01010101e-02\n",
      " -1.40909091e-01 -1.85185185e-02  9.31818182e-02  2.70454545e-01\n",
      "  1.85037171e-17 -2.15909091e-01 -5.08333333e-01  9.04761905e-02\n",
      " -1.28205128e-02 -1.51851852e-01 -1.09890110e-02 -1.53409091e-01\n",
      " -1.91666667e-01 -7.07142857e-01 -4.77777778e-01 -2.76767677e-01\n",
      " -1.59090909e-02  2.48148148e-01 -4.20000000e-01  9.06250000e-02\n",
      " -2.10101010e-01 -3.45833333e-01  1.04978355e-01 -2.21212121e-01\n",
      "  2.73809524e-01 -6.81818182e-03  4.12337662e-02  1.92424242e-01\n",
      " -2.35714286e-01  1.34090909e-01 -8.92857143e-02 -4.21212121e-01\n",
      "  5.33333333e-02 -6.81818182e-02 -3.40909091e-03 -9.16666667e-02\n",
      "  1.48148148e-01  7.22222222e-02  4.25925926e-02  1.95833333e-01\n",
      " -8.47222222e-02 -1.73611111e-01  1.55555556e-01  1.92857143e-01\n",
      "  1.51515152e-03 -8.88888889e-02 -1.07323232e-01 -3.62500000e-01\n",
      "  9.25185854e-18  4.08333333e-01  5.20000000e-01  2.20000000e-01\n",
      "  1.82121212e-01  8.05555556e-02 -7.66666667e-02 -1.07575758e-01\n",
      " -1.23063973e-01  2.55555556e-01  5.83333333e-01  3.64285714e-01\n",
      " -4.10714286e-02  1.84090909e-01 -6.87500000e-02  2.91666667e-02\n",
      "  1.14814815e-01 -4.65277778e-02  2.52380952e-01  3.55000000e-01\n",
      "  2.35000000e-01  2.30000000e-01  1.05555556e-01 -1.93750000e-01\n",
      "  6.41666667e-01  2.58095238e-01 -2.18518519e-01 -9.58333333e-02\n",
      "  3.57142857e-02 -9.52380952e-02  1.20000000e-01 -1.87500000e-02\n",
      " -2.41666667e-01  9.00000000e-02  1.42424242e-01  2.31250000e-01\n",
      " -9.01515152e-02  6.02693603e-02  1.15340909e-01 -1.91818182e-01\n",
      "  7.87337662e-02 -6.21212121e-01  2.59090909e-01  3.61111111e-02\n",
      "  3.05555556e-01  2.72916667e-01  6.72727273e-02  8.12500000e-02\n",
      "  2.98787879e-01  1.21428571e-01  4.77777778e-01 -3.08333333e-01\n",
      "  3.77777778e-01 -4.66666667e-02  6.21212121e-02  3.30555556e-01\n",
      "  3.09523810e-01  9.54545455e-02 -2.88194444e-01  4.28787879e-01\n",
      " -8.15000000e-01  7.83333333e-02 -1.19047619e-02  2.57272727e-01\n",
      " -1.18750000e-01  1.38047138e-01 -6.56565657e-02 -5.57142857e-01\n",
      "  6.75595238e-02 -7.00757576e-02 -1.69444444e-01 -4.92424242e-02\n",
      "  7.57575758e-02 -4.50000000e-02 -4.37500000e-01 -5.43750000e-01\n",
      "  4.91666667e-01 -7.67676768e-02  2.71428571e-01 -2.87500000e-01\n",
      "  4.62500000e-01  9.65909091e-02  4.71590909e-01  2.96590909e-01\n",
      " -1.19318182e-01  9.81481481e-02  2.84090909e-03  3.67857143e-01\n",
      " -2.38095238e-02 -1.95000000e-01  2.56250000e-01 -2.95833333e-01\n",
      "  1.59090909e-02 -4.19642857e-01 -1.19444444e-01 -2.55681818e-02\n",
      "  1.43181818e-01  2.74242424e-01  1.42857143e-02  6.48148148e-02\n",
      "  5.35714286e-02  2.62500000e-01  2.03787879e-01  6.08333333e-01\n",
      " -6.30000000e-01 -2.29761905e-01  5.80000000e-01             nan\n",
      " -3.45454545e-02  4.91071429e-02 -9.02777778e-02 -9.25185854e-18\n",
      " -3.44444444e-01  1.15384615e-02  1.68750000e-01 -2.29166667e-01\n",
      "  2.39583333e-01  3.96590909e-01  5.11904762e-01 -1.06250000e-01\n",
      " -3.59659091e-01  5.62500000e-02  4.92857143e-01  1.25757576e-01\n",
      "  3.45454545e-01  1.61904762e-01 -3.87878788e-01 -9.37500000e-03\n",
      "  1.05939394e-01  2.46666667e-01 -8.80952381e-02  1.91888112e-01\n",
      " -7.00000000e-02  2.96666667e-01  1.88095238e-01  6.74242424e-02\n",
      "  6.19047619e-02 -9.10000000e-01  3.86666667e-01 -2.32142857e-01\n",
      "  1.74242424e-02  1.19047619e-02  3.53571429e-01 -1.02777778e-01\n",
      "  3.29545455e-02  2.93750000e-01]\n",
      "\n",
      " abs_title_subjectivity -- [ 0.          0.5         0.04545455  0.14285714  0.375       0.25\n",
      "  0.06666667  0.35714286  0.05        0.2         0.4         0.16666667\n",
      "  0.1         0.08333333  0.35        0.07272727  0.15        0.43333333\n",
      "  0.125       0.01666667  0.3         0.04375     0.45        0.1875\n",
      "  0.21111111  0.07142857  0.33333333  0.00707071  0.01190476  0.11666667\n",
      "  0.21666667  0.28333333  0.025       0.325       0.32142857  0.41666667\n",
      "  0.0375      0.275       0.28571429  0.20707071  0.02222222  0.05555556\n",
      "  0.05833333  0.11111111  0.23939394  0.31111111  0.13333333  0.03333333\n",
      "  0.12272727  0.26666667  0.31666667  0.27272727  0.1476912   0.35555556\n",
      "  0.18181818  0.13214286  0.07619048  0.14444444  0.46666667  0.18928571\n",
      "  0.27        0.04        0.18888889  0.06428571  0.02        0.04166667\n",
      "  0.22272727  0.05227273  0.23333333  0.47777778  0.2875      0.18333333\n",
      "  0.00833333  0.21428571  0.27777778  0.0487013   0.38888889  0.06333333\n",
      "  0.07        0.15555556  0.02142857  0.3125      0.22727273  0.12727273\n",
      "  0.44444444  0.20833333  0.27083333  0.39583333  0.22222222  0.04666667\n",
      "  0.10833333  0.0625      0.18055556  0.15833333  0.17777778  0.22142857\n",
      "  0.1375      0.09166667  0.08888889  0.02272727  0.21785714  0.45238095\n",
      "  0.36666667  0.17727273  0.27705628  0.08522727  0.30952381  0.06515152\n",
      "  0.2625      0.32222222  0.2125      0.075       0.05333333  0.4375\n",
      "  0.1125      0.175       0.27222222  0.10555556  0.0959596   0.06038961\n",
      "  0.1452381   0.11363636  0.23        0.03571429  0.11025641  0.22539683\n",
      "  0.24444444  0.07727273  0.0875      0.28181818  0.34166667  0.01893939\n",
      "  0.40416667  0.13        0.29292929  0.19166667  0.17272727  0.4037037\n",
      "  0.21022727  0.42857143  0.12828283  0.3875      0.25555556  0.06060606\n",
      "  0.02083333  0.30833333  0.08181818  0.038       0.01111111  0.20555556\n",
      "  0.00272727  0.22348485  0.17037037  0.07111111  0.17857143  0.11333333\n",
      "  0.01298701  0.03        0.0125      0.14772727  0.07777778  0.11944444\n",
      "  0.10666667  0.02909091  0.11237374  0.10227273  0.19375     0.07916667\n",
      "  0.05606061  0.09090909  0.225       0.07070707  0.28888889  0.00227273\n",
      "  0.27916667  0.08484848  0.16785714  0.15151515  0.26785714  0.11515152\n",
      "  0.25925926  0.07373737  0.08555556  0.02070707  0.11038961  0.25833333\n",
      "  0.05681818  0.38333333  0.08571429  0.18484848  0.11818182  0.25238095\n",
      "  0.14583333  0.03977273  0.08928571  0.39        0.16558442  0.26388889\n",
      "  0.34444444  0.07083333  0.13888889  0.03219697  0.42307692  0.18214286\n",
      "  0.10714286  0.10151515  0.425       0.10416667  0.02727273  0.04444444\n",
      "  0.23737374  0.16111111  0.03246753  0.13636364  0.37037037  0.02916667\n",
      "  0.31388889  0.06262626  0.08653846  0.30555556  0.00189394  0.475\n",
      "  0.09333333  0.18636364  0.27142857  0.18        0.12291667  0.18613636\n",
      "  0.20227273  0.27037037  0.04294872  0.05844156  0.14166667  0.01515152\n",
      "  0.00681818  0.02929293  0.15530303  0.00530303  0.07857143  0.18611111\n",
      "  0.21515152  0.03214286  0.04848485  0.02348485  0.005       0.02962963\n",
      "  0.02777778  0.01944444  0.3375      0.02857143  0.12777778  0.04583333\n",
      "  0.10606061  0.11166667  0.01818182  0.01388889  0.2375      0.29166667\n",
      "  0.04040404  0.12142857  0.055       0.09292929  0.24772727  0.2037037\n",
      "  0.1675      0.16484848  0.25218855  0.12222222  0.09375     0.01785714\n",
      "  0.15625     0.16805556  0.02539683  0.19444444  0.14393939  0.33703704\n",
      "  0.08114478  0.32626263  0.05714286  0.00487013  0.21885522  0.33636364\n",
      "  0.01904762  0.23214286  0.07037037  0.17916667  0.09415584  0.16792929\n",
      "  0.12857143  0.1547619   0.1625      0.42222222  0.05416667  0.23611111\n",
      "  0.24761905  0.10984848  0.03888889  0.18666667  0.08863636  0.04772727\n",
      "  0.31515152  0.00892857  0.0344697   0.08        0.195       0.09583333\n",
      "  0.23703704  0.11        0.24015152  0.26190476  0.00324675  0.14880952\n",
      "  0.00181818  0.11875     0.08666667  0.06111111  0.1040404   0.03650794\n",
      "  0.03459596  0.13737374  0.06388889  0.01547619  0.17142857  0.23076923\n",
      "  0.30151515  0.27291667  0.05959596  0.13515152  0.12380952  0.27857143\n",
      "  0.13419913  0.27651515  0.09015152  0.37142857  0.08611111  0.24285714\n",
      "  0.05277778  0.06363636  0.0962963   0.2030303   0.03030303  0.0969697\n",
      "  0.11785714  0.04960317  0.03703704  0.18095238  0.145       0.30681818\n",
      "  0.19285714  0.04761905  0.11607143  0.19047619  0.09222222  0.21875\n",
      "  0.10925926  0.03636364  0.26818182  0.16458333  0.19469697  0.04261364\n",
      "  0.21333333  0.09848485  0.06984127  0.02380952  0.12929293  0.00555556\n",
      "  0.03846154  0.06484848  0.19333333  0.07102273  0.28484848  0.21818182\n",
      "  0.00625     0.04348485  0.10333333  0.05151515  0.22        0.01\n",
      "  0.24166667  0.04888889  0.01136364  0.0425      0.12916667  0.26136364\n",
      "  0.20151515  0.08552189  0.345       0.22083333  0.19945887  0.15511364\n",
      "  0.05625     0.29848485  0.05873016  0.02294372  0.09444444  0.01363636\n",
      "  0.26111111  0.04090909  0.156875    0.01333333  0.16153846  0.01428571\n",
      "  0.30740741  0.0530303   0.17222222  0.1030303   0.0037037   0.09722222\n",
      "  0.0719697   0.13611111  0.01448864  0.14848485  0.06349206  0.1969697\n",
      "  0.42916667  0.22916667  0.17070707  0.03863636  0.19292929  0.05357143\n",
      "  0.12613636  0.2040404   0.44871795  0.15247253  0.08035714  0.06547619\n",
      "  0.06818182  0.17229437  0.0040404   0.16594517  0.21388889  0.03279221\n",
      "  0.1530303   0.09642857  0.34848485  0.43611111  0.13181818  0.08636364\n",
      "  0.06296296  0.42666667  0.25416667  0.15227273  0.28        0.04222222\n",
      "  0.19        0.16        0.09469697  0.16439394  0.03484848  0.14\n",
      "  0.07222222  0.25267857  0.00357143  0.1655303   0.11904762  0.18939394\n",
      "  0.245       0.065       0.18011364  0.02761905  0.03181818  0.28809524\n",
      "  0.33055556  0.08095238  0.29375     0.015       0.15606061  0.16477273\n",
      "  0.06761364  0.35952381  0.18227273  0.24945887  0.31818182  0.13666667\n",
      "  0.305       0.14666667  0.28909091  0.13151515  0.04285714  0.25959596\n",
      "  0.01262626  0.06833333  0.04292929  0.14015152  0.07460317  0.12242424\n",
      "  0.21136364  0.02558923  0.45833333  0.04107143  0.22386364  0.37777778\n",
      "  0.105       0.22037037  0.14761905  0.14231602  0.01085859  0.17348485\n",
      "  0.29305556  0.01761364  0.40634921  0.4625      0.23055556  0.11969697\n",
      "  0.13703704  0.24583333  0.22777778         nan  0.15892857  0.25333333\n",
      "  0.23484848  0.16964286  0.16538462  0.06875     0.01988636  0.15277778\n",
      "  0.02613636  0.12301587  0.03611111  0.12407407  0.06785714  0.03522727\n",
      "  0.02133333  0.15416667  0.17        0.05238095  0.21524476  0.00416667\n",
      "  0.11647727  0.19570707  0.4125      0.11071429 -0.22222222  0.03125   ]\n",
      "\n",
      " abs_title_sentiment_polarity -- [1.87500000e-01 0.00000000e+00 1.36363636e-01 2.14285714e-01\n",
      " 5.00000000e-01 1.00000000e+00 5.50000000e-01 2.50000000e-01\n",
      " 1.00000000e-01 7.14285714e-01 4.00000000e-01 3.50000000e-01\n",
      " 6.00000000e-01 5.00000000e-02 1.68181818e-01 2.00000000e-01\n",
      " 3.33333333e-02 1.25000000e-01 6.25000000e-02 4.16666667e-01\n",
      " 3.33333333e-01 2.56250000e-01 6.50000000e-01 2.37500000e-01\n",
      " 1.77777778e-01 1.75000000e-01 6.33333333e-01 6.66666667e-01\n",
      " 3.00000000e-01 8.00000000e-01 3.57142857e-01 8.98989899e-02\n",
      " 2.32142857e-01 2.66666667e-01 1.50000000e-01 4.33333333e-01\n",
      " 7.50000000e-01 7.00000000e-01 8.33333333e-02 3.75000000e-01\n",
      " 1.66666667e-01 4.25000000e-01 3.16666667e-01 5.16666667e-01\n",
      " 7.50000000e-02 2.71590909e-01 1.66666667e-02 1.93181818e-01\n",
      " 1.56565657e-01 7.14285714e-02 2.77555756e-17 2.12121212e-02\n",
      " 9.00000000e-01 6.81818182e-02 1.11111111e-02 4.95833333e-01\n",
      " 3.83333333e-01 1.33333333e-01 6.75000000e-01 1.51803752e-01\n",
      " 2.25000000e-01 7.77777778e-02 6.66666667e-02 3.12121212e-01\n",
      " 2.92857143e-01 2.85714286e-01 2.22222222e-02 1.41071429e-01\n",
      " 8.00000000e-02 1.21875000e-01 1.60000000e-01 4.16666667e-02\n",
      " 9.28571429e-02 3.37500000e-01 4.50000000e-01 4.44444444e-02\n",
      " 4.83333333e-01 6.50000000e-02 2.91666667e-01 3.27777778e-01\n",
      " 6.59090909e-02 1.25000000e-02 1.55555556e-01 4.75000000e-01\n",
      " 1.41666667e-01 3.91666667e-01 8.48484848e-02 8.50000000e-01\n",
      " 4.37500000e-02 2.50000000e-02 3.66666667e-01 1.75324675e-01\n",
      " 2.16666667e-01 1.16666667e-01 3.88888889e-01 6.25000000e-01\n",
      " 6.44444444e-01 3.80000000e-01 1.44444444e-01 1.78571429e-02\n",
      " 2.44444444e-01 2.68181818e-01 5.68181818e-01 1.88888889e-01\n",
      " 4.58333333e-01 4.68181818e-01 2.75000000e-01 1.83333333e-01\n",
      " 3.11111111e-01 2.83333333e-01 2.32323232e-02 2.34848485e-01\n",
      " 5.66666667e-01 1.46666667e-01 2.63888889e-01 5.55555556e-02\n",
      " 2.33333333e-01 9.37500000e-02 2.05555556e-01 3.40909091e-02\n",
      " 4.42857143e-01 9.52380952e-03 4.18181818e-01 3.20000000e-01\n",
      " 2.16450216e-02 5.68181818e-03 3.12500000e-01 1.19047619e-01\n",
      " 2.78787879e-01 6.11111111e-02 1.12500000e-01 8.66666667e-02\n",
      " 1.31818182e-01 3.87500000e-01 3.68181818e-01 1.81818182e-01\n",
      " 2.53333333e-01 4.93181818e-01 3.25000000e-01 3.75000000e-02\n",
      " 2.95454545e-01 1.38311688e-01 5.33333333e-01 4.61904762e-01\n",
      " 1.59090909e-01 2.54545455e-01 3.44444444e-01 2.44318182e-01\n",
      " 1.72222222e-01 4.10256410e-02 1.37500000e-01 2.12500000e-01\n",
      " 2.81818182e-01 2.55681818e-01 1.12121212e-01 1.08333333e-01\n",
      " 6.87500000e-01 7.80000000e-01 2.76515152e-01 3.95833333e-01\n",
      " 1.30000000e-01 1.23232323e-01 1.71590909e-01 1.18181818e-01\n",
      " 5.18518519e-02 8.75000000e-02 9.59595960e-03 2.27272727e-01\n",
      " 3.18181818e-01 5.77777778e-01 5.25000000e-01 2.62500000e-01\n",
      " 2.12121212e-01 4.31818182e-01 1.07142857e-01 1.62121212e-01\n",
      " 1.68000000e-01 4.22222222e-01 1.48181818e-01 5.55555556e-03\n",
      " 7.87878788e-02 4.81481481e-02 4.31818182e-02 8.33333333e-03\n",
      " 1.22222222e-01 4.37500000e-01 2.46666667e-01 9.16666667e-02\n",
      " 4.66666667e-01 2.46753247e-01 1.20000000e-01 1.61111111e-01\n",
      " 2.97222222e-01 3.26666667e-01 1.12727273e-01 3.18181818e-02\n",
      " 1.23809524e-01 1.28787879e-01 3.56250000e-01 4.58333333e-02\n",
      " 1.51515152e-02 1.12272727e-01 6.40151515e-02 2.43181818e-01\n",
      " 3.57142857e-02 3.30000000e-01 3.12500000e-02 4.12121212e-01\n",
      " 4.79166667e-02 3.42857143e-01 2.45454545e-01 2.93750000e-01\n",
      " 1.69642857e-01 2.58333333e-01 1.07407407e-01 2.23232323e-01\n",
      " 2.22222222e-03 1.88311688e-01 4.16666667e-03 1.48484848e-01\n",
      " 7.14285714e-03 4.78787879e-01 5.37500000e-01 1.78571429e-01\n",
      " 7.81666667e-01 3.24675325e-02 2.06250000e-01 2.04166667e-01\n",
      " 2.08333333e-01 2.29924242e-01 2.18181818e-01 9.94318182e-02\n",
      " 2.12962963e-01 1.42857143e-01 3.89285714e-01 1.38777878e-17\n",
      " 5.12500000e-01 2.77777778e-01 5.68181818e-02 2.83549784e-01\n",
      " 2.84722222e-01 1.67424242e-01 3.08333333e-01 2.31818182e-01\n",
      " 1.56250000e-01 3.69318182e-01 1.04545455e-01 2.54166667e-01\n",
      " 6.38888889e-02 4.27777778e-01 2.27777778e-01 3.54166667e-01\n",
      " 7.76515152e-02 2.66666667e-02 4.72222222e-02 2.81250000e-01\n",
      " 1.39583333e-01 1.75909091e-01 1.29166667e-01 3.43181818e-01\n",
      " 2.96296296e-02 1.80000000e-01 1.62500000e-01 2.42307692e-01\n",
      " 5.62500000e-01 1.21212121e-02 3.78787879e-02 2.61111111e-01\n",
      " 1.54545455e-01 2.62121212e-01 9.09090909e-02 1.57142857e-01\n",
      " 5.07142857e-01 3.58333333e-01 1.78787879e-01 1.39898990e-01\n",
      " 2.42857143e-01 3.43750000e-01 4.06565657e-02 1.48148148e-02\n",
      " 1.27777778e-01 3.22222222e-01 6.07142857e-01 6.37500000e-01\n",
      " 1.45454545e-01 4.54545455e-02 6.25000000e-03 2.18750000e-01\n",
      " 5.18181818e-01 1.36666667e-01 1.21212121e-01 4.80000000e-01\n",
      " 2.39898990e-01 3.07142857e-01 1.65000000e-01 5.65656566e-02\n",
      " 7.32323232e-02 1.11111111e-01 2.08333333e-02 6.75000000e-02\n",
      " 8.88888889e-02 1.43750000e-01 3.62121212e-01 2.65454545e-01\n",
      " 7.08333333e-02 6.39730640e-03 1.91666667e-01 2.36111111e-01\n",
      " 1.40277778e-01 1.43650794e-01 2.84848485e-01 8.14814815e-02\n",
      " 9.50000000e-01 2.77777778e-02 1.60269360e-01 2.45833333e-01\n",
      " 8.78787879e-02 2.11038961e-01 1.81818182e-02 8.92857143e-02\n",
      " 5.90909091e-02 1.93650794e-01 2.89898990e-01 1.70454545e-01\n",
      " 5.95238095e-02 1.81250000e-01 2.51515152e-01 6.70995671e-02\n",
      " 5.71428571e-02 1.54166667e-01 2.88888889e-01 4.11111111e-01\n",
      " 5.04761905e-01 1.03787879e-01 7.63888889e-02 1.04166667e-01\n",
      " 1.14583333e-01 1.37878788e-01 3.88888889e-02 4.54166667e-01\n",
      " 9.84848485e-02 2.57142857e-01 2.72222222e-01 8.40909091e-02\n",
      " 1.94444444e-01 8.06818182e-02 2.87878788e-02 2.07142857e-01\n",
      " 5.83333333e-02 4.46428571e-02 5.08333333e-01 2.11174242e-01\n",
      " 3.62500000e-01 5.87500000e-01 9.09090909e-03 2.65151515e-01\n",
      " 1.13636364e-01 1.45833333e-01 4.64285714e-01 4.55000000e-01\n",
      " 4.28571429e-01 2.40692641e-01 3.92857143e-01 3.66666667e-02\n",
      " 5.91666667e-01 1.86666667e-01 4.06250000e-01 1.95454545e-01\n",
      " 6.16666667e-01 2.17460317e-01 5.45454545e-02 1.85101010e-01\n",
      " 1.38888889e-01 1.20370370e-01 2.28571429e-01 6.11111111e-01\n",
      " 2.55555556e-01 5.17676768e-02 5.83333333e-01 2.94444444e-01\n",
      " 2.38095238e-01 8.18181818e-02 4.76190476e-03 2.05000000e-01\n",
      " 2.00000000e-02 1.34343434e-01 2.09090909e-01 7.69230769e-02\n",
      " 9.87878788e-02 5.43750000e-01 3.52380952e-01 8.35497835e-02\n",
      " 2.87878788e-01 2.22222222e-01 1.37121212e-01 2.82142857e-01\n",
      " 6.83333333e-01 5.75000000e-01 1.09090909e-01 2.43750000e-01\n",
      " 1.73148148e-01 5.75757576e-02 2.90909091e-01 2.84090909e-02\n",
      " 4.24242424e-01 1.39285714e-01 4.57142857e-01 1.13095238e-01\n",
      " 1.18518519e-01 3.38095238e-01 1.75000000e-02 2.68750000e-01\n",
      " 2.67857143e-01 4.44444444e-01 3.41666667e-01 6.45454545e-01\n",
      " 4.52380952e-01 1.46111111e-01 7.91666667e-02 9.44444444e-02\n",
      " 1.01851852e-01 3.09090909e-01 7.37500000e-01 9.24242424e-02\n",
      " 1.27840909e-01 2.57575758e-01 3.02222222e-01 3.94444444e-01\n",
      " 1.26666667e-01 3.15873016e-01 1.48611111e-01 2.91666667e-02\n",
      " 7.73809524e-02 2.42424242e-01 1.70370370e-01 1.58333333e-01\n",
      " 2.30769231e-01 2.32121212e-01 6.52000000e-01 9.58333333e-02\n",
      " 9.52380952e-02 8.80681818e-02 5.42857143e-01 5.00000000e-03\n",
      " 7.25000000e-01 4.45454545e-01 8.75000000e-01 5.71212121e-02\n",
      " 1.70000000e-01 3.78787879e-01 2.20000000e-01 2.90000000e-01\n",
      " 5.27777778e-02 2.55555556e-02 1.53787879e-01 4.54545455e-03\n",
      " 3.61904762e-01 3.28787879e-01 3.06250000e-01 4.45833333e-01\n",
      " 2.54329004e-02 2.34090909e-01 5.62500000e-02 2.88095238e-01\n",
      " 2.21645022e-01 2.21590909e-01 1.67857143e-01 3.34375000e-01\n",
      " 1.30555556e-01 1.97272727e-01 2.87500000e-01 1.13333333e-01\n",
      " 5.55111512e-17 1.86875000e-01 1.29545455e-01 1.03703704e-01\n",
      " 3.04166667e-01 1.57575758e-01 6.94444444e-02 1.68750000e-01\n",
      " 3.21428571e-02 2.46590909e-01 2.51851852e-01 1.70454545e-02\n",
      " 2.67500000e-01 3.31818182e-01 1.01010101e-01 4.68750000e-01\n",
      " 1.81481481e-01 4.43181818e-01 5.59659091e-02 1.01010101e-02\n",
      " 1.40909091e-01 1.85185185e-02 9.31818182e-02 2.70454545e-01\n",
      " 1.85037171e-17 2.15909091e-01 9.04761905e-02 1.28205128e-02\n",
      " 1.51851852e-01 1.09890110e-02 1.53409091e-01 7.07142857e-01\n",
      " 4.77777778e-01 2.76767677e-01 1.59090909e-02 2.48148148e-01\n",
      " 4.20000000e-01 9.06250000e-02 2.10101010e-01 3.45833333e-01\n",
      " 1.04978355e-01 2.21212121e-01 2.73809524e-01 6.81818182e-03\n",
      " 4.12337662e-02 1.92424242e-01 2.35714286e-01 1.34090909e-01\n",
      " 4.21212121e-01 5.33333333e-02 3.40909091e-03 1.48148148e-01\n",
      " 7.22222222e-02 4.25925926e-02 1.95833333e-01 8.47222222e-02\n",
      " 1.73611111e-01 1.92857143e-01 1.51515152e-03 1.07323232e-01\n",
      " 9.25185854e-18 4.08333333e-01 5.20000000e-01 1.82121212e-01\n",
      " 8.05555556e-02 7.66666667e-02 1.07575758e-01 1.23063973e-01\n",
      " 3.64285714e-01 4.10714286e-02 1.84090909e-01 6.87500000e-02\n",
      " 1.14814815e-01 4.65277778e-02 2.52380952e-01 3.55000000e-01\n",
      " 2.35000000e-01 2.30000000e-01 1.05555556e-01 1.93750000e-01\n",
      " 6.41666667e-01 2.58095238e-01 2.18518519e-01 1.87500000e-02\n",
      " 2.41666667e-01 9.00000000e-02 1.42424242e-01 2.31250000e-01\n",
      " 9.01515152e-02 6.02693603e-02 1.15340909e-01 1.91818182e-01\n",
      " 7.87337662e-02 6.21212121e-01 2.59090909e-01 3.61111111e-02\n",
      " 3.05555556e-01 2.72916667e-01 6.72727273e-02 8.12500000e-02\n",
      " 2.98787879e-01 1.21428571e-01 3.77777778e-01 4.66666667e-02\n",
      " 6.21212121e-02 3.30555556e-01 3.09523810e-01 9.54545455e-02\n",
      " 2.88194444e-01 4.28787879e-01 8.15000000e-01 7.83333333e-02\n",
      " 1.19047619e-02 2.57272727e-01 1.18750000e-01 1.38047138e-01\n",
      " 6.56565657e-02 5.57142857e-01 6.75595238e-02 7.00757576e-02\n",
      " 1.69444444e-01 4.92424242e-02 7.57575758e-02 4.50000000e-02\n",
      " 4.91666667e-01 7.67676768e-02 2.71428571e-01 4.62500000e-01\n",
      " 9.65909091e-02 4.71590909e-01 2.96590909e-01 1.19318182e-01\n",
      " 9.81481481e-02 2.84090909e-03 3.67857143e-01 2.38095238e-02\n",
      " 1.95000000e-01 2.95833333e-01 4.19642857e-01 1.19444444e-01\n",
      " 2.55681818e-02 1.43181818e-01 2.74242424e-01 1.42857143e-02\n",
      " 6.48148148e-02 5.35714286e-02 2.03787879e-01 6.08333333e-01\n",
      " 6.30000000e-01 2.29761905e-01 5.80000000e-01            nan\n",
      " 3.45454545e-02 4.91071429e-02 9.02777778e-02 1.15384615e-02\n",
      " 2.29166667e-01 2.39583333e-01 3.96590909e-01 5.11904762e-01\n",
      " 1.06250000e-01 3.59659091e-01 4.92857143e-01 1.25757576e-01\n",
      " 3.45454545e-01 1.61904762e-01 3.87878788e-01 9.37500000e-03\n",
      " 1.05939394e-01 8.80952381e-02 1.91888112e-01 7.00000000e-02\n",
      " 2.96666667e-01 1.88095238e-01 6.74242424e-02 6.19047619e-02\n",
      " 9.10000000e-01 3.86666667e-01 1.74242424e-02 3.53571429e-01\n",
      " 1.02777778e-01 3.29545455e-02 1.90000000e+03]\n",
      "\n",
      " shares -- [593 711 1500 ... ' 45000' ' 438' ' 470']\n",
      "\n"
     ]
    }
   ],
   "source": [
    "for col in df.columns:\n",
    "    print(f'{col} -- {df[col].unique()}')\n",
    "    print()"
   ]
  },
  {
   "cell_type": "markdown",
   "metadata": {},
   "source": [
    "Here I display all the columns of the dataset that have the Object data type."
   ]
  },
  {
   "cell_type": "code",
   "execution_count": 14,
   "metadata": {},
   "outputs": [
    {
     "name": "stdout",
     "output_type": "stream",
     "text": [
      "url\n",
      " num_imgs\n",
      " num_videos\n",
      " weekday_is_sunday\n",
      " shares\n"
     ]
    }
   ],
   "source": [
    "for col in df.columns:\n",
    "    if df[col].dtypes == 'O':\n",
    "        print(col)"
   ]
  },
  {
   "cell_type": "markdown",
   "metadata": {},
   "source": [
    "For every column that has an Object data type, I display here the unique values in order to have a general view of what the values are."
   ]
  },
  {
   "cell_type": "code",
   "execution_count": 15,
   "metadata": {},
   "outputs": [
    {
     "name": "stdout",
     "output_type": "stream",
     "text": [
      "url -- ['http://mashable.com/2013/01/07/amazon-instant-video-browser/'\n",
      " 'http://mashable.com/2013/01/07/ap-samsung-sponsored-tweets/'\n",
      " 'http://mashable.com/2013/01/07/apple-40-billion-app-downloads/' ...\n",
      " 'http://mashable.com/2014/12/27/ukraine-blasts/'\n",
      " 'http://mashable.com/2014/12/27/youtube-channels-2015/' ' 1.0']\n",
      "\n",
      " num_imgs -- [1.0 20.0 0.0 11.0 9.0 12.0 42.0 28.0 19.0 14.0 23.0 10.0 4.0 16.0 13.0\n",
      " 8.0 26.0 15.0 6.0 5.0 34.0 18.0 7.0 33.0 25.0 21.0 27.0 17.0 22.0 2.0\n",
      " 30.0 99.0 31.0 24.0 37.0 39.0 40.0 61.0 32.0 60.0 35.0 44.0 52.0 47.0\n",
      " 98.0 56.0 46.0 92.0 36.0 62.0 41.0 3.0 75.0 91.0 45.0 48.0 50.0 55.0 76.0\n",
      " 38.0 49.0 54.0 90.0 29.0 71.0 70.0 51.0 64.0 100.0 101.0 43.0 80.0 63.0\n",
      " 53.0 128.0 66.0 67.0 69.0 68.0 58.0 73.0 93.0 57.0 84.0 83.0 108.0 111.0\n",
      " 65.0 79.0 ' 0.0' ' 6.0' ' 1.0' ' 3.0' ' 2.0' ' 13.0' ' 4.0' ' 12.0'\n",
      " ' 5.0' ' 11.0' ' 14.0' ' 10.0' ' 16.0' ' 51.0' ' 24.0' ' 61.0' ' 19.0'\n",
      " ' 25.0' ' 15.0' ' 17.0' ' 7.0' ' 22.0' ' 29.0' ' 21.0' ' 33.0' ' 30.0'\n",
      " ' 26.0' ' 36.0' ' 37.0' ' 9.0' ' 8.0' ' 67.0' ' 60.0' ' 20.0' ' 18.0'\n",
      " ' 28.0' ' 23.0' ' 31.0' ' 27.0' ' 62.0' ' 77.0' ' 59.0' ' 63.0' ' 41.0'\n",
      " ' 79.0' ' 32.0' ' 50.0' ' 38.0' ' 43.0' ' 52.0' ' 48.0' ' 35.0' ' 42.0'\n",
      " nan ' 49.0' ' n.a.']\n",
      "\n",
      " num_videos -- [0.0 1.0 21.0 6.0 11.0 3.0 16.0 12.0 7.0 10.0 2.0 26.0 9.0 14.0 20.0 17.0\n",
      " 4.0 13.0 30.0 8.0 15.0 73.0 5.0 74.0 18.0 75.0 22.0 34.0 19.0 23.0 35.0\n",
      " 33.0 25.0 38.0 24.0 32.0 31.0 27.0 28.0 50.0 51.0 91.0 42.0 53.0 65.0\n",
      " 66.0 29.0 59.0 58.0 48.0 ' 1.0' ' 8.0' ' 3.0' ' 10.0' ' 6.0' ' 2.0'\n",
      " ' 0.0' ' 5.0' ' 38.0' ' 7.0' ' 25.0' ' 27.0' ' 4.0' ' 11.0' ' 9.0'\n",
      " ' 20.0' ' 28.0' ' 26.0' ' 23.0' ' 12.0' ' 13.0' ' 16.0' ' 30.0' ' 24.0'\n",
      " ' 15.0' ' 18.0' ' 17.0' ' 34.0' nan ' 21.0' ' 22.0' ' n.a.' ' 29.0'\n",
      " ' 31.0' ' 14.0' ' 36.0' ' 46.0' ' 19.0' ' 49.0' ' 50.0' ' 48.0'\n",
      " ' 5.07692307692']\n",
      "\n",
      " weekday_is_sunday -- [0.0 1.0 ' 0.0' ' 1.0' ' n.a.' nan ' 0.692813457591' ' 0.0336612726943'\n",
      " ' 0.517893217893']\n",
      "\n",
      " shares -- [593 711 1500 ... ' 45000' ' 438' ' 470']\n",
      "\n"
     ]
    }
   ],
   "source": [
    "for col in df.columns:\n",
    "    if df[col].dtypes == 'O' :\n",
    "        print(f'{col} -- {df[col].unique()}')\n",
    "        print()"
   ]
  },
  {
   "cell_type": "code",
   "execution_count": 16,
   "metadata": {},
   "outputs": [
    {
     "data": {
      "text/plain": [
       "(39648, 61)"
      ]
     },
     "execution_count": 16,
     "metadata": {},
     "output_type": "execute_result"
    }
   ],
   "source": [
    "df.shape"
   ]
  },
  {
   "cell_type": "markdown",
   "metadata": {},
   "source": [
    "I noticed that these features had noise, so in the cell below, I am removing the ' .n.a.' value in the columns, since it is a missing value."
   ]
  },
  {
   "cell_type": "code",
   "execution_count": 17,
   "metadata": {},
   "outputs": [],
   "source": [
    "df = df[~(df[' weekday_is_sunday'] == ' n.a.')]\n",
    "df = df[~(df[' shares'] == ' n.a.')]\n",
    "df = df[~(df[' num_imgs'] == ' n.a.')]\n",
    "df = df[~(df[' num_videos'] == ' n.a.')]"
   ]
  },
  {
   "cell_type": "code",
   "execution_count": 18,
   "metadata": {},
   "outputs": [
    {
     "data": {
      "text/plain": [
       "(39643, 61)"
      ]
     },
     "execution_count": 18,
     "metadata": {},
     "output_type": "execute_result"
    }
   ],
   "source": [
    "df.shape"
   ]
  },
  {
   "cell_type": "code",
   "execution_count": 19,
   "metadata": {},
   "outputs": [
    {
     "data": {
      "text/plain": [
       "url                              0\n",
       " timedelta                       1\n",
       " n_tokens_title                  1\n",
       " n_tokens_content                1\n",
       " n_unique_tokens                 1\n",
       "                                ..\n",
       " title_subjectivity              7\n",
       " title_sentiment_polarity        7\n",
       " abs_title_subjectivity          7\n",
       " abs_title_sentiment_polarity    7\n",
       " shares                          8\n",
       "Length: 61, dtype: int64"
      ]
     },
     "execution_count": 19,
     "metadata": {},
     "output_type": "execute_result"
    }
   ],
   "source": [
    "df.isnull().sum()"
   ]
  },
  {
   "cell_type": "code",
   "execution_count": 20,
   "metadata": {},
   "outputs": [
    {
     "data": {
      "text/plain": [
       "244"
      ]
     },
     "execution_count": 20,
     "metadata": {},
     "output_type": "execute_result"
    }
   ],
   "source": [
    "# here i check how many null values we have in the entire dataset\n",
    "\n",
    "df.isnull().sum().sum()"
   ]
  },
  {
   "cell_type": "code",
   "execution_count": 21,
   "metadata": {},
   "outputs": [
    {
     "data": {
      "text/plain": [
       "(39643, 61)"
      ]
     },
     "execution_count": 21,
     "metadata": {},
     "output_type": "execute_result"
    }
   ],
   "source": [
    "df.shape"
   ]
  },
  {
   "cell_type": "markdown",
   "metadata": {},
   "source": [
    "In code below, I drop every null value in those rows of the dataset which have at least one missing value.\n"
   ]
  },
  {
   "cell_type": "code",
   "execution_count": 22,
   "metadata": {},
   "outputs": [],
   "source": [
    "df.dropna(axis=0, how='any', inplace=True)"
   ]
  },
  {
   "cell_type": "code",
   "execution_count": 23,
   "metadata": {},
   "outputs": [
    {
     "data": {
      "text/plain": [
       "(39634, 61)"
      ]
     },
     "execution_count": 23,
     "metadata": {},
     "output_type": "execute_result"
    }
   ],
   "source": [
    "df.shape"
   ]
  },
  {
   "cell_type": "markdown",
   "metadata": {},
   "source": [
    "In this cell, I converted the data types of the numerical features which were firstly Object data type into int."
   ]
  },
  {
   "cell_type": "code",
   "execution_count": 24,
   "metadata": {},
   "outputs": [],
   "source": [
    "df[' weekday_is_sunday'] = df[col].astype(str).astype(int)\n",
    "df[' shares'] = df[col].astype(str).astype(int)\n",
    "df[' num_imgs'] = df[col].astype(str).astype(int)\n",
    "df[' num_videos'] = df[col].astype(str).astype(int)"
   ]
  },
  {
   "cell_type": "markdown",
   "metadata": {},
   "source": [
    " I check here if the conversion of the data type went well.\n"
   ]
  },
  {
   "cell_type": "code",
   "execution_count": 25,
   "metadata": {},
   "outputs": [
    {
     "name": "stdout",
     "output_type": "stream",
     "text": [
      "int32\n",
      "int32\n",
      "int32\n",
      "int32\n"
     ]
    }
   ],
   "source": [
    "for col in [' shares', ' num_imgs', ' num_videos', ' weekday_is_sunday']:\n",
    "    print(df[col].dtypes)\n"
   ]
  },
  {
   "cell_type": "markdown",
   "metadata": {},
   "source": [
    "To make sure if there is any missing value left in the dataset, I write the code as below."
   ]
  },
  {
   "cell_type": "code",
   "execution_count": 26,
   "metadata": {},
   "outputs": [
    {
     "data": {
      "text/plain": [
       "False"
      ]
     },
     "execution_count": 26,
     "metadata": {},
     "output_type": "execute_result"
    }
   ],
   "source": [
    "df.isnull().sum().any()"
   ]
  },
  {
   "cell_type": "markdown",
   "metadata": {},
   "source": [
    "#### Numerical features\n",
    "Features in the dataset are divided into numerical features (discrete and continuous) and categorical features.\n",
    "First I display only the numerical features in the dataset using a for cycle."
   ]
  },
  {
   "cell_type": "markdown",
   "metadata": {},
   "source": [
    "- I display the total number of numerical features and the numerical features itself.\n"
   ]
  },
  {
   "cell_type": "code",
   "execution_count": 27,
   "metadata": {},
   "outputs": [
    {
     "name": "stdout",
     "output_type": "stream",
     "text": [
      "Number of numerical variables:  60\n",
      "[' timedelta', ' n_tokens_title', ' n_tokens_content', ' n_unique_tokens', ' n_non_stop_words', ' n_non_stop_unique_tokens', ' num_hrefs', ' num_self_hrefs', ' num_imgs', ' num_videos', ' average_token_length', ' num_keywords', ' data_channel_is_lifestyle', ' data_channel_is_entertainment', ' data_channel_is_bus', ' data_channel_is_socmed', ' data_channel_is_tech', ' data_channel_is_world', ' kw_min_min', ' kw_max_min', ' kw_avg_min', ' kw_min_max', ' kw_max_max', ' kw_avg_max', ' kw_min_avg', ' kw_max_avg', ' kw_avg_avg', ' self_reference_min_shares', ' self_reference_max_shares', ' self_reference_avg_sharess', ' weekday_is_monday', ' weekday_is_tuesday', ' weekday_is_wednesday', ' weekday_is_thursday', ' weekday_is_friday', ' weekday_is_saturday', ' weekday_is_sunday', ' is_weekend', ' LDA_00', ' LDA_01', ' LDA_02', ' LDA_03', ' LDA_04', ' global_subjectivity', ' global_sentiment_polarity', ' global_rate_positive_words', ' global_rate_negative_words', ' rate_positive_words', ' rate_negative_words', ' avg_positive_polarity', ' min_positive_polarity', ' max_positive_polarity', ' avg_negative_polarity', ' min_negative_polarity', ' max_negative_polarity', ' title_subjectivity', ' title_sentiment_polarity', ' abs_title_subjectivity', ' abs_title_sentiment_polarity', ' shares']\n"
     ]
    }
   ],
   "source": [
    "numerical_features = [feature for feature in df.columns if df[feature].dtypes != 'O']\n",
    "\n",
    "print('Number of numerical variables: ', len(numerical_features))\n",
    "print(numerical_features)\n",
    "\n"
   ]
  },
  {
   "cell_type": "markdown",
   "metadata": {},
   "source": [
    "#### Discrete features"
   ]
  },
  {
   "cell_type": "markdown",
   "metadata": {},
   "source": [
    "- I display the total number of discrete features and the discrete features itself.\n"
   ]
  },
  {
   "cell_type": "code",
   "execution_count": 28,
   "metadata": {},
   "outputs": [
    {
     "name": "stdout",
     "output_type": "stream",
     "text": [
      "Discrete Variables Count: 14\n",
      "[' num_keywords', ' data_channel_is_lifestyle', ' data_channel_is_entertainment', ' data_channel_is_bus', ' data_channel_is_socmed', ' data_channel_is_tech', ' data_channel_is_world', ' weekday_is_monday', ' weekday_is_tuesday', ' weekday_is_wednesday', ' weekday_is_thursday', ' weekday_is_friday', ' weekday_is_saturday', ' is_weekend']\n"
     ]
    }
   ],
   "source": [
    "discrete_features=[feature for feature in numerical_features if len(df[feature].unique())<20]\n",
    "print(\"Discrete Variables Count: {}\".format(len(discrete_features)))\n",
    "print(discrete_features)"
   ]
  },
  {
   "cell_type": "markdown",
   "metadata": {},
   "source": [
    "#### Continuous features\n"
   ]
  },
  {
   "cell_type": "markdown",
   "metadata": {},
   "source": [
    "- I display the total number of continuous features and the continuous features itself.\n"
   ]
  },
  {
   "cell_type": "code",
   "execution_count": 29,
   "metadata": {},
   "outputs": [
    {
     "name": "stdout",
     "output_type": "stream",
     "text": [
      "Continuous feature Count 46\n",
      "[' timedelta', ' n_tokens_title', ' n_tokens_content', ' n_unique_tokens', ' n_non_stop_words', ' n_non_stop_unique_tokens', ' num_hrefs', ' num_self_hrefs', ' num_imgs', ' num_videos', ' average_token_length', ' kw_min_min', ' kw_max_min', ' kw_avg_min', ' kw_min_max', ' kw_max_max', ' kw_avg_max', ' kw_min_avg', ' kw_max_avg', ' kw_avg_avg', ' self_reference_min_shares', ' self_reference_max_shares', ' self_reference_avg_sharess', ' weekday_is_sunday', ' LDA_00', ' LDA_01', ' LDA_02', ' LDA_03', ' LDA_04', ' global_subjectivity', ' global_sentiment_polarity', ' global_rate_positive_words', ' global_rate_negative_words', ' rate_positive_words', ' rate_negative_words', ' avg_positive_polarity', ' min_positive_polarity', ' max_positive_polarity', ' avg_negative_polarity', ' min_negative_polarity', ' max_negative_polarity', ' title_subjectivity', ' title_sentiment_polarity', ' abs_title_subjectivity', ' abs_title_sentiment_polarity', ' shares']\n"
     ]
    }
   ],
   "source": [
    "continuous_feature=[feature for feature in numerical_features if feature not in discrete_features]\n",
    "print(\"Continuous feature Count {}\".format(len(continuous_feature)))\n",
    "print(continuous_feature)"
   ]
  },
  {
   "cell_type": "markdown",
   "metadata": {},
   "source": [
    "#### Categorical features"
   ]
  },
  {
   "cell_type": "markdown",
   "metadata": {},
   "source": [
    "- I display the total number of categorical features and the categorical features itself.\n"
   ]
  },
  {
   "cell_type": "code",
   "execution_count": 30,
   "metadata": {},
   "outputs": [
    {
     "name": "stdout",
     "output_type": "stream",
     "text": [
      "1\n",
      "['url']\n"
     ]
    }
   ],
   "source": [
    "categorical_features=[feature for feature in df.columns if df[feature].dtypes=='O']\n",
    "print(len(categorical_features))\n",
    "print(categorical_features)\n"
   ]
  },
  {
   "cell_type": "markdown",
   "metadata": {},
   "source": [
    "- I check how many unique categories contain each categorical features using the unique function.\n"
   ]
  },
  {
   "cell_type": "code",
   "execution_count": 31,
   "metadata": {},
   "outputs": [
    {
     "name": "stdout",
     "output_type": "stream",
     "text": [
      "Feature url - Number of Categories 39634\n"
     ]
    }
   ],
   "source": [
    "for feature in categorical_features:\n",
    "    print(f'Feature {feature} - Number of Categories {len(df[feature].unique())}')"
   ]
  },
  {
   "cell_type": "markdown",
   "metadata": {},
   "source": [
    "I see that the url feature has the same value as the number of the rows in the dataset, so it is an unimportant feature."
   ]
  },
  {
   "cell_type": "code",
   "execution_count": 32,
   "metadata": {},
   "outputs": [],
   "source": [
    "# eleminate unimportant feature\n",
    "\n",
    "df.drop('url', inplace = True ,axis=1)"
   ]
  },
  {
   "cell_type": "code",
   "execution_count": 33,
   "metadata": {},
   "outputs": [
    {
     "name": "stdout",
     "output_type": "stream",
     "text": [
      " num_keywords -- 0\n",
      " data_channel_is_lifestyle -- 0\n",
      " data_channel_is_entertainment -- 0\n",
      " data_channel_is_bus -- 0\n",
      " data_channel_is_socmed -- 0\n",
      " data_channel_is_tech -- 0\n",
      " data_channel_is_world -- 0\n",
      " weekday_is_monday -- 0\n",
      " weekday_is_tuesday -- 0\n",
      " weekday_is_wednesday -- 0\n",
      " weekday_is_thursday -- 0\n",
      " weekday_is_friday -- 0\n",
      " weekday_is_saturday -- 0\n",
      " is_weekend -- 0\n"
     ]
    }
   ],
   "source": [
    "# check if there are still missing values remained for discrete features\n",
    "\n",
    "for x in discrete_features:\n",
    "    print(f'{x} -- {df[x].isnull().sum()}')\n",
    "    "
   ]
  },
  {
   "cell_type": "code",
   "execution_count": 34,
   "metadata": {},
   "outputs": [],
   "source": [
    "# check if there are still missing values remained for categorical features\n",
    "\n",
    "for x in categorical_features[1:]:\n",
    "    print(f'{x} -- {df[x].isnull().sum()}')"
   ]
  },
  {
   "cell_type": "code",
   "execution_count": 35,
   "metadata": {},
   "outputs": [
    {
     "name": "stdout",
     "output_type": "stream",
     "text": [
      " timedelta -- 0\n",
      " n_tokens_title -- 0\n",
      " n_tokens_content -- 0\n",
      " n_unique_tokens -- 0\n",
      " n_non_stop_words -- 0\n",
      " n_non_stop_unique_tokens -- 0\n",
      " num_hrefs -- 0\n",
      " num_self_hrefs -- 0\n",
      " num_imgs -- 0\n",
      " num_videos -- 0\n",
      " average_token_length -- 0\n",
      " kw_min_min -- 0\n",
      " kw_max_min -- 0\n",
      " kw_avg_min -- 0\n",
      " kw_min_max -- 0\n",
      " kw_max_max -- 0\n",
      " kw_avg_max -- 0\n",
      " kw_min_avg -- 0\n",
      " kw_max_avg -- 0\n",
      " kw_avg_avg -- 0\n",
      " self_reference_min_shares -- 0\n",
      " self_reference_max_shares -- 0\n",
      " self_reference_avg_sharess -- 0\n",
      " weekday_is_sunday -- 0\n",
      " LDA_00 -- 0\n",
      " LDA_01 -- 0\n",
      " LDA_02 -- 0\n",
      " LDA_03 -- 0\n",
      " LDA_04 -- 0\n",
      " global_subjectivity -- 0\n",
      " global_sentiment_polarity -- 0\n",
      " global_rate_positive_words -- 0\n",
      " global_rate_negative_words -- 0\n",
      " rate_positive_words -- 0\n",
      " rate_negative_words -- 0\n",
      " avg_positive_polarity -- 0\n",
      " min_positive_polarity -- 0\n",
      " max_positive_polarity -- 0\n",
      " avg_negative_polarity -- 0\n",
      " min_negative_polarity -- 0\n",
      " max_negative_polarity -- 0\n",
      " title_subjectivity -- 0\n",
      " title_sentiment_polarity -- 0\n",
      " abs_title_subjectivity -- 0\n",
      " abs_title_sentiment_polarity -- 0\n",
      " shares -- 0\n"
     ]
    }
   ],
   "source": [
    "# check if there are still missing values remained for continuous features\n",
    "\n",
    "for x in continuous_feature:\n",
    "    print(f'{x} -- {df[x].isnull().sum()}')"
   ]
  },
  {
   "cell_type": "code",
   "execution_count": 36,
   "metadata": {},
   "outputs": [
    {
     "data": {
      "text/plain": [
       "(39634, 60)"
      ]
     },
     "execution_count": 36,
     "metadata": {},
     "output_type": "execute_result"
    }
   ],
   "source": [
    "df.shape"
   ]
  },
  {
   "cell_type": "code",
   "execution_count": 37,
   "metadata": {},
   "outputs": [
    {
     "data": {
      "text/html": [
       "<div>\n",
       "<style scoped>\n",
       "    .dataframe tbody tr th:only-of-type {\n",
       "        vertical-align: middle;\n",
       "    }\n",
       "\n",
       "    .dataframe tbody tr th {\n",
       "        vertical-align: top;\n",
       "    }\n",
       "\n",
       "    .dataframe thead th {\n",
       "        text-align: right;\n",
       "    }\n",
       "</style>\n",
       "<table border=\"1\" class=\"dataframe\">\n",
       "  <thead>\n",
       "    <tr style=\"text-align: right;\">\n",
       "      <th></th>\n",
       "      <th>timedelta</th>\n",
       "      <th>n_tokens_title</th>\n",
       "      <th>n_tokens_content</th>\n",
       "      <th>n_unique_tokens</th>\n",
       "      <th>n_non_stop_words</th>\n",
       "      <th>n_non_stop_unique_tokens</th>\n",
       "      <th>num_hrefs</th>\n",
       "      <th>num_self_hrefs</th>\n",
       "      <th>num_imgs</th>\n",
       "      <th>num_videos</th>\n",
       "      <th>...</th>\n",
       "      <th>min_positive_polarity</th>\n",
       "      <th>max_positive_polarity</th>\n",
       "      <th>avg_negative_polarity</th>\n",
       "      <th>min_negative_polarity</th>\n",
       "      <th>max_negative_polarity</th>\n",
       "      <th>title_subjectivity</th>\n",
       "      <th>title_sentiment_polarity</th>\n",
       "      <th>abs_title_subjectivity</th>\n",
       "      <th>abs_title_sentiment_polarity</th>\n",
       "      <th>shares</th>\n",
       "    </tr>\n",
       "  </thead>\n",
       "  <tbody>\n",
       "    <tr>\n",
       "      <th>0</th>\n",
       "      <td>731.0</td>\n",
       "      <td>12.0</td>\n",
       "      <td>219.0</td>\n",
       "      <td>0.663594</td>\n",
       "      <td>1.0</td>\n",
       "      <td>0.815385</td>\n",
       "      <td>4.0</td>\n",
       "      <td>2.0</td>\n",
       "      <td>593</td>\n",
       "      <td>593</td>\n",
       "      <td>...</td>\n",
       "      <td>0.100000</td>\n",
       "      <td>0.7</td>\n",
       "      <td>-0.350000</td>\n",
       "      <td>-0.600</td>\n",
       "      <td>-0.200000</td>\n",
       "      <td>0.500000</td>\n",
       "      <td>-0.187500</td>\n",
       "      <td>0.000000</td>\n",
       "      <td>0.187500</td>\n",
       "      <td>593</td>\n",
       "    </tr>\n",
       "    <tr>\n",
       "      <th>1</th>\n",
       "      <td>731.0</td>\n",
       "      <td>9.0</td>\n",
       "      <td>255.0</td>\n",
       "      <td>0.604743</td>\n",
       "      <td>1.0</td>\n",
       "      <td>0.791946</td>\n",
       "      <td>3.0</td>\n",
       "      <td>1.0</td>\n",
       "      <td>711</td>\n",
       "      <td>711</td>\n",
       "      <td>...</td>\n",
       "      <td>0.033333</td>\n",
       "      <td>0.7</td>\n",
       "      <td>-0.118750</td>\n",
       "      <td>-0.125</td>\n",
       "      <td>-0.100000</td>\n",
       "      <td>0.000000</td>\n",
       "      <td>0.000000</td>\n",
       "      <td>0.500000</td>\n",
       "      <td>0.000000</td>\n",
       "      <td>711</td>\n",
       "    </tr>\n",
       "    <tr>\n",
       "      <th>2</th>\n",
       "      <td>731.0</td>\n",
       "      <td>9.0</td>\n",
       "      <td>211.0</td>\n",
       "      <td>0.575130</td>\n",
       "      <td>1.0</td>\n",
       "      <td>0.663866</td>\n",
       "      <td>3.0</td>\n",
       "      <td>1.0</td>\n",
       "      <td>1500</td>\n",
       "      <td>1500</td>\n",
       "      <td>...</td>\n",
       "      <td>0.100000</td>\n",
       "      <td>1.0</td>\n",
       "      <td>-0.466667</td>\n",
       "      <td>-0.800</td>\n",
       "      <td>-0.133333</td>\n",
       "      <td>0.000000</td>\n",
       "      <td>0.000000</td>\n",
       "      <td>0.500000</td>\n",
       "      <td>0.000000</td>\n",
       "      <td>1500</td>\n",
       "    </tr>\n",
       "    <tr>\n",
       "      <th>3</th>\n",
       "      <td>731.0</td>\n",
       "      <td>9.0</td>\n",
       "      <td>531.0</td>\n",
       "      <td>0.503788</td>\n",
       "      <td>1.0</td>\n",
       "      <td>0.665635</td>\n",
       "      <td>9.0</td>\n",
       "      <td>0.0</td>\n",
       "      <td>1200</td>\n",
       "      <td>1200</td>\n",
       "      <td>...</td>\n",
       "      <td>0.136364</td>\n",
       "      <td>0.8</td>\n",
       "      <td>-0.369697</td>\n",
       "      <td>-0.600</td>\n",
       "      <td>-0.166667</td>\n",
       "      <td>0.000000</td>\n",
       "      <td>0.000000</td>\n",
       "      <td>0.500000</td>\n",
       "      <td>0.000000</td>\n",
       "      <td>1200</td>\n",
       "    </tr>\n",
       "    <tr>\n",
       "      <th>4</th>\n",
       "      <td>731.0</td>\n",
       "      <td>13.0</td>\n",
       "      <td>1072.0</td>\n",
       "      <td>0.415646</td>\n",
       "      <td>1.0</td>\n",
       "      <td>0.540890</td>\n",
       "      <td>19.0</td>\n",
       "      <td>19.0</td>\n",
       "      <td>505</td>\n",
       "      <td>505</td>\n",
       "      <td>...</td>\n",
       "      <td>0.033333</td>\n",
       "      <td>1.0</td>\n",
       "      <td>-0.220192</td>\n",
       "      <td>-0.500</td>\n",
       "      <td>-0.050000</td>\n",
       "      <td>0.454545</td>\n",
       "      <td>0.136364</td>\n",
       "      <td>0.045455</td>\n",
       "      <td>0.136364</td>\n",
       "      <td>505</td>\n",
       "    </tr>\n",
       "  </tbody>\n",
       "</table>\n",
       "<p>5 rows × 60 columns</p>\n",
       "</div>"
      ],
      "text/plain": [
       "    timedelta   n_tokens_title   n_tokens_content   n_unique_tokens  \\\n",
       "0       731.0             12.0              219.0          0.663594   \n",
       "1       731.0              9.0              255.0          0.604743   \n",
       "2       731.0              9.0              211.0          0.575130   \n",
       "3       731.0              9.0              531.0          0.503788   \n",
       "4       731.0             13.0             1072.0          0.415646   \n",
       "\n",
       "    n_non_stop_words   n_non_stop_unique_tokens   num_hrefs   num_self_hrefs  \\\n",
       "0                1.0                   0.815385         4.0              2.0   \n",
       "1                1.0                   0.791946         3.0              1.0   \n",
       "2                1.0                   0.663866         3.0              1.0   \n",
       "3                1.0                   0.665635         9.0              0.0   \n",
       "4                1.0                   0.540890        19.0             19.0   \n",
       "\n",
       "    num_imgs   num_videos  ...   min_positive_polarity  \\\n",
       "0        593          593  ...                0.100000   \n",
       "1        711          711  ...                0.033333   \n",
       "2       1500         1500  ...                0.100000   \n",
       "3       1200         1200  ...                0.136364   \n",
       "4        505          505  ...                0.033333   \n",
       "\n",
       "    max_positive_polarity   avg_negative_polarity   min_negative_polarity  \\\n",
       "0                     0.7               -0.350000                  -0.600   \n",
       "1                     0.7               -0.118750                  -0.125   \n",
       "2                     1.0               -0.466667                  -0.800   \n",
       "3                     0.8               -0.369697                  -0.600   \n",
       "4                     1.0               -0.220192                  -0.500   \n",
       "\n",
       "    max_negative_polarity   title_subjectivity   title_sentiment_polarity  \\\n",
       "0               -0.200000             0.500000                  -0.187500   \n",
       "1               -0.100000             0.000000                   0.000000   \n",
       "2               -0.133333             0.000000                   0.000000   \n",
       "3               -0.166667             0.000000                   0.000000   \n",
       "4               -0.050000             0.454545                   0.136364   \n",
       "\n",
       "    abs_title_subjectivity   abs_title_sentiment_polarity   shares  \n",
       "0                 0.000000                       0.187500      593  \n",
       "1                 0.500000                       0.000000      711  \n",
       "2                 0.500000                       0.000000     1500  \n",
       "3                 0.500000                       0.000000     1200  \n",
       "4                 0.045455                       0.136364      505  \n",
       "\n",
       "[5 rows x 60 columns]"
      ]
     },
     "execution_count": 37,
     "metadata": {},
     "output_type": "execute_result"
    }
   ],
   "source": [
    "df.head()"
   ]
  },
  {
   "cell_type": "markdown",
   "metadata": {},
   "source": [
    "In this cell I display the data type of features  object to int or float. "
   ]
  },
  {
   "cell_type": "code",
   "execution_count": 38,
   "metadata": {},
   "outputs": [
    {
     "data": {
      "text/plain": [
       " timedelta                        float64\n",
       " n_tokens_title                   float64\n",
       " n_tokens_content                 float64\n",
       " n_unique_tokens                  float64\n",
       " n_non_stop_words                 float64\n",
       " n_non_stop_unique_tokens         float64\n",
       " num_hrefs                        float64\n",
       " num_self_hrefs                   float64\n",
       " num_imgs                           int32\n",
       " num_videos                         int32\n",
       " average_token_length             float64\n",
       " num_keywords                     float64\n",
       " data_channel_is_lifestyle        float64\n",
       " data_channel_is_entertainment    float64\n",
       " data_channel_is_bus              float64\n",
       " data_channel_is_socmed           float64\n",
       " data_channel_is_tech             float64\n",
       " data_channel_is_world            float64\n",
       " kw_min_min                       float64\n",
       " kw_max_min                       float64\n",
       " kw_avg_min                       float64\n",
       " kw_min_max                       float64\n",
       " kw_max_max                       float64\n",
       " kw_avg_max                       float64\n",
       " kw_min_avg                       float64\n",
       " kw_max_avg                       float64\n",
       " kw_avg_avg                       float64\n",
       " self_reference_min_shares        float64\n",
       " self_reference_max_shares        float64\n",
       " self_reference_avg_sharess       float64\n",
       " weekday_is_monday                float64\n",
       " weekday_is_tuesday               float64\n",
       " weekday_is_wednesday             float64\n",
       " weekday_is_thursday              float64\n",
       " weekday_is_friday                float64\n",
       " weekday_is_saturday              float64\n",
       " weekday_is_sunday                  int32\n",
       " is_weekend                       float64\n",
       " LDA_00                           float64\n",
       " LDA_01                           float64\n",
       " LDA_02                           float64\n",
       " LDA_03                           float64\n",
       " LDA_04                           float64\n",
       " global_subjectivity              float64\n",
       " global_sentiment_polarity        float64\n",
       " global_rate_positive_words       float64\n",
       " global_rate_negative_words       float64\n",
       " rate_positive_words              float64\n",
       " rate_negative_words              float64\n",
       " avg_positive_polarity            float64\n",
       " min_positive_polarity            float64\n",
       " max_positive_polarity            float64\n",
       " avg_negative_polarity            float64\n",
       " min_negative_polarity            float64\n",
       " max_negative_polarity            float64\n",
       " title_subjectivity               float64\n",
       " title_sentiment_polarity         float64\n",
       " abs_title_subjectivity           float64\n",
       " abs_title_sentiment_polarity     float64\n",
       " shares                             int32\n",
       "dtype: object"
      ]
     },
     "execution_count": 38,
     "metadata": {},
     "output_type": "execute_result"
    }
   ],
   "source": [
    "df.dtypes"
   ]
  },
  {
   "cell_type": "code",
   "execution_count": 39,
   "metadata": {},
   "outputs": [],
   "source": [
    "# I read the article by the authors and I understood that the'timedelta' feature might be missleading. \n",
    "# So, I decided to remove it. \n",
    "\n",
    "df.drop([' timedelta'], axis=1, inplace=True)"
   ]
  },
  {
   "cell_type": "code",
   "execution_count": 65,
   "metadata": {},
   "outputs": [],
   "source": [
    "df.to_csv('cleaned_dataset.csv', index=False)"
   ]
  },
  {
   "cell_type": "code",
   "execution_count": 40,
   "metadata": {},
   "outputs": [],
   "source": [
    "from sklearn.preprocessing import KBinsDiscretizer\n"
   ]
  },
  {
   "cell_type": "code",
   "execution_count": 41,
   "metadata": {
    "id": "KF274XfZGXjk"
   },
   "outputs": [],
   "source": [
    "X = df.drop(' shares',axis=1)\n",
    "Y = df[' shares']\n",
    "\n",
    "dis = KBinsDiscretizer(n_bins=5, encode='ordinal', strategy='quantile')\n",
    "Y = dis.fit_transform(pd.DataFrame(Y))\n"
   ]
  },
  {
   "cell_type": "code",
   "execution_count": 42,
   "metadata": {},
   "outputs": [
    {
     "data": {
      "text/plain": [
       "array([0., 1., 2., 3., 4.])"
      ]
     },
     "execution_count": 42,
     "metadata": {},
     "output_type": "execute_result"
    }
   ],
   "source": [
    "np.unique(Y)"
   ]
  },
  {
   "cell_type": "markdown",
   "metadata": {},
   "source": [
    "In this section I split the dataset into train and test. I decided to put the Test set size 20% and the train set 80%.\n"
   ]
  },
  {
   "cell_type": "code",
   "execution_count": 43,
   "metadata": {},
   "outputs": [],
   "source": [
    "X_train, X_test, Y_train, Y_test = train_test_split(X,Y, test_size=0.2, random_state=0, stratify=Y)\n",
    "feature_names = X_train.columns"
   ]
  },
  {
   "cell_type": "markdown",
   "metadata": {},
   "source": [
    "To keep all the values of the train and test set in the same range, I perform feature scaling, with the StandardScaler function.\n"
   ]
  },
  {
   "cell_type": "code",
   "execution_count": 44,
   "metadata": {},
   "outputs": [],
   "source": [
    "from sklearn.preprocessing import StandardScaler\n",
    "\n",
    "scaler = StandardScaler()\n",
    "X_train = scaler.fit_transform(X_train)\n",
    "X_test = scaler.transform(X_test)"
   ]
  },
  {
   "cell_type": "markdown",
   "metadata": {},
   "source": [
    "I converted the target values from continuous feature to discrete feature(using the KBinsDiscretizer library) with 5 classes(from 0 to 4) using the strategy quantile in order to have the data balanced."
   ]
  },
  {
   "cell_type": "markdown",
   "metadata": {},
   "source": [
    "In the 2 cells below, I changed the shape of the train set and test set from 2 dimensional shape to 1 dimensional using the squeeze function to avoid possible errors. "
   ]
  },
  {
   "cell_type": "code",
   "execution_count": 45,
   "metadata": {},
   "outputs": [
    {
     "data": {
      "text/plain": [
       "(31707,)"
      ]
     },
     "execution_count": 45,
     "metadata": {},
     "output_type": "execute_result"
    }
   ],
   "source": [
    "Y_train = np.squeeze(Y_train)\n",
    "Y_train.shape"
   ]
  },
  {
   "cell_type": "code",
   "execution_count": 46,
   "metadata": {},
   "outputs": [
    {
     "data": {
      "text/plain": [
       "(7927,)"
      ]
     },
     "execution_count": 46,
     "metadata": {},
     "output_type": "execute_result"
    }
   ],
   "source": [
    "Y_test = np.squeeze(Y_test)\n",
    "Y_test.shape"
   ]
  },
  {
   "cell_type": "code",
   "execution_count": 47,
   "metadata": {},
   "outputs": [
    {
     "data": {
      "text/plain": [
       "(31707, 58)"
      ]
     },
     "execution_count": 47,
     "metadata": {},
     "output_type": "execute_result"
    }
   ],
   "source": [
    "X_train.shape"
   ]
  },
  {
   "cell_type": "markdown",
   "metadata": {},
   "source": [
    "To display the most important features in the dataset I use the RandomForestClassifier algorithm. Based on the impurity, it calculates the feature importance score for each feature."
   ]
  },
  {
   "cell_type": "code",
   "execution_count": 48,
   "metadata": {},
   "outputs": [
    {
     "data": {
      "text/plain": [
       "RandomForestClassifier(random_state=0)"
      ]
     },
     "execution_count": 48,
     "metadata": {},
     "output_type": "execute_result"
    }
   ],
   "source": [
    "forest = RandomForestClassifier(random_state=0)\n",
    "forest.fit(X_train, Y_train)"
   ]
  },
  {
   "cell_type": "code",
   "execution_count": 49,
   "metadata": {},
   "outputs": [],
   "source": [
    "importances = forest.feature_importances_\n",
    "std = np.std([tree.feature_importances_ for tree in forest.estimators_], axis=0)"
   ]
  },
  {
   "cell_type": "code",
   "execution_count": 50,
   "metadata": {
    "scrolled": true
   },
   "outputs": [
    {
     "data": {
      "text/plain": [
       "<Figure size 3600x3600 with 0 Axes>"
      ]
     },
     "metadata": {},
     "output_type": "display_data"
    },
    {
     "data": {
      "image/png": "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\n",
      "text/plain": [
       "<Figure size 432x288 with 1 Axes>"
      ]
     },
     "metadata": {
      "needs_background": "light"
     },
     "output_type": "display_data"
    }
   ],
   "source": [
    "feature_names\n",
    "plt.figure(figsize=(50,50))\n",
    "forest_importances = pd.Series(importances, index=feature_names)\n",
    "\n",
    "fig, ax = plt.subplots()\n",
    "forest_importances.plot.bar(yerr=std, ax=ax)\n",
    "ax.set_title(\"Feature importances using MDI\")\n",
    "ax.set_ylabel(\"Mean decrease in impurity\")\n",
    "fig.tight_layout()\n",
    "plt.savefig('Image.jpg')\n"
   ]
  },
  {
   "cell_type": "markdown",
   "metadata": {},
   "source": [
    "Here, I display the most important features.\n"
   ]
  },
  {
   "cell_type": "code",
   "execution_count": 51,
   "metadata": {},
   "outputs": [
    {
     "data": {
      "text/plain": [
       " num_videos                       0.311882\n",
       " num_imgs                         0.311546\n",
       " weekday_is_sunday                0.286785\n",
       " kw_avg_avg                       0.004950\n",
       " kw_max_avg                       0.004800\n",
       " self_reference_avg_sharess       0.003827\n",
       " LDA_02                           0.003351\n",
       " self_reference_min_shares        0.003269\n",
       " LDA_03                           0.002788\n",
       " LDA_04                           0.002714\n",
       " LDA_01                           0.002566\n",
       " self_reference_max_shares        0.002558\n",
       " LDA_00                           0.002471\n",
       " kw_avg_min                       0.002356\n",
       " kw_min_avg                       0.002323\n",
       " kw_avg_max                       0.002302\n",
       " n_unique_tokens                  0.002280\n",
       " n_tokens_content                 0.002275\n",
       " n_non_stop_unique_tokens         0.002265\n",
       " is_weekend                       0.002162\n",
       " global_sentiment_polarity        0.002084\n",
       " global_subjectivity              0.002083\n",
       " global_rate_positive_words       0.002019\n",
       " average_token_length             0.001992\n",
       " kw_max_min                       0.001988\n",
       " avg_positive_polarity            0.001919\n",
       " global_rate_negative_words       0.001743\n",
       " rate_negative_words              0.001713\n",
       " avg_negative_polarity            0.001702\n",
       " num_hrefs                        0.001668\n",
       " rate_positive_words              0.001602\n",
       " kw_min_max                       0.001334\n",
       " title_sentiment_polarity         0.001191\n",
       " n_tokens_title                   0.001190\n",
       " data_channel_is_entertainment    0.001187\n",
       " min_negative_polarity            0.001081\n",
       " min_positive_polarity            0.001063\n",
       " max_negative_polarity            0.001060\n",
       " abs_title_sentiment_polarity     0.001026\n",
       " title_subjectivity               0.001020\n",
       " num_self_hrefs                   0.001012\n",
       " data_channel_is_socmed           0.000981\n",
       " abs_title_subjectivity           0.000969\n",
       " data_channel_is_world            0.000912\n",
       " num_keywords                     0.000849\n",
       " max_positive_polarity            0.000813\n",
       " data_channel_is_tech             0.000776\n",
       " kw_max_max                       0.000774\n",
       " kw_min_min                       0.000722\n",
       " weekday_is_saturday              0.000643\n",
       " weekday_is_tuesday               0.000246\n",
       " weekday_is_wednesday             0.000245\n",
       " weekday_is_friday                0.000230\n",
       " weekday_is_monday                0.000210\n",
       " weekday_is_thursday              0.000201\n",
       " data_channel_is_bus              0.000178\n",
       " data_channel_is_lifestyle        0.000095\n",
       " n_non_stop_words                 0.000012\n",
       "dtype: float64"
      ]
     },
     "execution_count": 51,
     "metadata": {},
     "output_type": "execute_result"
    }
   ],
   "source": [
    "forest_importances.sort_values(ascending=False)"
   ]
  },
  {
   "cell_type": "markdown",
   "metadata": {},
   "source": [
    "Here I sort the features based on the importance they have in descending order.\n"
   ]
  },
  {
   "cell_type": "code",
   "execution_count": 52,
   "metadata": {},
   "outputs": [
    {
     "data": {
      "text/plain": [
       " num_videos                    0.311882\n",
       " num_imgs                      0.311546\n",
       " weekday_is_sunday             0.286785\n",
       " kw_avg_avg                    0.004950\n",
       " kw_max_avg                    0.004800\n",
       " self_reference_avg_sharess    0.003827\n",
       " LDA_02                        0.003351\n",
       " self_reference_min_shares     0.003269\n",
       " LDA_03                        0.002788\n",
       " LDA_04                        0.002714\n",
       "dtype: float64"
      ]
     },
     "execution_count": 52,
     "metadata": {},
     "output_type": "execute_result"
    }
   ],
   "source": [
    "forest_importances.sort_values(ascending=False)[:10]"
   ]
  },
  {
   "cell_type": "code",
   "execution_count": 53,
   "metadata": {},
   "outputs": [
    {
     "data": {
      "image/png": "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\n",
      "text/plain": [
       "<Figure size 432x288 with 1 Axes>"
      ]
     },
     "metadata": {
      "needs_background": "light"
     },
     "output_type": "display_data"
    }
   ],
   "source": [
    "from sklearn.decomposition import PCA\n",
    "\n",
    "# I perfom principal component analysis in train and test set\n",
    "pca = PCA()\n",
    "\n",
    "X_pca = pca.fit(X_train)\n",
    "X_train = pca.transform(X_train)\n",
    "X_test = pca.transform(X_test)\n",
    "\n",
    "# I determine the variance using explained_variance_ration_ attribute\n",
    "exp_var_pca = pca.explained_variance_ratio_\n",
    "\n",
    "# I perform here the cumulative sum of eigenvalues; This will be used to create step plot\n",
    "# for visualizing the variance explained by each principal component.\n",
    "cum_sum_eigenvalues = np.cumsum(exp_var_pca)\n",
    "\n",
    "# I create the visualization plot\n",
    "plt.bar(range(0,len(exp_var_pca)), exp_var_pca, alpha=0.5, align='center', label='Individual explained variance')\n",
    "\n",
    "plt.step(range(0,len(cum_sum_eigenvalues)), cum_sum_eigenvalues, where='mid',label='Cumulative explained variance')\n",
    "plt.ylabel('Explained variance ratio')\n",
    "plt.xlabel('Principal component index')\n",
    "plt.legend(loc='best')\n",
    "plt.tight_layout()\n",
    "plt.show()"
   ]
  },
  {
   "cell_type": "code",
   "execution_count": 54,
   "metadata": {},
   "outputs": [],
   "source": [
    "# I put the number of components 40\n",
    "\n",
    "pca = PCA(40)\n",
    "X_train = pca.fit_transform(X_train)\n",
    "X_test = pca.transform(X_test)"
   ]
  },
  {
   "cell_type": "markdown",
   "metadata": {
    "id": "75-Ey6w9GXjm"
   },
   "source": [
    "##### your comments for step 2.4 Feature importance analysis"
   ]
  },
  {
   "cell_type": "markdown",
   "metadata": {},
   "source": [
    "I will summarize here the steps I followed in the data cleaning phase and feature importance analysis as they are in detailed explained in each code snippet.\n",
    "\n",
    "The way i dealed with the noise in the dataset: I removed all the missing values in each and every row of the dataset. I noticed that some features had Object data types, so I converted every Object data type into float/int. I did this conversion as a machine learning algorithm is not capable of recognizing Object data types or strings. Then, I displayed each group of features of the dataset that are divided in: categorical features, numerical features(continuous and discrete). Here, i checked if they had still any missing values. I dropped the unimportant features such as ' url' and 'timedelta' as it negatively affected the performance of the models i trained. \n",
    "\n",
    "Then I performed discretization of the target with 5 classes and the quantile strategy to balance the dataset. I performed featured scaling to keep the feature values in the same range. \n",
    "\n",
    "Moreover, I printed the most important features that give enough information related to our prediction, by performing the RandomForestClassifier algorithm. Based on the impurity, it calculates the feature importance score for each feature. I can see the scores of each one of them by plotting the figure and also by printing each one of them precisely. By sorting them in the descending order, I notice that the first three feature scores are greater than all the other ones, which have a relatively small value. So, here I get a better understanding that these features have higher impact on the target compare to the others ones.\n",
    "\n",
    "In the end, I computed the principal component analysis(PCA) to 40, to reduce the dimensionality of the dataset without losing any important traits. "
   ]
  },
  {
   "cell_type": "markdown",
   "metadata": {
    "id": "kwNwlEvgGXjo"
   },
   "source": [
    "<hr>\n",
    "\n",
    "## 3. Model Selection (up to 8.2 of 11.2  points)\n",
    "In this part of the challenge you are requested to perform all the necessary steps required in order to design a full fledged classification task on the <b>shares</b> feature.\n",
    "\n",
    "You are requested to perform the following steps having in mind the following: \n",
    "\n",
    "1) the dataset must be properly splitted to perform crossvalidation \n",
    "\n",
    "2) when required, features must be properly encoded\n",
    "\n",
    "3) in order to simplify the problem the target feature can be dicretized <b>(number of classes must be >=5)</b> ;\n",
    "\n",
    "4) for model selection you are requested to consider: \n",
    "\n",
    "- Decision Trees\n",
    "\n",
    "- Support Vector Machines;\n",
    "\n",
    "- An ensamble methodology;\n",
    "\n",
    "- MLPNs.\n",
    "\n",
    "5) hyper-parameter tuning <b>must</b> be performed and discussed;\n",
    "\n",
    "6) apply standardizion and normalization when appropriate;\n",
    "\n",
    "7) remember to use an appropriate evaluation setting (cross-fold etc..)\n",
    "\n",
    "8) describe the measures adopted for the evaluation and discuss the results;\n",
    "\n",
    "9) provide a discussion of the model selection, where you describe the differences in terms of performance and explains the root causes;\n"
   ]
  },
  {
   "cell_type": "code",
   "execution_count": 586,
   "metadata": {},
   "outputs": [
    {
     "data": {
      "text/plain": [
       "0.37605651570581555"
      ]
     },
     "execution_count": 586,
     "metadata": {},
     "output_type": "execute_result"
    }
   ],
   "source": [
    "# 1) I perform the Decision Tree algorithm\n",
    "\n",
    "from sklearn.tree import DecisionTreeClassifier\n",
    "from sklearn.metrics import accuracy_score\n",
    "\n",
    "dt = DecisionTreeClassifier(random_state=0)\n",
    "dt.fit(X_train, Y_train)\n",
    "\n",
    "pred_test = dt.predict(X_test)\n",
    "accuracy_score(Y_test, pred_test)"
   ]
  },
  {
   "cell_type": "code",
   "execution_count": 587,
   "metadata": {},
   "outputs": [
    {
     "name": "stdout",
     "output_type": "stream",
     "text": [
      "              precision    recall  f1-score   support\n",
      "\n",
      "         0.0       0.33      0.33      0.33      1585\n",
      "         1.0       0.23      0.23      0.23      1360\n",
      "         2.0       0.28      0.28      0.28      1764\n",
      "         3.0       0.32      0.33      0.33      1602\n",
      "         4.0       0.70      0.70      0.70      1616\n",
      "\n",
      "    accuracy                           0.38      7927\n",
      "   macro avg       0.37      0.37      0.37      7927\n",
      "weighted avg       0.38      0.38      0.38      7927\n",
      "\n"
     ]
    }
   ],
   "source": [
    "# Here i perform the confusion matrix and see the performance of the decision tree.\n",
    "\n",
    "from sklearn.metrics import classification_report\n",
    "print(classification_report(Y_test, pred_test))"
   ]
  },
  {
   "cell_type": "code",
   "execution_count": 593,
   "metadata": {},
   "outputs": [
    {
     "data": {
      "text/plain": [
       "array([4., 2., 2., ..., 0., 3., 3.])"
      ]
     },
     "execution_count": 593,
     "metadata": {},
     "output_type": "execute_result"
    }
   ],
   "source": [
    "Y_test"
   ]
  },
  {
   "cell_type": "code",
   "execution_count": 602,
   "metadata": {},
   "outputs": [
    {
     "name": "stderr",
     "output_type": "stream",
     "text": [
      "C:\\Anaconda3\\lib\\site-packages\\sklearn\\model_selection\\_search.py:292: UserWarning: The total space of parameters 20 is smaller than n_iter=30. Running 20 iterations. For exhaustive searches, use GridSearchCV.\n",
      "  warnings.warn(\n"
     ]
    },
    {
     "data": {
      "text/plain": [
       "RandomizedSearchCV(cv=5, estimator=DecisionTreeClassifier(random_state=0),\n",
       "                   n_iter=30, n_jobs=-1,\n",
       "                   param_distributions={'max_depth': [5, 10, 15, 20, None],\n",
       "                                        'max_features': ['auto', 'sqrt', 'log2',\n",
       "                                                         None]},\n",
       "                   scoring='accuracy')"
      ]
     },
     "execution_count": 602,
     "metadata": {},
     "output_type": "execute_result"
    }
   ],
   "source": [
    "# Hyper-parameter tuning for Decision tree\n",
    "\n",
    "from sklearn.model_selection import RandomizedSearchCV\n",
    "\n",
    "params = {'max_depth' : [5, 10, 15, 20, None],\n",
    "          'max_features' : ['auto', 'sqrt', 'log2', None]\n",
    "          }\n",
    "search = RandomizedSearchCV(DecisionTreeClassifier(random_state=0), params, scoring='accuracy', n_iter=30,\n",
    "                                                    n_jobs=-1, cv=5)\n",
    "\n",
    "search.fit(X_train, Y_train)"
   ]
  },
  {
   "cell_type": "code",
   "execution_count": 603,
   "metadata": {},
   "outputs": [
    {
     "data": {
      "text/plain": [
       "{'max_features': None, 'max_depth': 10}"
      ]
     },
     "execution_count": 603,
     "metadata": {},
     "output_type": "execute_result"
    }
   ],
   "source": [
    "# I display the best parameters of the DT\n",
    "\n",
    "search.best_params_"
   ]
  },
  {
   "cell_type": "code",
   "execution_count": 604,
   "metadata": {},
   "outputs": [
    {
     "data": {
      "text/plain": [
       "0.3836692484639045"
      ]
     },
     "execution_count": 604,
     "metadata": {},
     "output_type": "execute_result"
    }
   ],
   "source": [
    "# From hyper-parameter tuning, I receive the best value which is printed below:\n",
    "\n",
    "search.best_score_"
   ]
  },
  {
   "cell_type": "code",
   "execution_count": 605,
   "metadata": {},
   "outputs": [
    {
     "data": {
      "text/plain": [
       "DecisionTreeClassifier(max_depth=10, random_state=0)"
      ]
     },
     "execution_count": 605,
     "metadata": {},
     "output_type": "execute_result"
    }
   ],
   "source": [
    "# Parameters that estimate better the model\n",
    "\n",
    "search.best_estimator_"
   ]
  },
  {
   "cell_type": "code",
   "execution_count": 619,
   "metadata": {},
   "outputs": [
    {
     "name": "stdout",
     "output_type": "stream",
     "text": [
      "Fitting 5 folds for each of 10 candidates, totalling 50 fits\n"
     ]
    },
    {
     "data": {
      "text/plain": [
       "RandomizedSearchCV(estimator=SVC(random_state=0), n_jobs=-1,\n",
       "                   param_distributions={'C': [1, 3, 4, 5, 7],\n",
       "                                        'kernel': ['linear', 'rbf']},\n",
       "                   scoring='accuracy', verbose=10)"
      ]
     },
     "execution_count": 619,
     "metadata": {},
     "output_type": "execute_result"
    }
   ],
   "source": [
    "# Hyper-parameter tuning SVC\n",
    "\n",
    "from sklearn.svm import SVC\n",
    "\n",
    "params = { 'C' : [1, 3, 4, 5, 7],\n",
    "           'kernel' : ['linear', 'rbf']\n",
    "          }\n",
    "\n",
    "search = RandomizedSearchCV(SVC(random_state=0), params, scoring='accuracy', n_iter=10, n_jobs=-1, verbose=10)\n",
    "\n",
    "search.fit(X_train, Y_train)"
   ]
  },
  {
   "cell_type": "code",
   "execution_count": 620,
   "metadata": {},
   "outputs": [
    {
     "data": {
      "text/plain": [
       "{'kernel': 'linear', 'C': 7}"
      ]
     },
     "execution_count": 620,
     "metadata": {},
     "output_type": "execute_result"
    }
   ],
   "source": [
    "search.best_params_"
   ]
  },
  {
   "cell_type": "code",
   "execution_count": 621,
   "metadata": {
    "id": "ZjNKA4LvGXjq"
   },
   "outputs": [
    {
     "data": {
      "text/plain": [
       "0.9835367593409183"
      ]
     },
     "execution_count": 621,
     "metadata": {},
     "output_type": "execute_result"
    }
   ],
   "source": [
    "search.best_score_"
   ]
  },
  {
   "cell_type": "code",
   "execution_count": 616,
   "metadata": {},
   "outputs": [
    {
     "name": "stdout",
     "output_type": "stream",
     "text": [
      "Fitting 5 folds for each of 2 candidates, totalling 10 fits\n"
     ]
    },
    {
     "data": {
      "text/plain": [
       "RandomizedSearchCV(estimator=MLPClassifier(random_state=0), n_iter=2, n_jobs=-1,\n",
       "                   param_distributions={'activation': ['tanh', 'relu'],\n",
       "                                        'alpha': [0.0001, 0.05],\n",
       "                                        'hidden_layer_sizes': [(60, 50, 5),\n",
       "                                                               (60, 100, 5),\n",
       "                                                               (60, 150, 5)],\n",
       "                                        'learning_rate': ['constant',\n",
       "                                                          'adaptive'],\n",
       "                                        'max_iter': [1000],\n",
       "                                        'solver': ['sgd', 'adam']},\n",
       "                   scoring='accuracy', verbose=10)"
      ]
     },
     "execution_count": 616,
     "metadata": {},
     "output_type": "execute_result"
    }
   ],
   "source": [
    "# Hyper-parameter tuning for MLPNs:\n",
    "\n",
    "params = {\n",
    "    'hidden_layer_sizes': [(60,50,5), (60,100,5), (60,150,5)],\n",
    "    'activation': ['tanh', 'relu'],\n",
    "    'solver': ['sgd', 'adam'],\n",
    "    'alpha': [0.0001, 0.05],\n",
    "    'learning_rate': ['constant','adaptive'],\n",
    "    'max_iter': [1000]\n",
    "}\n",
    "\n",
    "search = RandomizedSearchCV(MLPClassifier(random_state=0), params, scoring='accuracy', n_iter=2, n_jobs=-1, verbose=10)\n",
    "\n",
    "search.fit(X_train, Y_train)"
   ]
  },
  {
   "cell_type": "code",
   "execution_count": 617,
   "metadata": {},
   "outputs": [
    {
     "data": {
      "text/plain": [
       "{'solver': 'sgd',\n",
       " 'max_iter': 1000,\n",
       " 'learning_rate': 'adaptive',\n",
       " 'hidden_layer_sizes': (60, 150, 5),\n",
       " 'alpha': 0.0001,\n",
       " 'activation': 'tanh'}"
      ]
     },
     "execution_count": 617,
     "metadata": {},
     "output_type": "execute_result"
    }
   ],
   "source": [
    "search.best_params_"
   ]
  },
  {
   "cell_type": "code",
   "execution_count": 618,
   "metadata": {},
   "outputs": [
    {
     "data": {
      "text/plain": [
       "0.9816128521610871"
      ]
     },
     "execution_count": 618,
     "metadata": {},
     "output_type": "execute_result"
    }
   ],
   "source": [
    "search.best_score_"
   ]
  },
  {
   "cell_type": "code",
   "execution_count": 612,
   "metadata": {},
   "outputs": [
    {
     "name": "stderr",
     "output_type": "stream",
     "text": [
      "C:\\Anaconda3\\lib\\site-packages\\sklearn\\model_selection\\_search.py:292: UserWarning: The total space of parameters 9 is smaller than n_iter=10. Running 9 iterations. For exhaustive searches, use GridSearchCV.\n",
      "  warnings.warn(\n"
     ]
    },
    {
     "name": "stdout",
     "output_type": "stream",
     "text": [
      "Fitting 5 folds for each of 9 candidates, totalling 45 fits\n"
     ]
    },
    {
     "data": {
      "text/plain": [
       "RandomizedSearchCV(estimator=RandomForestClassifier(random_state=0), n_jobs=-1,\n",
       "                   param_distributions={'max_features': ['sqrt', 'log2', None],\n",
       "                                        'n_estimators': [10, 100, 1000]},\n",
       "                   scoring='accuracy', verbose=10)"
      ]
     },
     "execution_count": 612,
     "metadata": {},
     "output_type": "execute_result"
    }
   ],
   "source": [
    "# Ensemble methodology\n",
    "\n",
    "from sklearn.ensemble import RandomForestClassifier\n",
    "\n",
    "rf_param = {'n_estimators':[10,100,1000],'max_features':['sqrt','log2', None]}\n",
    "\n",
    "search = RandomizedSearchCV(RandomForestClassifier(random_state=0), rf_param, scoring='accuracy', \n",
    "                                                   n_iter=10, n_jobs=-1, verbose=10)\n",
    "\n",
    "search.fit(X_train, Y_train)"
   ]
  },
  {
   "cell_type": "code",
   "execution_count": 613,
   "metadata": {},
   "outputs": [
    {
     "data": {
      "text/plain": [
       "{'n_estimators': 1000, 'max_features': None}"
      ]
     },
     "execution_count": 613,
     "metadata": {},
     "output_type": "execute_result"
    }
   ],
   "source": [
    "search.best_params_"
   ]
  },
  {
   "cell_type": "code",
   "execution_count": 614,
   "metadata": {},
   "outputs": [
    {
     "data": {
      "text/plain": [
       "0.4688863767014893"
      ]
     },
     "execution_count": 614,
     "metadata": {},
     "output_type": "execute_result"
    }
   ],
   "source": [
    "search.best_score_"
   ]
  },
  {
   "cell_type": "markdown",
   "metadata": {
    "id": "aqA7VwU-GXjr"
   },
   "source": [
    "##### write here your comments for step 3 Model Selection"
   ]
  },
  {
   "cell_type": "markdown",
   "metadata": {},
   "source": [
    "- I firstly I fitted the decision tree algorithm and perfomed hyper-parameter tuning by using the RandomizedSearchCV method. From this I got the best hyperparameters for the DT - i got the results that the best parameters are max_features: None and the limit of depth should be 10.\n",
    "- Then, I computed the hyperparameters for the SVM - I got the results that the method should be linear and C should be 7.\n",
    "- From MLPNs Hyper-parameter tuning i got these results that were the best: 'solver' = 'sgd', 'max_iter' = 1000, \n",
    "  'learning_rate' = 'adaptive', 'hidden_layer_sizes' = (60, 150, 5), 'alpha' = 0.0001, 'activation' =  'tanh'.\n",
    "- For the Ensemble methodology/RF i got the following best results:number of estimators should be 1000 and 'max_features': None.\n",
    "The results are already implemented above and the selection is described in the last part of the challenge."
   ]
  },
  {
   "cell_type": "markdown",
   "metadata": {
    "id": "N9_mnEX0GXjt"
   },
   "source": [
    "<hr>\n",
    "\n",
    "# 4. Summary\n",
    "Provide a summary discussion (in English) of your solution <b>(at least 500 words)</b> feel free to include plots figures and tables.\n",
    "\n",
    "<b>This is a mandatory step</b>"
   ]
  },
  {
   "cell_type": "markdown",
   "metadata": {
    "id": "yPrIgAwhGXju"
   },
   "source": [
    "write here <b>your own</b> summary dicussion (in English) use at least 500 words. "
   ]
  },
  {
   "cell_type": "markdown",
   "metadata": {},
   "source": [
    "The main objective of this project was to predict the number of shares in social networks (popularity). To prepare the data for training I have performed these steps: (note: each of the below mentioned phase is explained in detail in each snippet precisely)\n",
    "\n",
    "* First phase: Data Cleaning   \n",
    " \n",
    " Firstly, I tried to load the dataset where I had to deal with some noise because the dataset could not be loaded perfectly with the first try as it contained an extra column. After fixing this issue, I perfeclty loaded the dataset. I noticed that the dataset contained several types of noises like null, 'nan' and NAN values which I surely removed all of them. I also dropped every null value in those rows of the dataset which had at least one missing value. The other type of problem that i dealt with was interesting as different features had Object data types, other had String type instead of integers, and nan values. Since, a machine learning algorithm cannot understand the Object data types, I converted the type of the numerical features into integers. After making sure that this conversion went well I proceeded next with the separation of the features into specific groups: numerical features (discrete and continuous) and categorical features. I computed the total number of each group of the features and the length of each one of them to have a better overview of them. I also dropped the unimportant features such as ‘url’ as it did not give any important information for our target.\n",
    "    \n",
    "    \n",
    "* Second phase: Data Preprocessing\n",
    "\n",
    "The next step I followed: is the split of the data into training and testing. I decided to put the test set size 20% and the train set 80%. To keep all the values of the train and test set in the same range, I performed feature scaling. Then, I converted the target values from continuous feature to discrete feature by using the KBinsDiscretizer library with 5 classes (from 0 to 4) using the strategy ‘quantile’ in order to have the data balanced. Also, I printed the most important features in the dataset by using the RandomForestClassifier algorithm. Based on the impurity, it calculates the score for each feature. The results i got were as follows: num_videos = 0.311882, num_imgs = 0.311546, weekday_is_sunday = 0.286785. So, here I got a better overview of the features(the first three in this case) by plotting a figure and also by printing each one of their values that give a valuable information about our prediction.  When I had a look in the article, I observed that 'timedelta' feature might be missleading to our target'. Hence, it gave a bad performance on our model and I decided to remove it. In order to try to deal with the categorical features issue, I tried to use PCA but the results were not good enough. \n",
    "\n",
    "\n",
    "* Third phase: Model Selection\n",
    "\n",
    "In model selection phase, I performed hyperparameter tuning using RandomizedSearchCV to choose the best parameters and the best scores for all our learning algorithms.I performed cross validation in all the models with k-fold default which is 5. In the end, I did the comparison between the models I trained and I selected the best one which is SVC. I chose this model, because its accuracy was the highest among others and with the smallest variance.  \n",
    "    \n",
    "    "
   ]
  },
  {
   "cell_type": "markdown",
   "metadata": {
    "id": "0uBpNP8_GXjw"
   },
   "source": [
    " "
   ]
  }
 ],
 "metadata": {
  "colab": {
   "name": "ML_Challenge_21-22.ipynb",
   "provenance": []
  },
  "kernelspec": {
   "display_name": "Python 3",
   "language": "python",
   "name": "python3"
  },
  "language_info": {
   "codemirror_mode": {
    "name": "ipython",
    "version": 3
   },
   "file_extension": ".py",
   "mimetype": "text/x-python",
   "name": "python",
   "nbconvert_exporter": "python",
   "pygments_lexer": "ipython3",
   "version": "3.8.8"
  }
 },
 "nbformat": 4,
 "nbformat_minor": 1
}
